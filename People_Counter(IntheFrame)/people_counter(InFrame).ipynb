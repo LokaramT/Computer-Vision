{
 "cells": [
  {
   "cell_type": "code",
   "execution_count": 1,
   "metadata": {},
   "outputs": [],
   "source": [
    "from ultralytics import YOLO\n",
    "import cv2\n",
    "import torch\n",
    "import torchvision\n"
   ]
  },
  {
   "cell_type": "code",
   "execution_count": 2,
   "metadata": {},
   "outputs": [],
   "source": [
    "import math\n",
    "from sort import *  #It is used to track the objects"
   ]
  },
  {
   "cell_type": "code",
   "execution_count": 3,
   "metadata": {},
   "outputs": [],
   "source": [
    "class_names = []\n",
    "with open('coco-labels.txt', 'r') as f:\n",
    "    for label in range(0,80):\n",
    "        class_names.append(str(f.readline()[:-1]))"
   ]
  },
  {
   "cell_type": "code",
   "execution_count": 4,
   "metadata": {},
   "outputs": [
    {
     "data": {
      "text/plain": [
       "['person', 'bicycle', 'car', 'motorcycle', 'airplane']"
      ]
     },
     "execution_count": 4,
     "metadata": {},
     "output_type": "execute_result"
    }
   ],
   "source": [
    "class_names[:5]"
   ]
  },
  {
   "cell_type": "code",
   "execution_count": 6,
   "metadata": {},
   "outputs": [],
   "source": [
    "# Basically, we are trying to count objects once it crosses this limit (it varies).\n",
    "line_limits = [400, 297, 673, 297]\n"
   ]
  },
  {
   "attachments": {},
   "cell_type": "markdown",
   "metadata": {},
   "source": [
    "##### Making a tracker"
   ]
  },
  {
   "attachments": {},
   "cell_type": "markdown",
   "metadata": {},
   "source": [
    "Max_age defines the waiting time(patience) for the same object to appear on the frame again."
   ]
  },
  {
   "cell_type": "code",
   "execution_count": 5,
   "metadata": {},
   "outputs": [],
   "source": [
    "tracker1 = Sort(max_age=20, min_hits=3, iou_threshold=0.3)"
   ]
  },
  {
   "attachments": {},
   "cell_type": "markdown",
   "metadata": {},
   "source": [
    "#### People Counter"
   ]
  },
  {
   "cell_type": "code",
   "execution_count": 46,
   "metadata": {},
   "outputs": [
    {
     "name": "stderr",
     "output_type": "stream",
     "text": [
      "\n",
      "0: 384x640 9 persons, 1 train, 1 truck, 8 handbags, 278.8ms\n",
      "Speed: 4.0ms preprocess, 278.8ms inference, 6.3ms postprocess per image at shape (1, 3, 384, 640)\n",
      "\n",
      "0: 384x640 9 persons, 1 train, 7 handbags, 268.6ms\n",
      "Speed: 4.1ms preprocess, 268.6ms inference, 6.0ms postprocess per image at shape (1, 3, 384, 640)\n",
      "\n",
      "0: 384x640 9 persons, 1 train, 8 handbags, 243.9ms\n",
      "Speed: 8.3ms preprocess, 243.9ms inference, 9.0ms postprocess per image at shape (1, 3, 384, 640)\n",
      "\n",
      "0: 384x640 9 persons, 1 train, 9 handbags, 269.6ms\n",
      "Speed: 8.9ms preprocess, 269.6ms inference, 2.5ms postprocess per image at shape (1, 3, 384, 640)\n",
      "\n",
      "0: 384x640 9 persons, 1 train, 8 handbags, 1 tv, 106.2ms\n",
      "Speed: 5.5ms preprocess, 106.2ms inference, 3.0ms postprocess per image at shape (1, 3, 384, 640)\n",
      "\n",
      "0: 384x640 11 persons, 10 handbags, 1 tv, 124.2ms\n",
      "Speed: 7.5ms preprocess, 124.2ms inference, 0.0ms postprocess per image at shape (1, 3, 384, 640)\n",
      "\n",
      "0: 384x640 9 persons, 8 handbags, 1 tv, 110.5ms\n",
      "Speed: 2.0ms preprocess, 110.5ms inference, 0.0ms postprocess per image at shape (1, 3, 384, 640)\n",
      "\n",
      "0: 384x640 12 persons, 1 train, 9 handbags, 1 tv, 129.5ms\n",
      "Speed: 0.0ms preprocess, 129.5ms inference, 8.9ms postprocess per image at shape (1, 3, 384, 640)\n",
      "\n",
      "0: 384x640 11 persons, 9 handbags, 1 tv, 112.2ms\n",
      "Speed: 8.6ms preprocess, 112.2ms inference, 0.0ms postprocess per image at shape (1, 3, 384, 640)\n",
      "\n",
      "0: 384x640 11 persons, 1 train, 7 handbags, 2 tvs, 124.4ms\n",
      "Speed: 0.0ms preprocess, 124.4ms inference, 0.0ms postprocess per image at shape (1, 3, 384, 640)\n",
      "\n",
      "0: 384x640 12 persons, 1 train, 1 backpack, 6 handbags, 1 suitcase, 113.6ms\n",
      "Speed: 8.1ms preprocess, 113.6ms inference, 0.0ms postprocess per image at shape (1, 3, 384, 640)\n",
      "\n",
      "0: 384x640 13 persons, 1 train, 1 backpack, 6 handbags, 114.2ms\n",
      "Speed: 0.0ms preprocess, 114.2ms inference, 0.0ms postprocess per image at shape (1, 3, 384, 640)\n",
      "\n",
      "0: 384x640 13 persons, 1 train, 1 backpack, 3 handbags, 1 suitcase, 1 tv, 157.6ms\n",
      "Speed: 0.0ms preprocess, 157.6ms inference, 1.6ms postprocess per image at shape (1, 3, 384, 640)\n",
      "\n",
      "0: 384x640 12 persons, 1 train, 3 handbags, 1 suitcase, 1 tv, 127.5ms\n",
      "Speed: 0.0ms preprocess, 127.5ms inference, 2.0ms postprocess per image at shape (1, 3, 384, 640)\n",
      "\n",
      "0: 384x640 12 persons, 1 train, 5 handbags, 1 tv, 120.3ms\n",
      "Speed: 0.0ms preprocess, 120.3ms inference, 0.0ms postprocess per image at shape (1, 3, 384, 640)\n",
      "\n",
      "0: 384x640 11 persons, 1 train, 4 handbags, 1 suitcase, 1 tv, 110.5ms\n",
      "Speed: 1.0ms preprocess, 110.5ms inference, 2.5ms postprocess per image at shape (1, 3, 384, 640)\n",
      "\n",
      "0: 384x640 11 persons, 1 train, 3 handbags, 2 tvs, 100.5ms\n",
      "Speed: 3.4ms preprocess, 100.5ms inference, 0.0ms postprocess per image at shape (1, 3, 384, 640)\n",
      "\n",
      "0: 384x640 11 persons, 1 train, 2 handbags, 2 tvs, 104.8ms\n",
      "Speed: 0.0ms preprocess, 104.8ms inference, 0.0ms postprocess per image at shape (1, 3, 384, 640)\n",
      "\n",
      "0: 384x640 8 persons, 1 train, 2 handbags, 1 tv, 105.6ms\n",
      "Speed: 0.0ms preprocess, 105.6ms inference, 0.0ms postprocess per image at shape (1, 3, 384, 640)\n",
      "\n",
      "0: 384x640 11 persons, 1 train, 2 handbags, 1 suitcase, 1 tv, 105.8ms\n",
      "Speed: 0.0ms preprocess, 105.8ms inference, 8.6ms postprocess per image at shape (1, 3, 384, 640)\n",
      "\n",
      "0: 384x640 13 persons, 1 train, 4 handbags, 1 tv, 116.6ms\n",
      "Speed: 2.0ms preprocess, 116.6ms inference, 1.0ms postprocess per image at shape (1, 3, 384, 640)\n",
      "\n",
      "0: 384x640 8 persons, 1 train, 2 handbags, 1 tv, 107.0ms\n",
      "Speed: 5.8ms preprocess, 107.0ms inference, 0.0ms postprocess per image at shape (1, 3, 384, 640)\n",
      "\n",
      "0: 384x640 10 persons, 1 train, 3 handbags, 106.2ms\n",
      "Speed: 0.0ms preprocess, 106.2ms inference, 8.0ms postprocess per image at shape (1, 3, 384, 640)\n",
      "\n",
      "0: 384x640 10 persons, 1 train, 4 handbags, 1 tv, 121.1ms\n",
      "Speed: 0.0ms preprocess, 121.1ms inference, 8.0ms postprocess per image at shape (1, 3, 384, 640)\n",
      "\n",
      "0: 384x640 11 persons, 1 train, 3 handbags, 1 tv, 105.1ms\n",
      "Speed: 8.0ms preprocess, 105.1ms inference, 8.0ms postprocess per image at shape (1, 3, 384, 640)\n",
      "\n",
      "0: 384x640 12 persons, 1 train, 2 handbags, 1 tv, 98.0ms\n",
      "Speed: 2.0ms preprocess, 98.0ms inference, 0.0ms postprocess per image at shape (1, 3, 384, 640)\n",
      "\n",
      "0: 384x640 11 persons, 1 train, 1 backpack, 4 handbags, 112.7ms\n",
      "Speed: 0.0ms preprocess, 112.7ms inference, 0.0ms postprocess per image at shape (1, 3, 384, 640)\n",
      "\n",
      "0: 384x640 12 persons, 2 trains, 5 handbags, 113.6ms\n",
      "Speed: 0.0ms preprocess, 113.6ms inference, 0.0ms postprocess per image at shape (1, 3, 384, 640)\n",
      "\n",
      "0: 384x640 11 persons, 2 trains, 3 handbags, 105.6ms\n",
      "Speed: 0.0ms preprocess, 105.6ms inference, 0.0ms postprocess per image at shape (1, 3, 384, 640)\n",
      "\n",
      "0: 384x640 9 persons, 1 train, 3 handbags, 103.0ms\n",
      "Speed: 0.0ms preprocess, 103.0ms inference, 8.0ms postprocess per image at shape (1, 3, 384, 640)\n",
      "\n",
      "0: 384x640 8 persons, 1 train, 1 backpack, 6 handbags, 110.7ms\n",
      "Speed: 0.0ms preprocess, 110.7ms inference, 0.0ms postprocess per image at shape (1, 3, 384, 640)\n",
      "\n",
      "0: 384x640 9 persons, 1 train, 1 backpack, 3 handbags, 105.2ms\n",
      "Speed: 7.5ms preprocess, 105.2ms inference, 0.0ms postprocess per image at shape (1, 3, 384, 640)\n",
      "\n",
      "0: 384x640 9 persons, 1 train, 1 backpack, 2 handbags, 138.2ms\n",
      "Speed: 16.0ms preprocess, 138.2ms inference, 0.0ms postprocess per image at shape (1, 3, 384, 640)\n"
     ]
    }
   ],
   "source": [
    "# Using video file\n",
    "cap = cv2.VideoCapture('People.mp4')\n",
    "\n",
    "total_count = []\n",
    "id_set = set()\n",
    "line_limits = [0, 500, 1280, 500]\n",
    "while True:\n",
    "    success, img = cap.read()\n",
    "    img = cv2.resize(img, (1280, 720))\n",
    "    model = YOLO('../Yolo-weights/yolov8n.pt')\n",
    "    results = model(img, stream=True)\n",
    "\n",
    "    detections = np.empty((0,5))\n",
    "\n",
    "    # Bounding Box\n",
    "    for r in results:\n",
    "        boxes = r.boxes\n",
    "        for box in boxes:\n",
    "            x1, y1, x2, y2 = map(int, box.xyxy[0])\n",
    "            #cv2.rectangle(img, (x1, y1), (x2, y2), (255, 0, 255), 3)\n",
    "\n",
    "            # Confidence\n",
    "            conf = math.ceil(box.conf[0]*100)/100\n",
    "\n",
    "            # Class Name\n",
    "            cls = int(box.cls[0])\n",
    "            current_c = class_names[cls]\n",
    "\n",
    "            if current_c == 'person' and conf > 0.3:\n",
    "                \n",
    "                cv2.rectangle(img, (x1, y1), (x2, y2), (255, 0, 255), 3)\n",
    "                currentArray = np.array([x1, y1, x2, y2, conf])\n",
    "                detections = np.vstack((detections, currentArray))\n",
    "                cv2.putText(\n",
    "                            img,\n",
    "                            f'Label: {current_c}, Confidence: {conf}',\n",
    "                            (max(0,x1), max(35, y1-10)),   # Making it 35 so that label won't go outside the window\n",
    "                            fontFace = cv2.FONT_HERSHEY_SIMPLEX,\n",
    "                            fontScale = 0.6,\n",
    "                            color = (255, 0, 255),\n",
    "                            thickness=2\n",
    "                        )\n",
    "    resultsTracker = tracker1.update(detections)\n",
    "\n",
    "    \n",
    "    for result_tr in resultsTracker:\n",
    "        x1, y1, x2, y2, id = map(int, result_tr)\n",
    "        w, h = x2 - x1, y2 - y1\n",
    "        cv2.rectangle(img, (x1, y1), (x2, y2), (125, 125, 0), 3)\n",
    "        cv2.putText(img, f'Currently tracking Object ID: {id}', (max(0, x1+5), max(20, y1+25)), fontFace=cv2.FONT_ITALIC,\n",
    "                    fontScale=0.6, color=(255,255,255), thickness=1)\n",
    "        id_set.add(id)\n",
    "\n",
    "\n",
    "    #counter = len(total_count)\n",
    "    counter = len(id_set)        \n",
    "    cv2.putText(img, f'Count: {counter}', (50, 650), fontFace=cv2.FONT_HERSHEY_COMPLEX,\n",
    "                   fontScale=1, color=(0,0,125), thickness=2)    \n",
    "\n",
    "    cv2.imshow(\"Image\", img)\n",
    "    # cv2.waitKey(1)\n",
    "    if cv2.waitKey(1) & 0xFF == ord('q'):\n",
    "        break\n",
    "cap.release()\n",
    "cv2.destroyAllWindows()\n"
   ]
  },
  {
   "attachments": {},
   "cell_type": "markdown",
   "metadata": {},
   "source": [
    "##### Observations:\n",
    "\n",
    "* Here we are using YOLOv8n to count people in the camera's field of view.\n",
    "* Though it is working well, accuracy is not reliable due to occlusion and overcrowding.\n",
    "* One of the solution is to face the camera at a good vantage point depending upon the objective."
   ]
  }
 ],
 "metadata": {
  "kernelspec": {
   "display_name": "objectDetection",
   "language": "python",
   "name": "python3"
  },
  "language_info": {
   "codemirror_mode": {
    "name": "ipython",
    "version": 3
   },
   "file_extension": ".py",
   "mimetype": "text/x-python",
   "name": "python",
   "nbconvert_exporter": "python",
   "pygments_lexer": "ipython3",
   "version": "3.11.3"
  },
  "orig_nbformat": 4
 },
 "nbformat": 4,
 "nbformat_minor": 2
}
