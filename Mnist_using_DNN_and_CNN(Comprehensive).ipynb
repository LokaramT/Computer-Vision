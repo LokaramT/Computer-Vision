{
  "cells": [
    {
      "cell_type": "markdown",
      "metadata": {
        "id": "3fNB1lTHxwFd"
      },
      "source": [
        "### Importing Required libraries\n",
        "\n",
        "\n",
        "\n",
        "*   Importing pytorch - Pytorch is a Deep Learning framework based on python programming language and torch library.\n",
        "*   Importing torch.nn module to implement neural network architecture.\n",
        "*   Torch functional library is used to perform single functionalal operations such as activation, convolution etc.,\n",
        "*   Importing torchvision which contains popular datasets, models, and transformations related to computer vision.\n",
        "*   Matplotlib.pyplot is used for visualization.\n",
        "*   Importing torchvision.transforms which converts our data into tensors.\n",
        "\n",
        "\n"
      ]
    },
    {
      "cell_type": "code",
      "execution_count": null,
      "metadata": {
        "id": "LfiDdKh1xxyr"
      },
      "outputs": [],
      "source": [
        "import torch\n",
        "import torch.nn as nn\n",
        "import torch.nn.functional as F\n",
        "import torchvision\n",
        "import torchvision.transforms as transforms\n",
        "import matplotlib.pyplot as plt"
      ]
    },
    {
      "cell_type": "markdown",
      "metadata": {
        "id": "SR0WFbPB33ex"
      },
      "source": [
        "### Downloading the dataset and transforming it to tensor\n",
        "\n",
        "\n",
        "*   Mnist data consists handwritten digits of size 28 * 28 pixels.\n",
        "*   It has 60000 training samples and 10000 test samples.\n"
      ]
    },
    {
      "cell_type": "code",
      "execution_count": null,
      "metadata": {
        "colab": {
          "base_uri": "https://localhost:8080/"
        },
        "id": "Sc20txqSx6h9",
        "outputId": "148f8016-38e9-4dab-fd4e-8f689afecd23"
      },
      "outputs": [
        {
          "output_type": "stream",
          "name": "stdout",
          "text": [
            "Downloading http://yann.lecun.com/exdb/mnist/train-images-idx3-ubyte.gz\n",
            "Downloading http://yann.lecun.com/exdb/mnist/train-images-idx3-ubyte.gz to ./data/MNIST/raw/train-images-idx3-ubyte.gz\n"
          ]
        },
        {
          "output_type": "stream",
          "name": "stderr",
          "text": [
            "100%|██████████| 9912422/9912422 [00:00<00:00, 88380357.99it/s]\n"
          ]
        },
        {
          "output_type": "stream",
          "name": "stdout",
          "text": [
            "Extracting ./data/MNIST/raw/train-images-idx3-ubyte.gz to ./data/MNIST/raw\n",
            "\n",
            "Downloading http://yann.lecun.com/exdb/mnist/train-labels-idx1-ubyte.gz\n",
            "Downloading http://yann.lecun.com/exdb/mnist/train-labels-idx1-ubyte.gz to ./data/MNIST/raw/train-labels-idx1-ubyte.gz\n"
          ]
        },
        {
          "output_type": "stream",
          "name": "stderr",
          "text": [
            "100%|██████████| 28881/28881 [00:00<00:00, 99946942.10it/s]\n"
          ]
        },
        {
          "output_type": "stream",
          "name": "stdout",
          "text": [
            "Extracting ./data/MNIST/raw/train-labels-idx1-ubyte.gz to ./data/MNIST/raw\n",
            "\n",
            "Downloading http://yann.lecun.com/exdb/mnist/t10k-images-idx3-ubyte.gz\n",
            "Downloading http://yann.lecun.com/exdb/mnist/t10k-images-idx3-ubyte.gz to ./data/MNIST/raw/t10k-images-idx3-ubyte.gz\n"
          ]
        },
        {
          "output_type": "stream",
          "name": "stderr",
          "text": [
            "100%|██████████| 1648877/1648877 [00:00<00:00, 21842462.07it/s]\n"
          ]
        },
        {
          "output_type": "stream",
          "name": "stdout",
          "text": [
            "Extracting ./data/MNIST/raw/t10k-images-idx3-ubyte.gz to ./data/MNIST/raw\n",
            "\n",
            "Downloading http://yann.lecun.com/exdb/mnist/t10k-labels-idx1-ubyte.gz\n",
            "Downloading http://yann.lecun.com/exdb/mnist/t10k-labels-idx1-ubyte.gz to ./data/MNIST/raw/t10k-labels-idx1-ubyte.gz\n"
          ]
        },
        {
          "output_type": "stream",
          "name": "stderr",
          "text": [
            "100%|██████████| 4542/4542 [00:00<00:00, 15862222.12it/s]\n"
          ]
        },
        {
          "output_type": "stream",
          "name": "stdout",
          "text": [
            "Extracting ./data/MNIST/raw/t10k-labels-idx1-ubyte.gz to ./data/MNIST/raw\n",
            "\n"
          ]
        }
      ],
      "source": [
        "train_data = torchvision.datasets.MNIST('./data',download=True, transform=transforms.ToTensor())\n",
        "test_data = torchvision.datasets.MNIST('data',train=False, transform=transforms.ToTensor())\n"
      ]
    },
    {
      "cell_type": "markdown",
      "metadata": {
        "id": "688uJOS2ktBq"
      },
      "source": [
        "### Visualizing our data"
      ]
    },
    {
      "cell_type": "code",
      "execution_count": null,
      "metadata": {
        "colab": {
          "base_uri": "https://localhost:8080/",
          "height": 417
        },
        "id": "ZNzgHGRARZzA",
        "outputId": "36a25287-d8d5-4f44-f94b-e6119c6c3c0a"
      },
      "outputs": [
        {
          "output_type": "display_data",
          "data": {
            "text/plain": [
              "<Figure size 640x480 with 6 Axes>"
            ],
            "image/png": "[encoded data removed]"
          },
          "metadata": {}
        }
      ],
      "source": [
        "for i in range(6):\n",
        "  plt.subplot(2,3,i+1)\n",
        "  plt.tight_layout()\n",
        "  plt.axis('off')\n",
        "  plt.imshow(train_data[i][0].squeeze(), cmap='gray')\n"
      ]
    },
    {
      "cell_type": "markdown",
      "metadata": {
        "id": "MyBm9JPG3899"
      },
      "source": [
        "### Dataset details"
      ]
    },
    {
      "cell_type": "code",
      "execution_count": null,
      "metadata": {
        "colab": {
          "base_uri": "https://localhost:8080/"
        },
        "id": "c89pQCNsykYC",
        "outputId": "2f8b1069-579a-495c-ea8f-c91fd615c8bf"
      },
      "outputs": [
        {
          "output_type": "stream",
          "name": "stdout",
          "text": [
            "Dataset MNIST\n",
            "    Number of datapoints: 60000\n",
            "    Root location: ./data\n",
            "    Split: Train\n",
            "    StandardTransform\n",
            "Transform: ToTensor()\n",
            "Dataset MNIST\n",
            "    Number of datapoints: 10000\n",
            "    Root location: data\n",
            "    Split: Test\n",
            "    StandardTransform\n",
            "Transform: ToTensor()\n"
          ]
        }
      ],
      "source": [
        "print(train_data)\n",
        "print(test_data)"
      ]
    },
    {
      "cell_type": "markdown",
      "metadata": {
        "id": "POrAy6xQ4B59"
      },
      "source": [
        "### Checking the type\n",
        "Our datatype is a float tensor."
      ]
    },
    {
      "cell_type": "code",
      "execution_count": null,
      "metadata": {
        "colab": {
          "base_uri": "https://localhost:8080/",
          "height": 35
        },
        "id": "N6WPwJE6ypKp",
        "outputId": "4636b601-9951-4f37-b59d-6c92b86ebbfc"
      },
      "outputs": [
        {
          "output_type": "execute_result",
          "data": {
            "text/plain": [
              "'torch.FloatTensor'"
            ],
            "application/vnd.google.colaboratory.intrinsic+json": {
              "type": "string"
            }
          },
          "metadata": {},
          "execution_count": 5
        }
      ],
      "source": [
        "train_data[0][0].type()"
      ]
    },
    {
      "cell_type": "markdown",
      "metadata": {
        "id": "9Cw9P2Ph4FCq"
      },
      "source": [
        "### Using dataloader to pass our data in batches"
      ]
    },
    {
      "cell_type": "code",
      "execution_count": null,
      "metadata": {
        "id": "Ai4gKQyLzcD9"
      },
      "outputs": [],
      "source": [
        "from torch.utils.data import DataLoader\n",
        "\n",
        "batch_size = 32\n",
        "train_dl = DataLoader(dataset=train_data, batch_size=batch_size, shuffle=True)\n",
        "test_dl = DataLoader(dataset=test_data, batch_size=batch_size, shuffle=False)\n",
        "n_inputs = 28*28"
      ]
    },
    {
      "cell_type": "markdown",
      "metadata": {
        "id": "FH0gv3_y4Pe_"
      },
      "source": [
        "### Defining our classification algorithm (BASELINE MODEL)\n",
        "\n",
        "*  Here, we use one hidden layer with 256 neurons with sigmoid classifier. Also, we use Adam as our optimizer."
      ]
    },
    {
      "cell_type": "code",
      "execution_count": null,
      "metadata": {
        "id": "hMqnQdDA0TDs"
      },
      "outputs": [],
      "source": [
        "class LogisticRegression(nn.Module):\n",
        " def __init__(self,n_inputs):\n",
        "   super(LogisticRegression,self).__init__()\n",
        "   self.layer1 = nn.Linear(n_inputs,256)\n",
        "   self.layer2 = nn.Linear(256,10)\n",
        " def forward(self,x):\n",
        "   y_pred = self.layer1(x)\n",
        "   y_pred = torch.sigmoid(self.layer2(y_pred))\n",
        "   return y_pred"
      ]
    },
    {
      "cell_type": "markdown",
      "metadata": {
        "id": "d36fxDC04WFp"
      },
      "source": [
        "### Initializing our model"
      ]
    },
    {
      "cell_type": "code",
      "execution_count": null,
      "metadata": {
        "id": "yQPfAlxN0_Nr"
      },
      "outputs": [],
      "source": [
        "model = LogisticRegression(n_inputs)"
      ]
    },
    {
      "cell_type": "markdown",
      "metadata": {
        "id": "kEa-P0Uv4ZtE"
      },
      "source": [
        "### Setting Loss function and Optimizer\n",
        "\n",
        "Cross Entropy loss is used for classification loss value. And we are setting stochastic gradient descent as our optimizer.\n",
        "\n",
        "SGD only take a sample per batch to find local or global minima. Though it might take more iteration compared to normal gradient descent, the computation overhead is less."
      ]
    },
    {
      "cell_type": "code",
      "execution_count": null,
      "metadata": {
        "id": "cUsyPzms0-ON"
      },
      "outputs": [],
      "source": [
        "loss = nn.CrossEntropyLoss()\n",
        "optimizer = torch.optim.SGD(model.parameters(),lr=0.001)"
      ]
    },
    {
      "cell_type": "markdown",
      "metadata": {
        "id": "QB7lc13S4dz_"
      },
      "source": [
        "### Defining number of iterations"
      ]
    },
    {
      "cell_type": "code",
      "execution_count": null,
      "metadata": {
        "id": "-44qf0H22AdB"
      },
      "outputs": [],
      "source": [
        "n_epoch = 20"
      ]
    },
    {
      "cell_type": "markdown",
      "metadata": {
        "id": "va4kiw_74inX"
      },
      "source": [
        "### Training our model\n",
        "\n"
      ]
    },
    {
      "cell_type": "code",
      "execution_count": null,
      "metadata": {
        "colab": {
          "base_uri": "https://localhost:8080/"
        },
        "id": "42KSXI8p1boQ",
        "outputId": "1c545872-0d72-4a65-bdcb-3a61dd2cd99b"
      },
      "outputs": [
        {
          "name": "stdout",
          "output_type": "stream",
          "text": [
            "Loss: 2.2980635166168213. Accuracy: 15.9399995803833\n",
            "Loss: 2.2904043197631836. Accuracy: 21.530000686645508\n",
            "Loss: 2.2864878177642822. Accuracy: 26.520000457763672\n",
            "Loss: 2.2826778888702393. Accuracy: 30.790000915527344\n",
            "Loss: 2.276757001876831. Accuracy: 34.880001068115234\n",
            "Loss: 2.2618343830108643. Accuracy: 39.41999816894531\n",
            "Loss: 2.2524664402008057. Accuracy: 43.31999969482422\n",
            "Loss: 2.2644238471984863. Accuracy: 46.5\n",
            "Loss: 2.2360239028930664. Accuracy: 49.630001068115234\n",
            "Loss: 2.2356600761413574. Accuracy: 52.90999984741211\n",
            "Loss: 2.2436063289642334. Accuracy: 54.709999084472656\n",
            "Loss: 2.2348625659942627. Accuracy: 56.119998931884766\n",
            "Loss: 2.216092109680176. Accuracy: 57.959999084472656\n",
            "Loss: 2.2177422046661377. Accuracy: 59.540000915527344\n",
            "Loss: 2.2111756801605225. Accuracy: 61.290000915527344\n",
            "Loss: 2.226039409637451. Accuracy: 62.689998626708984\n",
            "Loss: 2.2143988609313965. Accuracy: 64.02999877929688\n",
            "Loss: 2.2081124782562256. Accuracy: 65.05000305175781\n",
            "Loss: 2.178185224533081. Accuracy: 66.3499984741211\n",
            "Loss: 2.1744868755340576. Accuracy: 67.12999725341797\n",
            "Loss: 2.1613900661468506. Accuracy: 67.52999877929688\n",
            "Loss: 2.195413112640381. Accuracy: 67.94999694824219\n",
            "Loss: 2.1672873497009277. Accuracy: 68.58000183105469\n",
            "Loss: 2.178321361541748. Accuracy: 68.87999725341797\n",
            "Loss: 2.1173031330108643. Accuracy: 69.37999725341797\n",
            "Loss: 2.1269543170928955. Accuracy: 69.91999816894531\n",
            "Loss: 2.149461030960083. Accuracy: 70.69000244140625\n",
            "Loss: 2.1409640312194824. Accuracy: 71.0\n",
            "Loss: 2.0989229679107666. Accuracy: 71.33999633789062\n",
            "Loss: 2.1615512371063232. Accuracy: 71.63999938964844\n",
            "Loss: 2.1079843044281006. Accuracy: 71.97000122070312\n",
            "Loss: 2.111767530441284. Accuracy: 72.22000122070312\n",
            "Loss: 2.1144402027130127. Accuracy: 72.44999694824219\n",
            "Loss: 2.080127477645874. Accuracy: 72.69000244140625\n",
            "Loss: 2.0933992862701416. Accuracy: 72.87000274658203\n",
            "Loss: 2.0728609561920166. Accuracy: 73.38999938964844\n",
            "Loss: 2.0756022930145264. Accuracy: 73.66000366210938\n",
            "Loss: 2.077425241470337. Accuracy: 73.91999816894531\n",
            "Loss: 2.051938533782959. Accuracy: 73.9800033569336\n",
            "Loss: 2.057888984680176. Accuracy: 74.33000183105469\n",
            "Loss: 1.999460220336914. Accuracy: 74.51000213623047\n",
            "Loss: 2.0324466228485107. Accuracy: 74.6500015258789\n",
            "Loss: 2.033646821975708. Accuracy: 74.97000122070312\n",
            "Loss: 1.999831199645996. Accuracy: 75.19999694824219\n",
            "Loss: 2.0727806091308594. Accuracy: 75.30000305175781\n",
            "Loss: 2.0017240047454834. Accuracy: 75.2699966430664\n",
            "Loss: 1.9867843389511108. Accuracy: 75.62000274658203\n",
            "Loss: 2.016193389892578. Accuracy: 75.58999633789062\n",
            "Loss: 1.957940936088562. Accuracy: 75.80000305175781\n",
            "Loss: 2.019181251525879. Accuracy: 76.0\n",
            "Loss: 1.9937431812286377. Accuracy: 76.18000030517578\n",
            "Loss: 1.9533063173294067. Accuracy: 76.30999755859375\n",
            "Loss: 1.9734516143798828. Accuracy: 76.52999877929688\n",
            "Loss: 1.9782793521881104. Accuracy: 76.62000274658203\n",
            "Loss: 1.9451541900634766. Accuracy: 76.76000213623047\n",
            "Loss: 1.9857810735702515. Accuracy: 76.91999816894531\n",
            "Loss: 1.9582905769348145. Accuracy: 77.0199966430664\n",
            "Loss: 1.9857468605041504. Accuracy: 77.2699966430664\n",
            "Loss: 1.9512426853179932. Accuracy: 77.41000366210938\n",
            "Loss: 1.9575581550598145. Accuracy: 77.3499984741211\n",
            "Loss: 1.9796022176742554. Accuracy: 77.55000305175781\n",
            "Loss: 1.9683499336242676. Accuracy: 77.61000061035156\n",
            "Loss: 1.9265550374984741. Accuracy: 77.7699966430664\n",
            "Loss: 1.9073607921600342. Accuracy: 77.94999694824219\n",
            "Loss: 1.9161008596420288. Accuracy: 78.08999633789062\n",
            "Loss: 1.9352307319641113. Accuracy: 78.16000366210938\n",
            "Loss: 1.910294532775879. Accuracy: 78.33000183105469\n",
            "Loss: 1.9147908687591553. Accuracy: 78.2300033569336\n",
            "Loss: 1.8839378356933594. Accuracy: 78.2699966430664\n",
            "Loss: 1.9149341583251953. Accuracy: 78.27999877929688\n",
            "Loss: 1.9283772706985474. Accuracy: 78.29000091552734\n",
            "Loss: 1.9518170356750488. Accuracy: 78.44000244140625\n",
            "Loss: 1.9339468479156494. Accuracy: 78.62000274658203\n",
            "Loss: 1.9321746826171875. Accuracy: 78.62999725341797\n",
            "Loss: 1.9427335262298584. Accuracy: 78.80000305175781\n",
            "Loss: 1.9079862833023071. Accuracy: 78.83000183105469\n",
            "Loss: 1.9321205615997314. Accuracy: 78.97000122070312\n",
            "Loss: 1.864305853843689. Accuracy: 78.94999694824219\n",
            "Loss: 1.8616636991500854. Accuracy: 79.0199966430664\n",
            "Loss: 1.8840723037719727. Accuracy: 79.04000091552734\n",
            "Loss: 1.8747974634170532. Accuracy: 79.20999908447266\n",
            "Loss: 1.8722304105758667. Accuracy: 79.30999755859375\n",
            "Loss: 1.8468559980392456. Accuracy: 79.30000305175781\n",
            "Loss: 1.8944108486175537. Accuracy: 79.37000274658203\n",
            "Loss: 1.891381859779358. Accuracy: 79.44000244140625\n",
            "Loss: 1.7756764888763428. Accuracy: 79.58000183105469\n",
            "Loss: 1.8253631591796875. Accuracy: 79.69999694824219\n",
            "Loss: 1.8325068950653076. Accuracy: 79.73999786376953\n",
            "Loss: 1.9216175079345703. Accuracy: 79.79000091552734\n",
            "Loss: 1.8820058107376099. Accuracy: 79.91999816894531\n",
            "Loss: 1.906224250793457. Accuracy: 79.9800033569336\n",
            "Loss: 1.8141721487045288. Accuracy: 80.02999877929688\n",
            "Loss: 1.8565888404846191. Accuracy: 80.08999633789062\n",
            "Loss: 1.869313359260559. Accuracy: 80.16999816894531\n",
            "Loss: 1.8668063879013062. Accuracy: 80.12000274658203\n",
            "Loss: 1.82306706905365. Accuracy: 80.13999938964844\n",
            "Loss: 1.8327499628067017. Accuracy: 80.20999908447266\n",
            "Loss: 1.8231594562530518. Accuracy: 80.26000213623047\n",
            "Loss: 1.8526490926742554. Accuracy: 80.19000244140625\n",
            "Loss: 1.8298792839050293. Accuracy: 80.29000091552734\n",
            "Loss: 1.8436071872711182. Accuracy: 80.23999786376953\n",
            "Loss: 1.8686578273773193. Accuracy: 80.22000122070312\n",
            "Loss: 1.8426188230514526. Accuracy: 80.2300033569336\n",
            "Loss: 1.8390953540802002. Accuracy: 80.30999755859375\n",
            "Loss: 1.8131500482559204. Accuracy: 80.3499984741211\n",
            "Loss: 1.7642430067062378. Accuracy: 80.37000274658203\n",
            "Loss: 1.842496395111084. Accuracy: 80.41000366210938\n",
            "Loss: 1.7980937957763672. Accuracy: 80.41999816894531\n",
            "Loss: 1.820638656616211. Accuracy: 80.4800033569336\n",
            "Loss: 1.7996126413345337. Accuracy: 80.52999877929688\n",
            "Loss: 1.8159090280532837. Accuracy: 80.45999908447266\n",
            "Loss: 1.7704447507858276. Accuracy: 80.48999786376953\n",
            "Loss: 1.7886260747909546. Accuracy: 80.4000015258789\n",
            "Loss: 1.7886722087860107. Accuracy: 80.6500015258789\n",
            "Loss: 1.781983733177185. Accuracy: 80.58000183105469\n",
            "Loss: 1.7457103729248047. Accuracy: 80.61000061035156\n",
            "Loss: 1.8509341478347778. Accuracy: 80.69999694824219\n",
            "Loss: 1.8289076089859009. Accuracy: 80.66999816894531\n",
            "Loss: 1.7812094688415527. Accuracy: 80.7699966430664\n",
            "Loss: 1.8252172470092773. Accuracy: 80.81999969482422\n",
            "Loss: 1.7584630250930786. Accuracy: 80.83000183105469\n",
            "Loss: 1.879887580871582. Accuracy: 80.88999938964844\n",
            "Loss: 1.734952688217163. Accuracy: 80.94000244140625\n",
            "Loss: 1.8270057439804077. Accuracy: 80.87999725341797\n",
            "Loss: 1.7522234916687012. Accuracy: 80.9000015258789\n",
            "Loss: 1.7971559762954712. Accuracy: 80.9000015258789\n",
            "Loss: 1.784665584564209. Accuracy: 80.88999938964844\n",
            "Loss: 1.8198000192642212. Accuracy: 80.86000061035156\n",
            "Loss: 1.808544635772705. Accuracy: 80.98999786376953\n",
            "Loss: 1.7652190923690796. Accuracy: 80.98999786376953\n",
            "Loss: 1.8274883031845093. Accuracy: 80.94999694824219\n",
            "Loss: 1.7922879457473755. Accuracy: 81.01000213623047\n",
            "Loss: 1.76040780544281. Accuracy: 81.13999938964844\n",
            "Loss: 1.7915302515029907. Accuracy: 81.0\n",
            "Loss: 1.7788615226745605. Accuracy: 81.12999725341797\n",
            "Loss: 1.8050299882888794. Accuracy: 81.23999786376953\n",
            "Loss: 1.783607006072998. Accuracy: 81.23999786376953\n",
            "Loss: 1.7726846933364868. Accuracy: 81.30000305175781\n",
            "Loss: 1.7832599878311157. Accuracy: 81.41000366210938\n",
            "Loss: 1.8223557472229004. Accuracy: 81.43000030517578\n",
            "Loss: 1.7333130836486816. Accuracy: 81.37999725341797\n",
            "Loss: 1.7830342054367065. Accuracy: 81.33000183105469\n",
            "Loss: 1.8023263216018677. Accuracy: 81.37999725341797\n",
            "Loss: 1.7436864376068115. Accuracy: 81.33999633789062\n",
            "Loss: 1.7791111469268799. Accuracy: 81.41000366210938\n",
            "Loss: 1.715818166732788. Accuracy: 81.44999694824219\n",
            "Loss: 1.7605640888214111. Accuracy: 81.47000122070312\n",
            "Loss: 1.7291531562805176. Accuracy: 81.41000366210938\n",
            "Loss: 1.7893192768096924. Accuracy: 81.37999725341797\n",
            "Loss: 1.7642285823822021. Accuracy: 81.41999816894531\n",
            "Loss: 1.6834251880645752. Accuracy: 81.45999908447266\n",
            "Loss: 1.7703005075454712. Accuracy: 81.48999786376953\n",
            "Loss: 1.8093090057373047. Accuracy: 81.5199966430664\n",
            "Loss: 1.7469849586486816. Accuracy: 81.5999984741211\n",
            "Loss: 1.7183302640914917. Accuracy: 81.61000061035156\n",
            "Loss: 1.7213188409805298. Accuracy: 81.66999816894531\n",
            "Loss: 1.7752630710601807. Accuracy: 81.66999816894531\n",
            "Loss: 1.7385337352752686. Accuracy: 81.61000061035156\n",
            "Loss: 1.7385187149047852. Accuracy: 81.66000366210938\n",
            "Loss: 1.7657935619354248. Accuracy: 81.7300033569336\n",
            "Loss: 1.7841987609863281. Accuracy: 81.7300033569336\n",
            "Loss: 1.7355207204818726. Accuracy: 81.7300033569336\n",
            "Loss: 1.7835402488708496. Accuracy: 81.80999755859375\n",
            "Loss: 1.7397723197937012. Accuracy: 81.87999725341797\n",
            "Loss: 1.7525112628936768. Accuracy: 81.9800033569336\n",
            "Loss: 1.782781958580017. Accuracy: 82.04000091552734\n",
            "Loss: 1.709761142730713. Accuracy: 82.06999969482422\n",
            "Loss: 1.7515316009521484. Accuracy: 82.08000183105469\n",
            "Loss: 1.7579596042633057. Accuracy: 82.06999969482422\n",
            "Loss: 1.8058644533157349. Accuracy: 82.02999877929688\n",
            "Loss: 1.7416679859161377. Accuracy: 82.02999877929688\n",
            "Loss: 1.7536702156066895. Accuracy: 82.0999984741211\n",
            "Loss: 1.6618469953536987. Accuracy: 82.12000274658203\n",
            "Loss: 1.7030900716781616. Accuracy: 82.01000213623047\n",
            "Loss: 1.6840205192565918. Accuracy: 82.04000091552734\n",
            "Loss: 1.7750847339630127. Accuracy: 82.04000091552734\n",
            "Loss: 1.702415108680725. Accuracy: 82.08999633789062\n",
            "Loss: 1.7060524225234985. Accuracy: 82.18000030517578\n",
            "Loss: 1.7830032110214233. Accuracy: 82.22000122070312\n",
            "Loss: 1.8091564178466797. Accuracy: 82.33999633789062\n",
            "Final Accuracy: tensor(82.3400)\n"
          ]
        }
      ],
      "source": [
        "Loss = []\n",
        "Accuracy = []\n",
        "for epoch in range(n_epoch):\n",
        "    for i,(images,labels) in enumerate(train_dl):\n",
        "        images = torch.autograd.Variable(images.view(-1,n_inputs))\n",
        "        labels = torch.autograd.Variable(labels)\n",
        "\n",
        "        # Nullify gradients w.r.t. parameters\n",
        "        optimizer.zero_grad()\n",
        "        #forward propagation\n",
        "        output = model(images)\n",
        "        # compute loss based on obtained value and actual label\n",
        "        compute_loss = loss(output,labels)\n",
        "        # backward propagation\n",
        "        compute_loss.backward()\n",
        "        # update the parameters\n",
        "        optimizer.step()\n",
        "\n",
        "\n",
        "        if (i+1)%200 == 0:\n",
        "            # check total accuracy of predicted value and actual label\n",
        "            accurate = 0\n",
        "            total = 0\n",
        "            for images,labels in test_dl:\n",
        "                images = torch.autograd.Variable(images.view(-1,n_inputs))\n",
        "                output = model(images)\n",
        "                _,predicted = torch.max(output.data, 1)\n",
        "                # total labels\n",
        "                total+= labels.size(0)\n",
        "\n",
        "                # Total correct predictions\n",
        "                accurate+= (predicted == labels).sum()\n",
        "                accuracy_score = 100 * accurate/total\n",
        "            Loss.append(compute_loss.item())\n",
        "            Accuracy.append(accuracy_score)\n",
        "            print('Loss: {}. Accuracy: {}'.format(compute_loss.item(), accuracy_score))\n",
        "\n",
        "print('Final Accuracy:',accuracy_score)"
      ]
    },
    {
      "cell_type": "code",
      "execution_count": null,
      "metadata": {
        "colab": {
          "base_uri": "https://localhost:8080/",
          "height": 472
        },
        "id": "_4vHibfaqdww",
        "outputId": "5d7fb4fc-319c-4bf6-b180-87293c2a48e3"
      },
      "outputs": [
        {
          "data": {
            "image/png": "[encoded data removed]",
            "text/plain": [
              "<Figure size 640x480 with 1 Axes>"
            ]
          },
          "metadata": {},
          "output_type": "display_data"
        }
      ],
      "source": [
        "plt.plot(Loss)\n",
        "plt.xlabel(\"no. of epochs\")\n",
        "plt.ylabel(\"total loss\")\n",
        "plt.title(\"Loss\")\n",
        "plt.show()"
      ]
    },
    {
      "cell_type": "code",
      "execution_count": null,
      "metadata": {
        "colab": {
          "base_uri": "https://localhost:8080/",
          "height": 472
        },
        "id": "RzYqDhqVmeJZ",
        "outputId": "ab679831-7cd3-4b06-9052-27a73c5fe8d7"
      },
      "outputs": [
        {
          "data": {
            "image/png": "[encoded data removed]",
            "text/plain": [
              "<Figure size 640x480 with 1 Axes>"
            ]
          },
          "metadata": {},
          "output_type": "display_data"
        }
      ],
      "source": [
        "plt.plot(Accuracy)\n",
        "plt.xlabel(\"no. of epochs\")\n",
        "plt.ylabel(\"Total Accuracy\")\n",
        "plt.title(\"Accuracy\")\n",
        "plt.show()"
      ]
    },
    {
      "cell_type": "markdown",
      "metadata": {
        "id": "G_PA2uxcY4TW"
      },
      "source": [
        "### Testing our model\n"
      ]
    },
    {
      "cell_type": "code",
      "execution_count": null,
      "metadata": {
        "id": "kX3errAsVqae"
      },
      "outputs": [],
      "source": [
        "predict = model(test_data[0][0].view(-1,28*28))"
      ]
    },
    {
      "cell_type": "code",
      "execution_count": null,
      "metadata": {
        "colab": {
          "base_uri": "https://localhost:8080/"
        },
        "id": "JiOUGpIpyIak",
        "outputId": "4e790ad4-8986-4b8a-e489-a3711c27fec5"
      },
      "outputs": [
        {
          "data": {
            "text/plain": [
              "tensor([[0.1392, 0.0094, 0.0561, 0.1405, 0.1389, 0.0714, 0.0039, 0.9911, 0.0860,\n",
              "         0.8800]], grad_fn=<SigmoidBackward0>)"
            ]
          },
          "execution_count": 15,
          "metadata": {},
          "output_type": "execute_result"
        }
      ],
      "source": [
        "predict"
      ]
    },
    {
      "cell_type": "code",
      "execution_count": null,
      "metadata": {
        "id": "YsjjL36G_Rtm"
      },
      "outputs": [],
      "source": [
        "with torch.no_grad():\n",
        "  y_probability = torch.max(predict)\n",
        "  y_prediction = torch.argmax(predict)"
      ]
    },
    {
      "cell_type": "markdown",
      "metadata": {
        "id": "aIrI39LxZK_T"
      },
      "source": [
        "### Our Prediction"
      ]
    },
    {
      "cell_type": "code",
      "execution_count": null,
      "metadata": {
        "colab": {
          "base_uri": "https://localhost:8080/"
        },
        "id": "SPHqI1HwYzPa",
        "outputId": "6cedf631-df4a-4b30-b4d9-843188e637db"
      },
      "outputs": [
        {
          "name": "stdout",
          "output_type": "stream",
          "text": [
            "The model predicted 7 with the probability of 0.9910768270492554.\n"
          ]
        }
      ],
      "source": [
        "print(f'The model predicted {y_prediction} with the probability of {y_probability}.')"
      ]
    },
    {
      "cell_type": "code",
      "execution_count": null,
      "metadata": {
        "colab": {
          "base_uri": "https://localhost:8080/",
          "height": 430
        },
        "id": "ToCLQuhRcWpm",
        "outputId": "e98350fd-16ec-4104-b698-300942138d56"
      },
      "outputs": [
        {
          "data": {
            "image/png": "[encoded data removed]",
            "text/plain": [
              "<Figure size 640x480 with 1 Axes>"
            ]
          },
          "metadata": {},
          "output_type": "display_data"
        }
      ],
      "source": [
        "plt.imshow(test_data[0][0].squeeze(), cmap = 'gray')\n",
        "plt.show()"
      ]
    },
    {
      "cell_type": "code",
      "execution_count": null,
      "metadata": {
        "id": "NzUhOCkQuRdx"
      },
      "outputs": [],
      "source": [
        "sample = torch.randint(len(test_data), size = (1,)).item()\n",
        "test_sample = test_data[sample][0].view(-1, 28*28)\n",
        "Testing_data(test_sample)"
      ]
    },
    {
      "cell_type": "markdown",
      "metadata": {
        "id": "tGAezf5UZNvX"
      },
      "source": [
        "### The expected label (test)"
      ]
    },
    {
      "cell_type": "code",
      "execution_count": null,
      "metadata": {
        "colab": {
          "base_uri": "https://localhost:8080/"
        },
        "id": "xAzKXuGOY0Ch",
        "outputId": "a4a1e8a5-df1c-4ce4-a393-959a301d9f04"
      },
      "outputs": [
        {
          "name": "stdout",
          "output_type": "stream",
          "text": [
            "The expected prediction is 7.\n"
          ]
        }
      ],
      "source": [
        "print(f'The expected prediction is {test_data[0][1]}.')"
      ]
    },
    {
      "cell_type": "markdown",
      "metadata": {
        "id": "OWqYd0-ZpEOu"
      },
      "source": [
        "### Model \\#2\n",
        "\n",
        "Here, we are using one hidden layer with 256 neurons and Adam optimizer."
      ]
    },
    {
      "cell_type": "code",
      "execution_count": null,
      "metadata": {
        "id": "fjkPaT8ipDqZ"
      },
      "outputs": [],
      "source": [
        "class LogisticRegression(nn.Module):\n",
        " def __init__(self,n_inputs):\n",
        "   super(LogisticRegression,self).__init__()\n",
        "   self.layer1 = nn.Linear(n_inputs,256)\n",
        "   self.layer2 = nn.Linear(256,10)\n",
        " def forward(self,x):\n",
        "   y_pred = self.layer1(x)\n",
        "   y_pred = self.layer2(y_pred)\n",
        "   return y_pred"
      ]
    },
    {
      "cell_type": "code",
      "execution_count": null,
      "metadata": {
        "id": "O643eC8kzLbj"
      },
      "outputs": [],
      "source": [
        "model = LogisticRegression(n_inputs)\n",
        "loss = nn.CrossEntropyLoss()\n",
        "optimizer = torch.optim.Adam(model.parameters(),lr=0.001)\n",
        "n_epoch = 20"
      ]
    },
    {
      "cell_type": "code",
      "execution_count": null,
      "metadata": {
        "colab": {
          "base_uri": "https://localhost:8080/"
        },
        "id": "Vq1OREotzyUK",
        "outputId": "1443a15f-afb2-4a5e-9717-af29cd90c154"
      },
      "outputs": [
        {
          "name": "stdout",
          "output_type": "stream",
          "text": [
            "Loss: 0.19814223051071167. Accuracy: 90.04000091552734\n",
            "Loss: 0.07291211932897568. Accuracy: 90.7699966430664\n",
            "Loss: 0.6569318175315857. Accuracy: 90.31999969482422\n",
            "Loss: 0.4427134692668915. Accuracy: 91.62000274658203\n",
            "Loss: 0.3130587637424469. Accuracy: 91.12999725341797\n",
            "Loss: 0.9139212369918823. Accuracy: 91.36000061035156\n",
            "Loss: 0.27938225865364075. Accuracy: 90.9800033569336\n",
            "Loss: 0.30643120408058167. Accuracy: 91.58000183105469\n",
            "Loss: 0.5996886491775513. Accuracy: 90.05999755859375\n",
            "Loss: 0.26074638962745667. Accuracy: 91.29000091552734\n",
            "Loss: 0.38542845845222473. Accuracy: 91.81999969482422\n",
            "Loss: 0.18033672869205475. Accuracy: 91.9800033569336\n",
            "Loss: 0.0856902077794075. Accuracy: 90.62999725341797\n",
            "Loss: 0.220808744430542. Accuracy: 91.62999725341797\n",
            "Loss: 0.47133028507232666. Accuracy: 91.3499984741211\n",
            "Loss: 0.251715749502182. Accuracy: 91.5199966430664\n",
            "Loss: 0.5251030921936035. Accuracy: 91.48999786376953\n",
            "Loss: 0.6599287986755371. Accuracy: 91.8499984741211\n",
            "Loss: 0.8677119612693787. Accuracy: 91.94999694824219\n",
            "Loss: 0.3053401708602905. Accuracy: 91.91999816894531\n",
            "Loss: 0.28720712661743164. Accuracy: 92.06999969482422\n",
            "Loss: 0.4703925549983978. Accuracy: 91.26000213623047\n",
            "Loss: 0.3952922821044922. Accuracy: 91.62999725341797\n",
            "Loss: 0.2013441026210785. Accuracy: 92.30999755859375\n",
            "Loss: 0.32045987248420715. Accuracy: 91.97000122070312\n",
            "Loss: 0.18472938239574432. Accuracy: 92.08999633789062\n",
            "Loss: 0.27129870653152466. Accuracy: 91.5999984741211\n",
            "Loss: 0.46287965774536133. Accuracy: 92.0999984741211\n",
            "Loss: 0.434946745634079. Accuracy: 91.33000183105469\n",
            "Loss: 0.49988383054733276. Accuracy: 91.87999725341797\n",
            "Loss: 0.44458693265914917. Accuracy: 91.41000366210938\n",
            "Loss: 0.2802920341491699. Accuracy: 92.08000183105469\n",
            "Loss: 0.4294346570968628. Accuracy: 91.81999969482422\n",
            "Loss: 0.33437928557395935. Accuracy: 91.81999969482422\n",
            "Loss: 0.1794745922088623. Accuracy: 91.62000274658203\n",
            "Loss: 0.09401506930589676. Accuracy: 91.95999908447266\n",
            "Loss: 0.13473471999168396. Accuracy: 91.44999694824219\n",
            "Loss: 0.20394840836524963. Accuracy: 92.05000305175781\n",
            "Loss: 0.1568978726863861. Accuracy: 92.11000061035156\n",
            "Loss: 0.18116067349910736. Accuracy: 91.8499984741211\n",
            "Loss: 0.23701806366443634. Accuracy: 91.79000091552734\n",
            "Loss: 0.38564974069595337. Accuracy: 91.98999786376953\n",
            "Loss: 0.5895111560821533. Accuracy: 91.88999938964844\n",
            "Loss: 0.1907869577407837. Accuracy: 91.66000366210938\n",
            "Loss: 0.5962899923324585. Accuracy: 91.20999908447266\n",
            "Loss: 0.17974182963371277. Accuracy: 91.94000244140625\n",
            "Loss: 0.26924553513526917. Accuracy: 91.6500015258789\n",
            "Loss: 0.2112804800271988. Accuracy: 91.22000122070312\n",
            "Loss: 0.1374213844537735. Accuracy: 91.77999877929688\n",
            "Loss: 0.19248688220977783. Accuracy: 92.16000366210938\n",
            "Loss: 0.20849932730197906. Accuracy: 91.9000015258789\n",
            "Loss: 0.20239640772342682. Accuracy: 91.41999816894531\n",
            "Loss: 0.25525784492492676. Accuracy: 92.0999984741211\n",
            "Loss: 0.5059707760810852. Accuracy: 92.01000213623047\n",
            "Loss: 0.4128638803958893. Accuracy: 91.62000274658203\n",
            "Loss: 0.3677558898925781. Accuracy: 92.13999938964844\n",
            "Loss: 0.2662160396575928. Accuracy: 91.88999938964844\n",
            "Loss: 0.3812362551689148. Accuracy: 92.11000061035156\n",
            "Loss: 0.26187920570373535. Accuracy: 92.25\n",
            "Loss: 0.3270190358161926. Accuracy: 91.95999908447266\n",
            "Loss: 0.14301003515720367. Accuracy: 91.69000244140625\n",
            "Loss: 0.17744767665863037. Accuracy: 91.45999908447266\n",
            "Loss: 0.07954933494329453. Accuracy: 91.80999755859375\n",
            "Loss: 0.1874588429927826. Accuracy: 92.02999877929688\n",
            "Loss: 0.07198037207126617. Accuracy: 91.56999969482422\n",
            "Loss: 0.22910967469215393. Accuracy: 91.86000061035156\n",
            "Loss: 0.411797434091568. Accuracy: 92.02999877929688\n",
            "Loss: 0.2207101285457611. Accuracy: 91.9000015258789\n",
            "Loss: 0.4160071611404419. Accuracy: 92.05999755859375\n",
            "Loss: 0.29516881704330444. Accuracy: 92.22000122070312\n",
            "Loss: 0.11672517657279968. Accuracy: 92.26000213623047\n",
            "Loss: 0.21155107021331787. Accuracy: 92.13999938964844\n",
            "Loss: 0.2844758927822113. Accuracy: 91.43000030517578\n",
            "Loss: 0.12521006166934967. Accuracy: 91.70999908447266\n",
            "Loss: 0.12729960680007935. Accuracy: 91.80999755859375\n",
            "Loss: 0.17554497718811035. Accuracy: 92.0999984741211\n",
            "Loss: 0.24503706395626068. Accuracy: 92.16999816894531\n",
            "Loss: 0.09978855401277542. Accuracy: 91.87999725341797\n",
            "Loss: 0.4838239252567291. Accuracy: 92.22000122070312\n",
            "Loss: 0.15448151528835297. Accuracy: 92.4800033569336\n",
            "Loss: 0.26246368885040283. Accuracy: 92.0999984741211\n",
            "Loss: 0.13239438831806183. Accuracy: 91.72000122070312\n",
            "Loss: 0.350071519613266. Accuracy: 91.69999694824219\n",
            "Loss: 0.3281986713409424. Accuracy: 91.66000366210938\n",
            "Loss: 0.07737115770578384. Accuracy: 92.16000366210938\n",
            "Loss: 0.11915143579244614. Accuracy: 91.87999725341797\n",
            "Loss: 0.2310449182987213. Accuracy: 91.77999877929688\n",
            "Loss: 0.20818252861499786. Accuracy: 91.1500015258789\n",
            "Loss: 0.18859560787677765. Accuracy: 92.2699966430664\n",
            "Loss: 0.5028910040855408. Accuracy: 91.98999786376953\n",
            "Loss: 0.09272900968790054. Accuracy: 92.30000305175781\n",
            "Loss: 0.21931737661361694. Accuracy: 91.69999694824219\n",
            "Loss: 0.18498584628105164. Accuracy: 92.16000366210938\n",
            "Loss: 0.15258142352104187. Accuracy: 92.06999969482422\n",
            "Loss: 0.16529500484466553. Accuracy: 91.5999984741211\n",
            "Loss: 0.20027245581150055. Accuracy: 92.16000366210938\n",
            "Loss: 0.8511003851890564. Accuracy: 92.16000366210938\n",
            "Loss: 0.5367238521575928. Accuracy: 92.08999633789062\n",
            "Loss: 0.19646884500980377. Accuracy: 92.33000183105469\n",
            "Loss: 0.0783502459526062. Accuracy: 92.18000030517578\n",
            "Loss: 0.6834163069725037. Accuracy: 91.69999694824219\n",
            "Loss: 0.1921718865633011. Accuracy: 92.20999908447266\n",
            "Loss: 0.12749356031417847. Accuracy: 91.5199966430664\n",
            "Loss: 0.1455390751361847. Accuracy: 92.0999984741211\n",
            "Loss: 0.15034013986587524. Accuracy: 91.94000244140625\n",
            "Loss: 0.5067660212516785. Accuracy: 92.44999694824219\n",
            "Loss: 0.3147604763507843. Accuracy: 91.80999755859375\n",
            "Loss: 0.21857084333896637. Accuracy: 91.62999725341797\n",
            "Loss: 0.1801740527153015. Accuracy: 92.31999969482422\n",
            "Loss: 0.625605046749115. Accuracy: 92.1500015258789\n",
            "Loss: 0.5651328563690186. Accuracy: 92.3499984741211\n",
            "Loss: 0.6886709332466125. Accuracy: 92.16000366210938\n",
            "Loss: 0.3348807394504547. Accuracy: 92.08000183105469\n",
            "Loss: 0.18784326314926147. Accuracy: 91.81999969482422\n",
            "Loss: 0.1363324671983719. Accuracy: 92.44000244140625\n",
            "Loss: 0.19236446917057037. Accuracy: 92.43000030517578\n",
            "Loss: 0.10321313887834549. Accuracy: 92.08000183105469\n",
            "Loss: 0.27290868759155273. Accuracy: 91.94000244140625\n",
            "Loss: 0.09556856006383896. Accuracy: 91.72000122070312\n",
            "Loss: 0.29928624629974365. Accuracy: 91.63999938964844\n",
            "Loss: 0.2970869541168213. Accuracy: 91.83000183105469\n",
            "Loss: 0.40775126218795776. Accuracy: 91.95999908447266\n",
            "Loss: 0.2530464828014374. Accuracy: 91.94999694824219\n",
            "Loss: 0.7782273888587952. Accuracy: 91.94999694824219\n",
            "Loss: 0.6890020370483398. Accuracy: 92.27999877929688\n",
            "Loss: 0.4797814190387726. Accuracy: 92.23999786376953\n",
            "Loss: 0.09885147213935852. Accuracy: 92.06999969482422\n",
            "Loss: 0.0831172913312912. Accuracy: 91.9000015258789\n",
            "Loss: 0.36009037494659424. Accuracy: 92.11000061035156\n",
            "Loss: 0.22576892375946045. Accuracy: 91.29000091552734\n",
            "Loss: 0.0862448513507843. Accuracy: 91.3499984741211\n",
            "Loss: 0.13611797988414764. Accuracy: 92.55000305175781\n",
            "Loss: 0.14564144611358643. Accuracy: 91.91000366210938\n",
            "Loss: 0.630748987197876. Accuracy: 91.9800033569336\n",
            "Loss: 0.5896307229995728. Accuracy: 92.37000274658203\n",
            "Loss: 0.1367264688014984. Accuracy: 91.80999755859375\n",
            "Loss: 0.06601819396018982. Accuracy: 92.1500015258789\n",
            "Loss: 0.1733296811580658. Accuracy: 92.0\n",
            "Loss: 0.22483256459236145. Accuracy: 92.41999816894531\n",
            "Loss: 0.22569191455841064. Accuracy: 91.80999755859375\n",
            "Loss: 0.4280313551425934. Accuracy: 92.08999633789062\n",
            "Loss: 0.09097539633512497. Accuracy: 91.94999694824219\n",
            "Loss: 0.5751387476921082. Accuracy: 92.5\n",
            "Loss: 0.356942355632782. Accuracy: 92.31999969482422\n",
            "Loss: 0.41663575172424316. Accuracy: 92.5\n",
            "Loss: 0.30984967947006226. Accuracy: 92.19000244140625\n",
            "Loss: 0.08108598738908768. Accuracy: 92.47000122070312\n",
            "Loss: 0.051247257739305496. Accuracy: 91.75\n",
            "Loss: 0.10959307849407196. Accuracy: 92.08999633789062\n",
            "Loss: 0.08900678157806396. Accuracy: 91.79000091552734\n",
            "Loss: 0.137606680393219. Accuracy: 92.33000183105469\n",
            "Loss: 0.2749269902706146. Accuracy: 92.12000274658203\n",
            "Loss: 0.2769009470939636. Accuracy: 92.20999908447266\n",
            "Loss: 0.46277952194213867. Accuracy: 91.94000244140625\n",
            "Loss: 0.17571301758289337. Accuracy: 92.16000366210938\n",
            "Loss: 0.155901238322258. Accuracy: 92.08999633789062\n",
            "Loss: 0.20435494184494019. Accuracy: 92.08999633789062\n",
            "Loss: 0.7589035034179688. Accuracy: 92.1500015258789\n",
            "Loss: 0.161757692694664. Accuracy: 92.19999694824219\n",
            "Loss: 0.1189589872956276. Accuracy: 91.81999969482422\n",
            "Loss: 0.24818193912506104. Accuracy: 92.33000183105469\n",
            "Loss: 0.034861329942941666. Accuracy: 92.41000366210938\n",
            "Loss: 0.6022053956985474. Accuracy: 92.30000305175781\n",
            "Loss: 0.44082754850387573. Accuracy: 92.33000183105469\n",
            "Loss: 0.3755970597267151. Accuracy: 91.86000061035156\n",
            "Loss: 0.3514135777950287. Accuracy: 92.41999816894531\n",
            "Loss: 0.21404042840003967. Accuracy: 92.44000244140625\n",
            "Loss: 0.6643749475479126. Accuracy: 92.33000183105469\n",
            "Loss: 0.25315314531326294. Accuracy: 92.05999755859375\n",
            "Loss: 0.0735766589641571. Accuracy: 91.83000183105469\n",
            "Loss: 0.4554435908794403. Accuracy: 91.95999908447266\n",
            "Loss: 0.14000143110752106. Accuracy: 92.0199966430664\n",
            "Loss: 0.835867166519165. Accuracy: 92.0\n",
            "Loss: 0.19206349551677704. Accuracy: 92.33000183105469\n",
            "Loss: 0.26747840642929077. Accuracy: 92.19999694824219\n",
            "Loss: 0.3256220519542694. Accuracy: 91.91000366210938\n",
            "Loss: 0.0674581378698349. Accuracy: 92.27999877929688\n",
            "Loss: 0.1489340215921402. Accuracy: 92.55000305175781\n",
            "Loss: 0.07352026551961899. Accuracy: 92.2300033569336\n",
            "Loss: 0.22285278141498566. Accuracy: 92.58999633789062\n",
            "Final Accuracy: tensor(92.5900)\n"
          ]
        }
      ],
      "source": [
        "Loss = []\n",
        "Accuracy = []\n",
        "for epoch in range(n_epoch):\n",
        "    for i,(images,labels) in enumerate(train_dl):\n",
        "        images = torch.autograd.Variable(images.view(-1,n_inputs))\n",
        "        labels = torch.autograd.Variable(labels)\n",
        "\n",
        "        # Nullify gradients w.r.t. parameters\n",
        "        optimizer.zero_grad()\n",
        "        #forward propagation\n",
        "        output = model(images)\n",
        "        # compute loss based on obtained value and actual label\n",
        "        compute_loss = loss(output,labels)\n",
        "        # backward propagation\n",
        "        compute_loss.backward()\n",
        "        # update the parameters\n",
        "        optimizer.step()\n",
        "\n",
        "\n",
        "        if (i+1)%200 == 0:\n",
        "            # check total accuracy of predicted value and actual label\n",
        "            accurate = 0\n",
        "            total = 0\n",
        "            for images,labels in test_dl:\n",
        "                images = torch.autograd.Variable(images.view(-1,n_inputs))\n",
        "                output = model(images)\n",
        "                _,predicted = torch.max(output.data, 1)\n",
        "                # total labels\n",
        "                total+= labels.size(0)\n",
        "\n",
        "                # Total correct predictions\n",
        "                accurate+= (predicted == labels).sum()\n",
        "                accuracy_score = 100 * accurate/total\n",
        "            Loss.append(compute_loss.item())\n",
        "            Accuracy.append(accuracy_score)\n",
        "            print('Loss: {}. Accuracy: {}'.format(compute_loss.item(), accuracy_score))\n",
        "\n",
        "print('Final Accuracy:',accuracy_score)"
      ]
    },
    {
      "cell_type": "code",
      "source": [
        "plt.plot(Loss)\n",
        "plt.xlabel(\"no. of epochs\")\n",
        "plt.ylabel(\"total loss\")\n",
        "plt.title(\"Loss\")\n",
        "plt.show()"
      ],
      "metadata": {
        "id": "UDWEEKPOg3j0"
      },
      "execution_count": null,
      "outputs": []
    },
    {
      "cell_type": "code",
      "source": [
        "plt.plot(Accuracy)\n",
        "plt.xlabel(\"no. of epochs\")\n",
        "plt.ylabel(\"total accuracy\")\n",
        "plt.title(\"Accuracy\")\n",
        "plt.show()"
      ],
      "metadata": {
        "id": "wYGZ9gohg4U7"
      },
      "execution_count": null,
      "outputs": []
    },
    {
      "cell_type": "code",
      "execution_count": null,
      "metadata": {
        "id": "n7VedyQ9k1QG"
      },
      "outputs": [],
      "source": [
        "def Testing_data(test_data):\n",
        "  predict = model(test_data)\n",
        "  with torch.no_grad():\n",
        "    y_probability = torch.max(predict)\n",
        "    y_prediction = torch.argmax(predict)\n",
        "  print(f'The model predicted {y_prediction} with the probability of {y_probability}.\\n')\n",
        "  plt.imshow(test_data.view(28,28), cmap = 'gray')\n",
        "  plt.show()\n"
      ]
    },
    {
      "cell_type": "code",
      "execution_count": null,
      "metadata": {
        "colab": {
          "base_uri": "https://localhost:8080/",
          "height": 465
        },
        "id": "reURQaNWlPKh",
        "outputId": "b499391d-7b12-48a3-b661-a15d481a963b"
      },
      "outputs": [
        {
          "name": "stdout",
          "output_type": "stream",
          "text": [
            "The model predicted 2 with the probability of 10.65966796875.\n",
            "\n"
          ]
        },
        {
          "data": {
            "image/png": "[encoded data removed]",
            "text/plain": [
              "<Figure size 640x480 with 1 Axes>"
            ]
          },
          "metadata": {},
          "output_type": "display_data"
        }
      ],
      "source": [
        "sample = torch.randint(len(test_data), size = (1,)).item()\n",
        "test_sample = test_data[sample][0].view(-1, 28*28)\n",
        "Testing_data(test_sample)"
      ]
    },
    {
      "cell_type": "code",
      "execution_count": null,
      "metadata": {
        "colab": {
          "base_uri": "https://localhost:8080/"
        },
        "id": "UYE4Fpwin5nL",
        "outputId": "9ba133a6-b1af-4aa6-fa70-f5ef4a2b6fc9"
      },
      "outputs": [
        {
          "name": "stdout",
          "output_type": "stream",
          "text": [
            "The expected prediction is 2.\n"
          ]
        }
      ],
      "source": [
        "print(f'The expected prediction is {test_data[sample][1]}.')"
      ]
    },
    {
      "cell_type": "markdown",
      "metadata": {
        "id": "nThK5qBqE7O_"
      },
      "source": [
        "### Model \\#3\n",
        "\n",
        "Here, we are using two hidden layers with 256 and 128 neurons respectively. The second layer has a relu activation function. Also, we use Adam as our optimizer."
      ]
    },
    {
      "cell_type": "code",
      "execution_count": null,
      "metadata": {
        "id": "NmPYg3CL2G1V"
      },
      "outputs": [],
      "source": [
        "class LogisticRegression(nn.Module):\n",
        " def __init__(self,n_inputs):\n",
        "   super(LogisticRegression,self).__init__()\n",
        "   self.layer1 = nn.Linear(n_inputs,256)\n",
        "   self.layer2 = nn.Linear(256, 128)\n",
        "   self.layer3 = nn.Linear(128,10)\n",
        " def forward(self,x):\n",
        "   y_pred = self.layer1(x)\n",
        "   y_pred = torch.relu(self.layer2(y_pred))\n",
        "   y_pred = self.layer3(y_pred)\n",
        "   return y_pred\n"
      ]
    },
    {
      "cell_type": "code",
      "execution_count": null,
      "metadata": {
        "id": "zYVhe8OW2Kw7"
      },
      "outputs": [],
      "source": [
        "model = LogisticRegression(n_inputs)\n",
        "loss = nn.CrossEntropyLoss()\n",
        "optimizer = torch.optim.Adam(model.parameters(),lr=0.001)\n",
        "n_epoch = 20"
      ]
    },
    {
      "cell_type": "code",
      "execution_count": null,
      "metadata": {
        "colab": {
          "base_uri": "https://localhost:8080/"
        },
        "id": "MjJIRZKn2POE",
        "outputId": "0a74c194-cc0e-419f-9bfd-008f793d4110"
      },
      "outputs": [
        {
          "name": "stdout",
          "output_type": "stream",
          "text": [
            "Loss: 0.2333083599805832. Accuracy: 89.44999694824219\n",
            "Loss: 0.27815744280815125. Accuracy: 91.88999938964844\n",
            "Loss: 0.10976648330688477. Accuracy: 92.26000213623047\n",
            "Loss: 0.19159121811389923. Accuracy: 93.47000122070312\n",
            "Loss: 0.2257860004901886. Accuracy: 93.88999938964844\n",
            "Loss: 0.6643714904785156. Accuracy: 94.30000305175781\n",
            "Loss: 0.21298585832118988. Accuracy: 94.62000274658203\n",
            "Loss: 0.19512559473514557. Accuracy: 94.87999725341797\n",
            "Loss: 0.06907981634140015. Accuracy: 94.87999725341797\n",
            "Loss: 0.09132302552461624. Accuracy: 94.54000091552734\n",
            "Loss: 0.3343687057495117. Accuracy: 93.91000366210938\n",
            "Loss: 0.21960394084453583. Accuracy: 95.5199966430664\n",
            "Loss: 0.02584431692957878. Accuracy: 95.12999725341797\n",
            "Loss: 0.11669984459877014. Accuracy: 95.51000213623047\n",
            "Loss: 0.07255615293979645. Accuracy: 95.47000122070312\n",
            "Loss: 0.06095656752586365. Accuracy: 96.05000305175781\n",
            "Loss: 0.16272373497486115. Accuracy: 96.0\n",
            "Loss: 0.07501727342605591. Accuracy: 96.12999725341797\n",
            "Loss: 0.38844233751296997. Accuracy: 96.55000305175781\n",
            "Loss: 0.10653629899024963. Accuracy: 96.30000305175781\n",
            "Loss: 0.012175347656011581. Accuracy: 96.86000061035156\n",
            "Loss: 0.050306178629398346. Accuracy: 96.3499984741211\n",
            "Loss: 0.23815861344337463. Accuracy: 95.87999725341797\n",
            "Loss: 0.024565795436501503. Accuracy: 96.87999725341797\n",
            "Loss: 0.099562868475914. Accuracy: 96.68000030517578\n",
            "Loss: 0.18270514905452728. Accuracy: 96.58000183105469\n",
            "Loss: 0.11525227874517441. Accuracy: 96.19999694824219\n",
            "Loss: 0.07351354509592056. Accuracy: 96.69000244140625\n",
            "Loss: 0.17738741636276245. Accuracy: 96.83999633789062\n",
            "Loss: 0.08272530138492584. Accuracy: 96.95999908447266\n",
            "Loss: 0.1565394550561905. Accuracy: 96.31999969482422\n",
            "Loss: 0.3684643507003784. Accuracy: 97.0999984741211\n",
            "Loss: 0.28946933150291443. Accuracy: 96.31999969482422\n",
            "Loss: 0.1865764558315277. Accuracy: 97.01000213623047\n",
            "Loss: 0.21865741908550262. Accuracy: 96.88999938964844\n",
            "Loss: 0.008839095942676067. Accuracy: 96.83000183105469\n",
            "Loss: 0.03707114979624748. Accuracy: 96.83999633789062\n",
            "Loss: 0.12268435955047607. Accuracy: 96.79000091552734\n",
            "Loss: 0.04230021685361862. Accuracy: 97.13999938964844\n",
            "Loss: 0.01915610022842884. Accuracy: 96.75\n",
            "Loss: 0.02155146189033985. Accuracy: 97.12000274658203\n",
            "Loss: 0.0037752126809209585. Accuracy: 96.45999908447266\n",
            "Loss: 0.1072595939040184. Accuracy: 97.16000366210938\n",
            "Loss: 0.003338206559419632. Accuracy: 96.70999908447266\n",
            "Loss: 0.04863441735506058. Accuracy: 97.12999725341797\n",
            "Loss: 0.02057660184800625. Accuracy: 96.81999969482422\n",
            "Loss: 0.010455543175339699. Accuracy: 97.22000122070312\n",
            "Loss: 0.010408736765384674. Accuracy: 96.72000122070312\n",
            "Loss: 0.016175808385014534. Accuracy: 96.94000244140625\n",
            "Loss: 0.15646794438362122. Accuracy: 97.19000244140625\n",
            "Loss: 0.06801062077283859. Accuracy: 96.94999694824219\n",
            "Loss: 0.10036033391952515. Accuracy: 97.44000244140625\n",
            "Loss: 0.0014093660283833742. Accuracy: 96.7699966430664\n",
            "Loss: 0.07522034645080566. Accuracy: 96.87999725341797\n",
            "Loss: 0.04931899160146713. Accuracy: 97.06999969482422\n",
            "Loss: 0.026225760579109192. Accuracy: 96.91999816894531\n",
            "Loss: 0.020134277641773224. Accuracy: 97.02999877929688\n",
            "Loss: 0.20194007456302643. Accuracy: 97.05000305175781\n",
            "Loss: 0.14196227490901947. Accuracy: 97.33000183105469\n",
            "Loss: 0.08075601607561111. Accuracy: 97.01000213623047\n",
            "Loss: 0.012054714374244213. Accuracy: 96.97000122070312\n",
            "Loss: 0.007208680268377066. Accuracy: 97.05000305175781\n",
            "Loss: 0.004022627603262663. Accuracy: 96.83000183105469\n",
            "Loss: 0.05227168649435043. Accuracy: 97.29000091552734\n",
            "Loss: 0.019763151183724403. Accuracy: 96.87000274658203\n",
            "Loss: 0.37235137820243835. Accuracy: 97.05000305175781\n",
            "Loss: 0.2593597173690796. Accuracy: 97.26000213623047\n",
            "Loss: 0.044213272631168365. Accuracy: 97.4800033569336\n",
            "Loss: 0.03109380602836609. Accuracy: 97.11000061035156\n",
            "Loss: 0.0304055605083704. Accuracy: 97.08000183105469\n",
            "Loss: 0.018297851085662842. Accuracy: 97.05000305175781\n",
            "Loss: 0.31031832098960876. Accuracy: 97.30999755859375\n",
            "Loss: 0.02186529152095318. Accuracy: 96.9800033569336\n",
            "Loss: 0.16904501616954803. Accuracy: 97.33999633789062\n",
            "Loss: 0.01348894089460373. Accuracy: 97.26000213623047\n",
            "Loss: 0.040704965591430664. Accuracy: 97.13999938964844\n",
            "Loss: 0.03263101726770401. Accuracy: 97.37000274658203\n",
            "Loss: 0.17666548490524292. Accuracy: 97.2699966430664\n",
            "Loss: 0.06922146677970886. Accuracy: 97.30000305175781\n",
            "Loss: 0.06316103786230087. Accuracy: 97.06999969482422\n",
            "Loss: 0.0060838358476758. Accuracy: 96.97000122070312\n",
            "Loss: 0.010082430206239223. Accuracy: 97.43000030517578\n",
            "Loss: 0.0295230932533741. Accuracy: 96.36000061035156\n",
            "Loss: 0.0034027232322841883. Accuracy: 97.37999725341797\n",
            "Loss: 0.01231670007109642. Accuracy: 97.19999694824219\n",
            "Loss: 0.0038706010673195124. Accuracy: 97.47000122070312\n",
            "Loss: 0.0005672344123013318. Accuracy: 97.44000244140625\n",
            "Loss: 0.05148058384656906. Accuracy: 97.37999725341797\n",
            "Loss: 0.15036946535110474. Accuracy: 97.29000091552734\n",
            "Loss: 0.0007532050367444754. Accuracy: 97.0999984741211\n",
            "Loss: 0.0004746809718199074. Accuracy: 97.44000244140625\n",
            "Loss: 0.07882162928581238. Accuracy: 97.56999969482422\n",
            "Loss: 0.004644519649446011. Accuracy: 97.22000122070312\n",
            "Loss: 0.14598162472248077. Accuracy: 96.91999816894531\n",
            "Loss: 0.00019833023543469608. Accuracy: 97.02999877929688\n",
            "Loss: 0.0026417160406708717. Accuracy: 97.29000091552734\n",
            "Loss: 0.0003356500528752804. Accuracy: 97.23999786376953\n",
            "Loss: 0.00031808752100914717. Accuracy: 96.9800033569336\n",
            "Loss: 0.0816919282078743. Accuracy: 97.04000091552734\n",
            "Loss: 0.0037003327161073685. Accuracy: 97.5\n",
            "Loss: 0.03662968426942825. Accuracy: 97.54000091552734\n",
            "Loss: 0.12477307766675949. Accuracy: 97.63999938964844\n",
            "Loss: 0.011538926512002945. Accuracy: 96.9800033569336\n",
            "Loss: 0.0017517553642392159. Accuracy: 97.31999969482422\n",
            "Loss: 0.04570644348859787. Accuracy: 97.58000183105469\n",
            "Loss: 0.14427943527698517. Accuracy: 97.19000244140625\n",
            "Loss: 0.012966183945536613. Accuracy: 97.11000061035156\n",
            "Loss: 0.0019569951109588146. Accuracy: 97.38999938964844\n",
            "Loss: 0.038369420915842056. Accuracy: 96.87999725341797\n",
            "Loss: 0.0006452344241552055. Accuracy: 97.51000213623047\n",
            "Loss: 0.0041231270879507065. Accuracy: 97.5999984741211\n",
            "Loss: 0.061230871826410294. Accuracy: 97.16000366210938\n",
            "Loss: 0.1945217251777649. Accuracy: 96.94999694824219\n",
            "Loss: 0.23798421025276184. Accuracy: 97.11000061035156\n",
            "Loss: 0.0022487849928438663. Accuracy: 97.08000183105469\n",
            "Loss: 0.00023747392697259784. Accuracy: 97.19000244140625\n",
            "Loss: 0.0012869448401033878. Accuracy: 97.47000122070312\n",
            "Loss: 0.002251147059723735. Accuracy: 97.48999786376953\n",
            "Loss: 0.00040568734402768314. Accuracy: 97.25\n",
            "Loss: 0.0010798280127346516. Accuracy: 96.98999786376953\n",
            "Loss: 0.4694530963897705. Accuracy: 97.23999786376953\n",
            "Loss: 0.15231278538703918. Accuracy: 97.44999694824219\n",
            "Loss: 0.007356390357017517. Accuracy: 97.41000366210938\n",
            "Loss: 0.0012082954635843635. Accuracy: 97.25\n",
            "Loss: 0.0928390622138977. Accuracy: 97.4000015258789\n",
            "Loss: 0.005296186078339815. Accuracy: 97.47000122070312\n",
            "Loss: 0.1896485686302185. Accuracy: 97.55999755859375\n",
            "Loss: 0.0051078046672046185. Accuracy: 97.12999725341797\n",
            "Loss: 0.04142716899514198. Accuracy: 97.54000091552734\n",
            "Loss: 0.12200675904750824. Accuracy: 97.20999908447266\n",
            "Loss: 0.0006840784917585552. Accuracy: 97.37999725341797\n",
            "Loss: 0.07601751387119293. Accuracy: 97.16000366210938\n",
            "Loss: 0.02189582772552967. Accuracy: 97.48999786376953\n",
            "Loss: 0.005079174879938364. Accuracy: 97.33999633789062\n",
            "Loss: 0.15330365300178528. Accuracy: 97.05000305175781\n",
            "Loss: 0.00585209671407938. Accuracy: 97.25\n",
            "Loss: 0.002805665135383606. Accuracy: 97.31999969482422\n",
            "Loss: 0.19665265083312988. Accuracy: 97.2699966430664\n",
            "Loss: 5.861615500180051e-05. Accuracy: 97.1500015258789\n",
            "Loss: 0.23788297176361084. Accuracy: 97.0999984741211\n",
            "Loss: 0.011042071506381035. Accuracy: 97.47000122070312\n",
            "Loss: 0.037261467427015305. Accuracy: 96.76000213623047\n",
            "Loss: 0.06829755753278732. Accuracy: 97.16999816894531\n",
            "Loss: 0.0004699126584455371. Accuracy: 97.02999877929688\n",
            "Loss: 0.0012713271426036954. Accuracy: 97.5199966430664\n",
            "Loss: 0.18270790576934814. Accuracy: 97.58999633789062\n",
            "Loss: 1.3479847439157311e-05. Accuracy: 97.36000061035156\n",
            "Loss: 0.006888600066304207. Accuracy: 97.16000366210938\n",
            "Loss: 0.027308955788612366. Accuracy: 97.30000305175781\n",
            "Loss: 0.009792209602892399. Accuracy: 97.43000030517578\n",
            "Loss: 0.0003229907597415149. Accuracy: 97.58000183105469\n",
            "Loss: 0.004755390342324972. Accuracy: 97.62999725341797\n",
            "Loss: 0.0862521231174469. Accuracy: 97.2300033569336\n",
            "Loss: 0.004602910950779915. Accuracy: 97.7300033569336\n",
            "Loss: 0.12337066233158112. Accuracy: 97.47000122070312\n",
            "Loss: 0.0001931294973473996. Accuracy: 97.45999908447266\n",
            "Loss: 4.6983856009319425e-05. Accuracy: 97.55000305175781\n",
            "Loss: 0.026571862399578094. Accuracy: 96.58999633789062\n",
            "Loss: 0.19874384999275208. Accuracy: 97.23999786376953\n",
            "Loss: 4.373322099127108e-06. Accuracy: 97.31999969482422\n",
            "Loss: 0.003256959142163396. Accuracy: 97.41000366210938\n",
            "Loss: 0.1631518453359604. Accuracy: 97.29000091552734\n",
            "Loss: 0.03411277383565903. Accuracy: 97.47000122070312\n",
            "Loss: 8.193279063561931e-05. Accuracy: 97.44000244140625\n",
            "Loss: 0.00024717047926969826. Accuracy: 97.54000091552734\n",
            "Loss: 0.05250351130962372. Accuracy: 97.5199966430664\n",
            "Loss: 0.009897611103951931. Accuracy: 97.37999725341797\n",
            "Loss: 0.004459430929273367. Accuracy: 97.55000305175781\n",
            "Loss: 0.0010329780634492636. Accuracy: 97.37999725341797\n",
            "Loss: 0.4603307545185089. Accuracy: 97.5\n",
            "Loss: 0.02462172880768776. Accuracy: 97.56999969482422\n",
            "Loss: 0.0034049679525196552. Accuracy: 97.45999908447266\n",
            "Loss: 0.01331815030425787. Accuracy: 97.0\n",
            "Loss: 0.0024378427769988775. Accuracy: 97.68000030517578\n",
            "Loss: 0.0085596963763237. Accuracy: 97.33999633789062\n",
            "Loss: 6.940607272554189e-05. Accuracy: 97.41000366210938\n",
            "Loss: 0.4120309352874756. Accuracy: 97.66999816894531\n",
            "Loss: 0.18882571160793304. Accuracy: 97.44000244140625\n",
            "Loss: 0.000398635515011847. Accuracy: 97.7699966430664\n",
            "Loss: 0.0014672388788312674. Accuracy: 97.55000305175781\n",
            "Final Accuracy: tensor(97.5500)\n"
          ]
        }
      ],
      "source": [
        "Loss = []\n",
        "Accuracy = []\n",
        "for epoch in range(n_epoch):\n",
        "    for i,(images,labels) in enumerate(train_dl):\n",
        "        images = torch.autograd.Variable(images.view(-1,n_inputs))\n",
        "        labels = torch.autograd.Variable(labels)\n",
        "\n",
        "        # Nullify gradients w.r.t. parameters\n",
        "        optimizer.zero_grad()\n",
        "        #forward propagation\n",
        "        output = model(images)\n",
        "        # compute loss based on obtained value and actual label\n",
        "        compute_loss = loss(output,labels)\n",
        "        # backward propagation\n",
        "        compute_loss.backward()\n",
        "        # update the parameters\n",
        "        optimizer.step()\n",
        "\n",
        "\n",
        "        if (i+1)%200 == 0:\n",
        "            # check total accuracy of predicted value and actual label\n",
        "            accurate = 0\n",
        "            total = 0\n",
        "            for images,labels in test_dl:\n",
        "                images = torch.autograd.Variable(images.view(-1,n_inputs))\n",
        "                output = model(images)\n",
        "                _,predicted = torch.max(output.data, 1)\n",
        "                # total labels\n",
        "                total+= labels.size(0)\n",
        "\n",
        "                # Total correct predictions\n",
        "                accurate+= (predicted == labels).sum()\n",
        "                accuracy_score = 100 * accurate/total\n",
        "            Loss.append(compute_loss.item())\n",
        "            Accuracy.append(accuracy_score)\n",
        "            print('Loss: {}. Accuracy: {}'.format(compute_loss.item(), accuracy_score))\n",
        "\n",
        "print('Final Accuracy:',accuracy_score)"
      ]
    },
    {
      "cell_type": "code",
      "source": [
        "plt.plot(Loss)\n",
        "plt.xlabel(\"no. of epochs\")\n",
        "plt.ylabel(\"total loss\")\n",
        "plt.title(\"Loss\")\n",
        "plt.show()"
      ],
      "metadata": {
        "id": "ZHpIkpyeVVYc"
      },
      "execution_count": null,
      "outputs": []
    },
    {
      "cell_type": "code",
      "source": [
        "plt.plot(Accuracy)\n",
        "plt.xlabel(\"no. of epochs\")\n",
        "plt.ylabel(\"total accuracy\")\n",
        "plt.title(\"Accuracy\")\n",
        "plt.show()"
      ],
      "metadata": {
        "id": "rNzcvuhKVWI6"
      },
      "execution_count": null,
      "outputs": []
    },
    {
      "cell_type": "code",
      "execution_count": null,
      "metadata": {
        "colab": {
          "base_uri": "https://localhost:8080/",
          "height": 465
        },
        "id": "RsNl3NsloGCk",
        "outputId": "b50dfec6-7446-476d-c6f2-8f61cd0dd39f"
      },
      "outputs": [
        {
          "name": "stdout",
          "output_type": "stream",
          "text": [
            "The model predicted 5 with the probability of 30.371706008911133.\n",
            "\n"
          ]
        },
        {
          "data": {
            "image/png": "[encoded data removed]",
            "text/plain": [
              "<Figure size 640x480 with 1 Axes>"
            ]
          },
          "metadata": {},
          "output_type": "display_data"
        }
      ],
      "source": [
        "sample = torch.randint(len(test_data), size = (1,)).item()\n",
        "test_sample = test_data[sample][0].view(-1, 28*28)\n",
        "Testing_data(test_sample)"
      ]
    },
    {
      "cell_type": "code",
      "execution_count": null,
      "metadata": {
        "colab": {
          "base_uri": "https://localhost:8080/"
        },
        "id": "ZNt_f5uIoQyx",
        "outputId": "2174f7b5-0fcb-4c46-ef50-5f8e2d1ca040"
      },
      "outputs": [
        {
          "name": "stdout",
          "output_type": "stream",
          "text": [
            "The expected prediction is 5.\n"
          ]
        }
      ],
      "source": [
        "print(f'The expected prediction is {test_data[sample][1]}.')"
      ]
    },
    {
      "cell_type": "markdown",
      "metadata": {
        "id": "N7Gs_ttYGSy7"
      },
      "source": [
        "### Model \\#4\n",
        "\n",
        "Here, we use two hidden layers with 256 and 128 neurons respectively. Both of the layers have relu activation function. Also, we use Adam as our optimizer."
      ]
    },
    {
      "cell_type": "code",
      "execution_count": null,
      "metadata": {
        "id": "n747Ag2xF6oV"
      },
      "outputs": [],
      "source": [
        "class LogisticRegression(nn.Module):\n",
        " def __init__(self,n_inputs):\n",
        "   super(LogisticRegression,self).__init__()\n",
        "   self.layer1 = nn.Linear(n_inputs,256)\n",
        "   self.layer2 = nn.Linear(256, 128)\n",
        "   self.layer3 = nn.Linear(128,10)\n",
        " def forward(self,x):\n",
        "   y_pred = torch.relu(self.layer1(x))\n",
        "   y_pred = torch.relu(self.layer2(y_pred))\n",
        "   y_pred = self.layer3(y_pred)\n",
        "   return y_pred"
      ]
    },
    {
      "cell_type": "code",
      "execution_count": null,
      "metadata": {
        "id": "IFQGYefaF6ed"
      },
      "outputs": [],
      "source": [
        "model = LogisticRegression(n_inputs)\n",
        "loss = nn.CrossEntropyLoss()\n",
        "optimizer = torch.optim.Adam(model.parameters(),lr=0.001)\n",
        "n_epoch = 20"
      ]
    },
    {
      "cell_type": "code",
      "execution_count": null,
      "metadata": {
        "colab": {
          "base_uri": "https://localhost:8080/"
        },
        "id": "vS18t57TF6WA",
        "outputId": "4eb1f30e-36cf-4420-d73b-0798f6a1bc23"
      },
      "outputs": [
        {
          "name": "stdout",
          "output_type": "stream",
          "text": [
            "Loss: 0.14810779690742493. Accuracy: 89.91999816894531\n",
            "Loss: 0.2428300827741623. Accuracy: 91.81999969482422\n",
            "Loss: 0.21328933537006378. Accuracy: 93.1500015258789\n",
            "Loss: 0.1205664798617363. Accuracy: 94.44000244140625\n",
            "Loss: 0.07961142063140869. Accuracy: 94.91000366210938\n",
            "Loss: 0.12124311178922653. Accuracy: 95.69999694824219\n",
            "Loss: 0.22057855129241943. Accuracy: 95.48999786376953\n",
            "Loss: 0.19588258862495422. Accuracy: 96.12999725341797\n",
            "Loss: 0.028460895642638206. Accuracy: 96.12000274658203\n",
            "Loss: 0.07383103668689728. Accuracy: 96.33000183105469\n",
            "Loss: 0.08439180254936218. Accuracy: 96.5999984741211\n",
            "Loss: 0.017792783677577972. Accuracy: 96.41999816894531\n",
            "Loss: 0.19631704688072205. Accuracy: 96.88999938964844\n",
            "Loss: 0.02101532369852066. Accuracy: 96.97000122070312\n",
            "Loss: 0.013097180053591728. Accuracy: 97.12000274658203\n",
            "Loss: 0.12412026524543762. Accuracy: 97.22000122070312\n",
            "Loss: 0.08195900171995163. Accuracy: 97.41000366210938\n",
            "Loss: 0.023284854367375374. Accuracy: 97.5199966430664\n",
            "Loss: 0.028431065380573273. Accuracy: 96.80000305175781\n",
            "Loss: 0.05624125897884369. Accuracy: 97.13999938964844\n",
            "Loss: 0.003601174335926771. Accuracy: 97.29000091552734\n",
            "Loss: 0.04642247036099434. Accuracy: 97.5\n",
            "Loss: 0.09392498433589935. Accuracy: 97.0199966430664\n",
            "Loss: 0.004389591980725527. Accuracy: 97.5999984741211\n",
            "Loss: 0.05634952336549759. Accuracy: 97.70999908447266\n",
            "Loss: 0.008800307288765907. Accuracy: 97.61000061035156\n",
            "Loss: 0.13103319704532623. Accuracy: 97.77999877929688\n",
            "Loss: 0.02351158857345581. Accuracy: 97.83000183105469\n",
            "Loss: 0.00848586019128561. Accuracy: 97.5199966430664\n",
            "Loss: 0.01756531000137329. Accuracy: 97.77999877929688\n",
            "Loss: 0.008335066959261894. Accuracy: 97.55000305175781\n",
            "Loss: 0.04605499282479286. Accuracy: 97.77999877929688\n",
            "Loss: 0.0004984115366823971. Accuracy: 98.12999725341797\n",
            "Loss: 0.0042402856051921844. Accuracy: 97.44999694824219\n",
            "Loss: 0.011026284657418728. Accuracy: 97.88999938964844\n",
            "Loss: 0.040131475776433945. Accuracy: 97.55999755859375\n",
            "Loss: 0.009733807295560837. Accuracy: 97.79000091552734\n",
            "Loss: 0.006034256890416145. Accuracy: 97.2699966430664\n",
            "Loss: 0.04005105420947075. Accuracy: 97.73999786376953\n",
            "Loss: 0.006338592618703842. Accuracy: 97.91999816894531\n",
            "Loss: 0.05581448972225189. Accuracy: 97.8499984741211\n",
            "Loss: 0.009227372705936432. Accuracy: 97.7699966430664\n",
            "Loss: 0.01004775706678629. Accuracy: 98.08999633789062\n",
            "Loss: 0.041077371686697006. Accuracy: 98.05000305175781\n",
            "Loss: 0.03242165222764015. Accuracy: 97.81999969482422\n",
            "Loss: 0.07923346012830734. Accuracy: 97.61000061035156\n",
            "Loss: 0.04314989969134331. Accuracy: 97.88999938964844\n",
            "Loss: 0.018538489937782288. Accuracy: 97.80999755859375\n",
            "Loss: 0.015359028242528439. Accuracy: 97.8499984741211\n",
            "Loss: 0.08522456884384155. Accuracy: 97.33999633789062\n",
            "Loss: 0.12595754861831665. Accuracy: 97.83999633789062\n",
            "Loss: 0.02976098656654358. Accuracy: 97.98999786376953\n",
            "Loss: 0.24578163027763367. Accuracy: 97.91999816894531\n",
            "Loss: 0.0977371409535408. Accuracy: 97.83000183105469\n",
            "Loss: 0.00143520743586123. Accuracy: 97.73999786376953\n",
            "Loss: 0.001371341641061008. Accuracy: 98.19999694824219\n",
            "Loss: 0.010990766808390617. Accuracy: 98.18000030517578\n",
            "Loss: 0.019436150789260864. Accuracy: 98.1500015258789\n",
            "Loss: 0.003963681403547525. Accuracy: 97.83000183105469\n",
            "Loss: 0.027387060225009918. Accuracy: 97.7300033569336\n",
            "Loss: 0.0016387345967814326. Accuracy: 97.9800033569336\n",
            "Loss: 0.037338122725486755. Accuracy: 98.12999725341797\n",
            "Loss: 0.0041258856654167175. Accuracy: 97.88999938964844\n",
            "Loss: 0.0001674653758527711. Accuracy: 97.08000183105469\n",
            "Loss: 0.0013511021388694644. Accuracy: 98.25\n",
            "Loss: 0.000830814940854907. Accuracy: 97.91000366210938\n",
            "Loss: 0.015343223698437214. Accuracy: 97.63999938964844\n",
            "Loss: 0.0006796197849325836. Accuracy: 97.94000244140625\n",
            "Loss: 0.0008342735236510634. Accuracy: 97.95999908447266\n",
            "Loss: 0.02933848276734352. Accuracy: 97.94000244140625\n",
            "Loss: 0.055209387093782425. Accuracy: 98.04000091552734\n",
            "Loss: 0.013975664041936398. Accuracy: 98.02999877929688\n",
            "Loss: 3.426946932449937e-05. Accuracy: 98.22000122070312\n",
            "Loss: 0.0008472111658193171. Accuracy: 97.94000244140625\n",
            "Loss: 0.10985911637544632. Accuracy: 98.08999633789062\n",
            "Loss: 0.00046380743151530623. Accuracy: 97.8499984741211\n",
            "Loss: 0.014988154172897339. Accuracy: 97.95999908447266\n",
            "Loss: 0.0007804669439792633. Accuracy: 97.98999786376953\n",
            "Loss: 0.0816517099738121. Accuracy: 97.94999694824219\n",
            "Loss: 0.000981619581580162. Accuracy: 97.9800033569336\n",
            "Loss: 0.012874755077064037. Accuracy: 97.95999908447266\n",
            "Loss: 0.0007445494411513209. Accuracy: 97.97000122070312\n",
            "Loss: 0.0005628031212836504. Accuracy: 97.9800033569336\n",
            "Loss: 0.005669002421200275. Accuracy: 98.08000183105469\n",
            "Loss: 0.0023568489123135805. Accuracy: 98.08000183105469\n",
            "Loss: 5.610277003142983e-05. Accuracy: 97.8499984741211\n",
            "Loss: 0.0006617057370021939. Accuracy: 98.16000366210938\n",
            "Loss: 0.03782704100012779. Accuracy: 97.58000183105469\n",
            "Loss: 0.01057036779820919. Accuracy: 98.05000305175781\n",
            "Loss: 0.005667594727128744. Accuracy: 97.77999877929688\n",
            "Loss: 0.009875942021608353. Accuracy: 97.86000061035156\n",
            "Loss: 0.0005116191459819674. Accuracy: 98.20999908447266\n",
            "Loss: 0.04539794102311134. Accuracy: 97.94000244140625\n",
            "Loss: 0.006081859115511179. Accuracy: 98.13999938964844\n",
            "Loss: 0.013462178409099579. Accuracy: 97.62000274658203\n",
            "Loss: 0.02608548104763031. Accuracy: 98.02999877929688\n",
            "Loss: 0.0002765527169685811. Accuracy: 97.9800033569336\n",
            "Loss: 0.035324402153491974. Accuracy: 97.9800033569336\n",
            "Loss: 0.14095056056976318. Accuracy: 97.91999816894531\n",
            "Loss: 0.0004781769821420312. Accuracy: 98.29000091552734\n",
            "Loss: 0.02206180989742279. Accuracy: 98.12999725341797\n",
            "Loss: 5.1590246584964916e-05. Accuracy: 98.02999877929688\n",
            "Loss: 5.870806944585638e-06. Accuracy: 97.94999694824219\n",
            "Loss: 0.001210248563438654. Accuracy: 97.80000305175781\n",
            "Loss: 0.006411117035895586. Accuracy: 97.94999694824219\n",
            "Loss: 0.008040810003876686. Accuracy: 97.72000122070312\n",
            "Loss: 0.04071805626153946. Accuracy: 98.06999969482422\n",
            "Loss: 0.1838161200284958. Accuracy: 97.97000122070312\n",
            "Loss: 0.0012388331815600395. Accuracy: 97.80999755859375\n",
            "Loss: 0.012817269191145897. Accuracy: 98.18000030517578\n",
            "Loss: 2.4303093596245162e-05. Accuracy: 98.02999877929688\n",
            "Loss: 0.0012216879986226559. Accuracy: 97.58000183105469\n",
            "Loss: 0.00012658434570766985. Accuracy: 98.20999908447266\n",
            "Loss: 0.0003275519411545247. Accuracy: 97.94999694824219\n",
            "Loss: 0.00022930641716811806. Accuracy: 97.9800033569336\n",
            "Loss: 1.4039697816770058e-05. Accuracy: 97.9800033569336\n",
            "Loss: 0.04831999912858009. Accuracy: 97.98999786376953\n",
            "Loss: 0.0018523226026445627. Accuracy: 97.63999938964844\n",
            "Loss: 0.0003487294015940279. Accuracy: 98.08000183105469\n",
            "Loss: 0.0015291180461645126. Accuracy: 98.33000183105469\n",
            "Loss: 0.0009811624186113477. Accuracy: 98.13999938964844\n",
            "Loss: 7.002076745266095e-05. Accuracy: 98.08000183105469\n",
            "Loss: 1.5087194924490177e-06. Accuracy: 97.91000366210938\n",
            "Loss: 0.08087372034788132. Accuracy: 97.83000183105469\n",
            "Loss: 0.00010014115832746029. Accuracy: 98.11000061035156\n",
            "Loss: 2.6012599846580997e-05. Accuracy: 98.05000305175781\n",
            "Loss: 0.17652028799057007. Accuracy: 98.04000091552734\n",
            "Loss: 1.4504492355627008e-05. Accuracy: 98.23999786376953\n",
            "Loss: 0.008918778970837593. Accuracy: 98.25\n",
            "Loss: 0.004773917607963085. Accuracy: 97.95999908447266\n",
            "Loss: 0.0010554144391790032. Accuracy: 98.12999725341797\n",
            "Loss: 7.350539817707613e-05. Accuracy: 97.9800033569336\n",
            "Loss: 0.00018390709010418504. Accuracy: 97.95999908447266\n",
            "Loss: 0.0011549873743206263. Accuracy: 98.11000061035156\n",
            "Loss: 0.0017025717534124851. Accuracy: 98.06999969482422\n",
            "Loss: 0.0006560185574926436. Accuracy: 98.04000091552734\n",
            "Loss: 1.75198438228108e-05. Accuracy: 98.30999755859375\n",
            "Loss: 0.00030836393125355244. Accuracy: 98.29000091552734\n",
            "Loss: 1.2147491361247376e-05. Accuracy: 97.9800033569336\n",
            "Loss: 0.003477066056802869. Accuracy: 98.25\n",
            "Loss: 3.3932192309293896e-05. Accuracy: 98.19999694824219\n",
            "Loss: 0.00024371164909098297. Accuracy: 98.12999725341797\n",
            "Loss: 0.06711690127849579. Accuracy: 98.04000091552734\n",
            "Loss: 2.3375569071504287e-05. Accuracy: 98.16000366210938\n",
            "Loss: 3.185712921549566e-05. Accuracy: 98.33000183105469\n",
            "Loss: 0.0004494865133892745. Accuracy: 97.80999755859375\n",
            "Loss: 0.04564167186617851. Accuracy: 98.12000274658203\n",
            "Loss: 0.0010014564031735063. Accuracy: 98.3499984741211\n",
            "Loss: 0.0003573574358597398. Accuracy: 97.98999786376953\n",
            "Loss: 0.000922820414416492. Accuracy: 97.76000213623047\n",
            "Loss: 2.0106737792957574e-05. Accuracy: 98.05000305175781\n",
            "Loss: 0.02124457247555256. Accuracy: 97.79000091552734\n",
            "Loss: 7.904744052211754e-06. Accuracy: 98.0\n",
            "Loss: 3.4383551792416256e-06. Accuracy: 98.19000244140625\n",
            "Loss: 2.4885739549063146e-05. Accuracy: 98.19999694824219\n",
            "Loss: 8.687911758897826e-05. Accuracy: 98.05999755859375\n",
            "Loss: 0.018198689445853233. Accuracy: 98.08000183105469\n",
            "Loss: 0.015690194442868233. Accuracy: 97.86000061035156\n",
            "Loss: 0.006716524716466665. Accuracy: 98.22000122070312\n",
            "Loss: 0.00015533220721408725. Accuracy: 98.05000305175781\n",
            "Loss: 0.0003626969119068235. Accuracy: 98.12000274658203\n",
            "Loss: 0.005214348901063204. Accuracy: 98.18000030517578\n",
            "Loss: 0.07333588600158691. Accuracy: 98.19000244140625\n",
            "Loss: 0.00032693520188331604. Accuracy: 98.3499984741211\n",
            "Loss: 0.0009030476212501526. Accuracy: 98.16999816894531\n",
            "Loss: 0.004881753120571375. Accuracy: 97.98999786376953\n",
            "Loss: 1.1997311958111823e-05. Accuracy: 98.19000244140625\n",
            "Loss: 4.687568434746936e-05. Accuracy: 98.08000183105469\n",
            "Loss: 0.00026715826243162155. Accuracy: 97.83999633789062\n",
            "Loss: 1.4199218639987521e-05. Accuracy: 97.91999816894531\n",
            "Loss: 0.0008025752613320947. Accuracy: 97.9800033569336\n",
            "Loss: 0.0002863846893887967. Accuracy: 98.20999908447266\n",
            "Loss: 9.088314254768193e-05. Accuracy: 98.19000244140625\n",
            "Loss: 0.05910739675164223. Accuracy: 98.23999786376953\n",
            "Loss: 0.00021576818835455924. Accuracy: 98.26000213623047\n",
            "Loss: 0.0005473274504765868. Accuracy: 97.94999694824219\n",
            "Loss: 5.5542091104143765e-06. Accuracy: 97.9800033569336\n",
            "Loss: 0.0007053198060020804. Accuracy: 97.8499984741211\n",
            "Loss: 1.0467964557392406e-06. Accuracy: 97.98999786376953\n",
            "Loss: 0.009209146723151207. Accuracy: 98.22000122070312\n",
            "Final Accuracy: tensor(98.2200)\n"
          ]
        }
      ],
      "source": [
        "Loss = []\n",
        "Accuracy = []\n",
        "for epoch in range(n_epoch):\n",
        "    for i,(images,labels) in enumerate(train_dl):\n",
        "        images = torch.autograd.Variable(images.view(-1,n_inputs))\n",
        "        labels = torch.autograd.Variable(labels)\n",
        "\n",
        "        # Nullify gradients w.r.t. parameters\n",
        "        optimizer.zero_grad()\n",
        "        #forward propagation\n",
        "        output = model(images)\n",
        "        # compute loss based on obtained value and actual label\n",
        "        compute_loss = loss(output,labels)\n",
        "        # backward propagation\n",
        "        compute_loss.backward()\n",
        "        # update the parameters\n",
        "        optimizer.step()\n",
        "\n",
        "\n",
        "        if (i+1)%200 == 0:\n",
        "            # check total accuracy of predicted value and actual label\n",
        "            accurate = 0\n",
        "            total = 0\n",
        "            for images,labels in test_dl:\n",
        "                images = torch.autograd.Variable(images.view(-1,n_inputs))\n",
        "                output = model(images)\n",
        "                _,predicted = torch.max(output.data, 1)\n",
        "                # total labels\n",
        "                total+= labels.size(0)\n",
        "\n",
        "                # Total correct predictions\n",
        "                accurate+= (predicted == labels).sum()\n",
        "                accuracy_score = 100 * accurate/total\n",
        "            Loss.append(compute_loss.item())\n",
        "            Accuracy.append(accuracy_score)\n",
        "            print('Loss: {}. Accuracy: {}'.format(compute_loss.item(), accuracy_score))\n",
        "\n",
        "print('Final Accuracy:',accuracy_score)"
      ]
    },
    {
      "cell_type": "code",
      "source": [
        "plt.plot(Loss)\n",
        "plt.xlabel(\"no. of epochs\")\n",
        "plt.ylabel(\"total loss\")\n",
        "plt.title(\"Loss\")\n",
        "plt.show()"
      ],
      "metadata": {
        "id": "eavx4AikVc-z"
      },
      "execution_count": null,
      "outputs": []
    },
    {
      "cell_type": "code",
      "source": [
        "plt.plot(Accuracy)\n",
        "plt.xlabel(\"no. of epochs\")\n",
        "plt.ylabel(\"total accuracy\")\n",
        "plt.title(\"Accuracy\")\n",
        "plt.show()"
      ],
      "metadata": {
        "id": "Y8NIf7dZVdp2"
      },
      "execution_count": null,
      "outputs": []
    },
    {
      "cell_type": "code",
      "execution_count": null,
      "metadata": {
        "colab": {
          "base_uri": "https://localhost:8080/",
          "height": 465
        },
        "id": "0ytv8VBLoHk6",
        "outputId": "431dd6cf-92e2-4f27-aeb4-78586db0d5b2"
      },
      "outputs": [
        {
          "name": "stdout",
          "output_type": "stream",
          "text": [
            "The model predicted 6 with the probability of 34.912864685058594.\n",
            "\n"
          ]
        },
        {
          "data": {
            "image/png": "[encoded data removed]",
            "text/plain": [
              "<Figure size 640x480 with 1 Axes>"
            ]
          },
          "metadata": {},
          "output_type": "display_data"
        }
      ],
      "source": [
        "sample = torch.randint(len(test_data), size = (1,)).item()\n",
        "test_sample = test_data[sample][0].view(-1, 28*28)\n",
        "Testing_data(test_sample)"
      ]
    },
    {
      "cell_type": "code",
      "execution_count": null,
      "metadata": {
        "colab": {
          "base_uri": "https://localhost:8080/"
        },
        "id": "wJWlzBPLoSXF",
        "outputId": "56a62861-6e81-49eb-9232-f47c1199648b"
      },
      "outputs": [
        {
          "name": "stdout",
          "output_type": "stream",
          "text": [
            "The expected prediction is 6.\n"
          ]
        }
      ],
      "source": [
        "print(f'The expected prediction is {test_data[sample][1]}.')"
      ]
    },
    {
      "cell_type": "markdown",
      "metadata": {
        "id": "-w8XmQlRGlUl"
      },
      "source": [
        "### Model \\#5\n",
        "\n",
        "Here, we use two hidden layer with 256 and 128 neurons respectively. Both layers have relu as their activation. Also, we use Stochastic Gradient Descent as our activation."
      ]
    },
    {
      "cell_type": "code",
      "execution_count": null,
      "metadata": {
        "id": "Kf1msEJI2rOP"
      },
      "outputs": [],
      "source": [
        "class LogisticRegression(nn.Module):\n",
        " def __init__(self,n_inputs):\n",
        "   super(LogisticRegression,self).__init__()\n",
        "   self.layer1 = nn.Linear(n_inputs,256)\n",
        "   self.layer2 = nn.Linear(256, 128)\n",
        "   self.layer3 = nn.Linear(128,10)\n",
        " def forward(self,x):\n",
        "   y_pred = torch.relu(self.layer1(x))\n",
        "   y_pred = torch.relu(self.layer2(y_pred))\n",
        "   y_pred = self.layer3(y_pred)\n",
        "   return y_pred"
      ]
    },
    {
      "cell_type": "code",
      "execution_count": null,
      "metadata": {
        "id": "1gOqM1Ug2tVu"
      },
      "outputs": [],
      "source": [
        "model = LogisticRegression(n_inputs)\n",
        "loss = nn.CrossEntropyLoss()\n",
        "optimizer = torch.optim.SGD(model.parameters(),lr=0.001)\n",
        "n_epoch = 20"
      ]
    },
    {
      "cell_type": "code",
      "execution_count": null,
      "metadata": {
        "colab": {
          "base_uri": "https://localhost:8080/"
        },
        "id": "tSWBMEuy2wkR",
        "outputId": "185cfb77-39ad-4b38-a92f-d376e7a1a23f"
      },
      "outputs": [
        {
          "name": "stdout",
          "output_type": "stream",
          "text": [
            "Loss: 2.289487600326538. Accuracy: 11.949999809265137\n",
            "Loss: 2.2890522480010986. Accuracy: 14.109999656677246\n",
            "Loss: 2.271200180053711. Accuracy: 15.5600004196167\n",
            "Loss: 2.262303113937378. Accuracy: 16.489999771118164\n",
            "Loss: 2.2729458808898926. Accuracy: 17.34000015258789\n",
            "Loss: 2.2624552249908447. Accuracy: 18.860000610351562\n",
            "Loss: 2.257376194000244. Accuracy: 20.600000381469727\n",
            "Loss: 2.2574009895324707. Accuracy: 23.229999542236328\n",
            "Loss: 2.2255308628082275. Accuracy: 28.549999237060547\n",
            "Loss: 2.221400499343872. Accuracy: 37.43000030517578\n",
            "Loss: 2.1742963790893555. Accuracy: 42.15999984741211\n",
            "Loss: 2.175755739212036. Accuracy: 46.59000015258789\n",
            "Loss: 2.175260543823242. Accuracy: 50.84000015258789\n",
            "Loss: 2.1589393615722656. Accuracy: 54.630001068115234\n",
            "Loss: 2.1244819164276123. Accuracy: 56.72999954223633\n",
            "Loss: 2.0817606449127197. Accuracy: 58.380001068115234\n",
            "Loss: 2.0404388904571533. Accuracy: 60.7599983215332\n",
            "Loss: 2.0166897773742676. Accuracy: 63.689998626708984\n",
            "Loss: 1.9353997707366943. Accuracy: 65.13999938964844\n",
            "Loss: 2.028759241104126. Accuracy: 67.43000030517578\n",
            "Loss: 1.9846971035003662. Accuracy: 68.36000061035156\n",
            "Loss: 1.8781684637069702. Accuracy: 69.19999694824219\n",
            "Loss: 1.7964686155319214. Accuracy: 69.63999938964844\n",
            "Loss: 1.7867295742034912. Accuracy: 70.95999908447266\n",
            "Loss: 1.7086635828018188. Accuracy: 72.29000091552734\n",
            "Loss: 1.624096393585205. Accuracy: 73.19999694824219\n",
            "Loss: 1.5186293125152588. Accuracy: 73.69999694824219\n",
            "Loss: 1.6382312774658203. Accuracy: 73.98999786376953\n",
            "Loss: 1.5201308727264404. Accuracy: 74.91000366210938\n",
            "Loss: 1.3023096323013306. Accuracy: 75.62000274658203\n",
            "Loss: 1.3148177862167358. Accuracy: 76.37999725341797\n",
            "Loss: 1.127087116241455. Accuracy: 76.94999694824219\n",
            "Loss: 1.1059163808822632. Accuracy: 77.70999908447266\n",
            "Loss: 1.221765160560608. Accuracy: 78.58999633789062\n",
            "Loss: 0.9247838258743286. Accuracy: 78.83000183105469\n",
            "Loss: 1.1156238317489624. Accuracy: 79.81999969482422\n",
            "Loss: 0.7523030042648315. Accuracy: 80.72000122070312\n",
            "Loss: 0.7927704453468323. Accuracy: 80.8499984741211\n",
            "Loss: 1.0337618589401245. Accuracy: 81.16999816894531\n",
            "Loss: 0.9672061800956726. Accuracy: 81.66000366210938\n",
            "Loss: 0.9243851900100708. Accuracy: 81.62999725341797\n",
            "Loss: 0.7581155896186829. Accuracy: 82.0999984741211\n",
            "Loss: 0.6744245886802673. Accuracy: 82.69999694824219\n",
            "Loss: 0.6800284385681152. Accuracy: 82.69000244140625\n",
            "Loss: 0.8430432081222534. Accuracy: 82.94000244140625\n",
            "Loss: 0.7716487050056458. Accuracy: 83.31999969482422\n",
            "Loss: 0.6592342853546143. Accuracy: 83.87999725341797\n",
            "Loss: 0.579004168510437. Accuracy: 84.05000305175781\n",
            "Loss: 0.6670562028884888. Accuracy: 84.25\n",
            "Loss: 0.9044190645217896. Accuracy: 84.44000244140625\n",
            "Loss: 0.3840322196483612. Accuracy: 84.61000061035156\n",
            "Loss: 0.533440351486206. Accuracy: 84.43000030517578\n",
            "Loss: 0.5088425278663635. Accuracy: 84.86000061035156\n",
            "Loss: 0.4300909638404846. Accuracy: 85.05999755859375\n",
            "Loss: 0.7167243361473083. Accuracy: 85.33999633789062\n",
            "Loss: 0.733287513256073. Accuracy: 85.44000244140625\n",
            "Loss: 0.4248284697532654. Accuracy: 85.55000305175781\n",
            "Loss: 0.7487069964408875. Accuracy: 85.77999877929688\n",
            "Loss: 0.3730999529361725. Accuracy: 85.94000244140625\n",
            "Loss: 0.76860111951828. Accuracy: 86.06999969482422\n",
            "Loss: 0.47810956835746765. Accuracy: 86.16000366210938\n",
            "Loss: 0.6124336123466492. Accuracy: 86.23999786376953\n",
            "Loss: 0.3747250437736511. Accuracy: 86.43000030517578\n",
            "Loss: 0.741915762424469. Accuracy: 86.69999694824219\n",
            "Loss: 0.4340192973613739. Accuracy: 86.73999786376953\n",
            "Loss: 0.3259545862674713. Accuracy: 86.83999633789062\n",
            "Loss: 0.4379066824913025. Accuracy: 87.20999908447266\n",
            "Loss: 0.44612497091293335. Accuracy: 87.22000122070312\n",
            "Loss: 0.9804898500442505. Accuracy: 87.4800033569336\n",
            "Loss: 0.5298849940299988. Accuracy: 87.38999938964844\n",
            "Loss: 0.43669918179512024. Accuracy: 87.38999938964844\n",
            "Loss: 0.3314616084098816. Accuracy: 87.5999984741211\n",
            "Loss: 0.4330241084098816. Accuracy: 87.7699966430664\n",
            "Loss: 0.5148470401763916. Accuracy: 87.81999969482422\n",
            "Loss: 0.6139056086540222. Accuracy: 87.88999938964844\n",
            "Loss: 0.5299253463745117. Accuracy: 87.95999908447266\n",
            "Loss: 0.45833921432495117. Accuracy: 87.93000030517578\n",
            "Loss: 0.35929393768310547. Accuracy: 87.97000122070312\n",
            "Loss: 0.5596096515655518. Accuracy: 88.08999633789062\n",
            "Loss: 0.30371007323265076. Accuracy: 87.98999786376953\n",
            "Loss: 0.33779585361480713. Accuracy: 88.18000030517578\n",
            "Loss: 0.3193016052246094. Accuracy: 88.38999938964844\n",
            "Loss: 0.47520026564598083. Accuracy: 88.30000305175781\n",
            "Loss: 0.26431792974472046. Accuracy: 88.47000122070312\n",
            "Loss: 0.3428646922111511. Accuracy: 88.52999877929688\n",
            "Loss: 0.2603030204772949. Accuracy: 88.55999755859375\n",
            "Loss: 0.679408848285675. Accuracy: 88.55999755859375\n",
            "Loss: 0.4496484100818634. Accuracy: 88.66999816894531\n",
            "Loss: 0.5123110413551331. Accuracy: 88.76000213623047\n",
            "Loss: 0.3612075448036194. Accuracy: 88.83999633789062\n",
            "Loss: 0.3998561203479767. Accuracy: 88.87000274658203\n",
            "Loss: 0.38553276658058167. Accuracy: 88.91999816894531\n",
            "Loss: 0.36198288202285767. Accuracy: 88.94000244140625\n",
            "Loss: 0.3746122419834137. Accuracy: 88.95999908447266\n",
            "Loss: 0.24517425894737244. Accuracy: 89.01000213623047\n",
            "Loss: 0.46834325790405273. Accuracy: 89.0999984741211\n",
            "Loss: 0.4427971839904785. Accuracy: 89.19000244140625\n",
            "Loss: 0.2683173418045044. Accuracy: 89.23999786376953\n",
            "Loss: 0.6509171724319458. Accuracy: 89.3499984741211\n",
            "Loss: 0.23958618938922882. Accuracy: 89.33999633789062\n",
            "Loss: 0.36805009841918945. Accuracy: 89.33999633789062\n",
            "Loss: 0.20924735069274902. Accuracy: 89.41000366210938\n",
            "Loss: 0.4639461040496826. Accuracy: 89.41000366210938\n",
            "Loss: 0.28447455167770386. Accuracy: 89.43000030517578\n",
            "Loss: 0.6310750246047974. Accuracy: 89.41999816894531\n",
            "Loss: 0.36105799674987793. Accuracy: 89.45999908447266\n",
            "Loss: 0.4601867198944092. Accuracy: 89.44999694824219\n",
            "Loss: 0.2902194857597351. Accuracy: 89.47000122070312\n",
            "Loss: 0.3516784608364105. Accuracy: 89.55000305175781\n",
            "Loss: 0.3006399869918823. Accuracy: 89.58000183105469\n",
            "Loss: 0.4998754560947418. Accuracy: 89.5999984741211\n",
            "Loss: 0.2956809103488922. Accuracy: 89.72000122070312\n",
            "Loss: 0.27014949917793274. Accuracy: 89.68000030517578\n",
            "Loss: 0.377098023891449. Accuracy: 89.7699966430664\n",
            "Loss: 0.35111817717552185. Accuracy: 89.77999877929688\n",
            "Loss: 0.4400755763053894. Accuracy: 89.7300033569336\n",
            "Loss: 0.25330230593681335. Accuracy: 89.81999969482422\n",
            "Loss: 0.24912656843662262. Accuracy: 89.87999725341797\n",
            "Loss: 0.28460800647735596. Accuracy: 89.88999938964844\n",
            "Loss: 0.6287676095962524. Accuracy: 89.91999816894531\n",
            "Loss: 0.3388376235961914. Accuracy: 89.8499984741211\n",
            "Loss: 0.3324965834617615. Accuracy: 89.9800033569336\n",
            "Loss: 0.2573765516281128. Accuracy: 89.94999694824219\n",
            "Loss: 0.2005048245191574. Accuracy: 90.04000091552734\n",
            "Loss: 0.5052094459533691. Accuracy: 90.06999969482422\n",
            "Loss: 0.31011509895324707. Accuracy: 90.0199966430664\n",
            "Loss: 0.2984464466571808. Accuracy: 90.12000274658203\n",
            "Loss: 0.24450349807739258. Accuracy: 89.98999786376953\n",
            "Loss: 0.22072887420654297. Accuracy: 90.19999694824219\n",
            "Loss: 0.27581268548965454. Accuracy: 90.12000274658203\n",
            "Loss: 0.287271648645401. Accuracy: 90.16000366210938\n",
            "Loss: 0.6106870770454407. Accuracy: 90.08000183105469\n",
            "Loss: 0.3156818151473999. Accuracy: 90.30000305175781\n",
            "Loss: 0.2940685451030731. Accuracy: 90.36000061035156\n",
            "Loss: 0.46076980233192444. Accuracy: 90.37999725341797\n",
            "Loss: 0.49442100524902344. Accuracy: 90.38999938964844\n",
            "Loss: 0.32729318737983704. Accuracy: 90.31999969482422\n",
            "Loss: 0.3328452408313751. Accuracy: 90.38999938964844\n",
            "Loss: 0.2666492462158203. Accuracy: 90.5199966430664\n",
            "Loss: 0.5151142477989197. Accuracy: 90.55000305175781\n",
            "Loss: 0.28254905343055725. Accuracy: 90.55999755859375\n",
            "Loss: 0.45681726932525635. Accuracy: 90.5\n",
            "Loss: 0.39470651745796204. Accuracy: 90.61000061035156\n",
            "Loss: 0.781154990196228. Accuracy: 90.54000091552734\n",
            "Loss: 0.2459246665239334. Accuracy: 90.66999816894531\n",
            "Loss: 0.4128524959087372. Accuracy: 90.79000091552734\n",
            "Loss: 0.17218095064163208. Accuracy: 90.70999908447266\n",
            "Loss: 0.8921058177947998. Accuracy: 90.62999725341797\n",
            "Loss: 0.19993361830711365. Accuracy: 90.66000366210938\n",
            "Loss: 0.2618914842605591. Accuracy: 90.70999908447266\n",
            "Loss: 0.45438963174819946. Accuracy: 90.79000091552734\n",
            "Loss: 0.35251766443252563. Accuracy: 90.81999969482422\n",
            "Loss: 0.13231824338436127. Accuracy: 90.94000244140625\n",
            "Loss: 0.26701414585113525. Accuracy: 90.77999877929688\n",
            "Loss: 0.3126976490020752. Accuracy: 90.70999908447266\n",
            "Loss: 0.17366373538970947. Accuracy: 90.94000244140625\n",
            "Loss: 0.17017164826393127. Accuracy: 90.9800033569336\n",
            "Loss: 0.16096799075603485. Accuracy: 90.87999725341797\n",
            "Loss: 0.7173764705657959. Accuracy: 90.87999725341797\n",
            "Loss: 0.2588012218475342. Accuracy: 90.94000244140625\n",
            "Loss: 0.38214200735092163. Accuracy: 90.87999725341797\n",
            "Loss: 0.5144919753074646. Accuracy: 90.94000244140625\n",
            "Loss: 0.3063315451145172. Accuracy: 91.05000305175781\n",
            "Loss: 0.2176528126001358. Accuracy: 91.01000213623047\n",
            "Loss: 0.4724908471107483. Accuracy: 90.94999694824219\n",
            "Loss: 0.4057864248752594. Accuracy: 91.01000213623047\n",
            "Loss: 0.1803165078163147. Accuracy: 91.04000091552734\n",
            "Loss: 0.38270705938339233. Accuracy: 91.12999725341797\n",
            "Loss: 0.5705012679100037. Accuracy: 91.06999969482422\n",
            "Loss: 0.10049527883529663. Accuracy: 91.06999969482422\n",
            "Loss: 0.4376180171966553. Accuracy: 91.06999969482422\n",
            "Loss: 0.1539623886346817. Accuracy: 91.16999816894531\n",
            "Loss: 0.2397492676973343. Accuracy: 91.06999969482422\n",
            "Loss: 0.1868925243616104. Accuracy: 91.16000366210938\n",
            "Loss: 0.526272714138031. Accuracy: 91.0999984741211\n",
            "Loss: 0.22759215533733368. Accuracy: 91.26000213623047\n",
            "Loss: 0.19477544724941254. Accuracy: 91.27999877929688\n",
            "Loss: 0.1256544142961502. Accuracy: 91.1500015258789\n",
            "Loss: 0.540890097618103. Accuracy: 91.27999877929688\n",
            "Loss: 0.08791788667440414. Accuracy: 91.26000213623047\n",
            "Final Accuracy: tensor(91.2600)\n"
          ]
        }
      ],
      "source": [
        "Loss = []\n",
        "Accuracy = []\n",
        "for epoch in range(n_epoch):\n",
        "    for i,(images,labels) in enumerate(train_dl):\n",
        "        images = torch.autograd.Variable(images.view(-1,n_inputs))\n",
        "        labels = torch.autograd.Variable(labels)\n",
        "\n",
        "        # Nullify gradients w.r.t. parameters\n",
        "        optimizer.zero_grad()\n",
        "        #forward propagation\n",
        "        output = model(images)\n",
        "        # compute loss based on obtained value and actual label\n",
        "        compute_loss = loss(output,labels)\n",
        "        # backward propagation\n",
        "        compute_loss.backward()\n",
        "        # update the parameters\n",
        "        optimizer.step()\n",
        "\n",
        "\n",
        "        if (i+1)%200 == 0:\n",
        "            # check total accuracy of predicted value and actual label\n",
        "            accurate = 0\n",
        "            total = 0\n",
        "            for images,labels in test_dl:\n",
        "                images = torch.autograd.Variable(images.view(-1,n_inputs))\n",
        "                output = model(images)\n",
        "                _,predicted = torch.max(output.data, 1)\n",
        "                # total labels\n",
        "                total+= labels.size(0)\n",
        "\n",
        "                # Total correct predictions\n",
        "                accurate+= (predicted == labels).sum()\n",
        "                accuracy_score = 100 * accurate/total\n",
        "            Loss.append(compute_loss.item())\n",
        "            Accuracy.append(accuracy_score)\n",
        "            print('Loss: {}. Accuracy: {}'.format(compute_loss.item(), accuracy_score))\n",
        "\n",
        "print('Final Accuracy:',accuracy_score)"
      ]
    },
    {
      "cell_type": "code",
      "source": [
        "plt.plot(Loss)\n",
        "plt.xlabel(\"no. of epochs\")\n",
        "plt.ylabel(\"total loss\")\n",
        "plt.title(\"Loss\")\n",
        "plt.show()"
      ],
      "metadata": {
        "id": "amGkTcHjVjio"
      },
      "execution_count": null,
      "outputs": []
    },
    {
      "cell_type": "code",
      "source": [
        "plt.plot(Accuracy)\n",
        "plt.xlabel(\"no. of epochs\")\n",
        "plt.ylabel(\"total accuracy\")\n",
        "plt.title(\"Accuracy\")\n",
        "plt.show()"
      ],
      "metadata": {
        "id": "HedMJ-JZVkr_"
      },
      "execution_count": null,
      "outputs": []
    },
    {
      "cell_type": "code",
      "execution_count": null,
      "metadata": {
        "colab": {
          "base_uri": "https://localhost:8080/",
          "height": 465
        },
        "id": "dLfD2BxXoJBU",
        "outputId": "a2b13e98-1683-4547-e315-e632c680ebfb"
      },
      "outputs": [
        {
          "name": "stdout",
          "output_type": "stream",
          "text": [
            "The model predicted 1 with the probability of 8.541093826293945.\n",
            "\n"
          ]
        },
        {
          "data": {
            "image/png": "[encoded data removed]",
            "text/plain": [
              "<Figure size 640x480 with 1 Axes>"
            ]
          },
          "metadata": {},
          "output_type": "display_data"
        }
      ],
      "source": [
        "sample = torch.randint(len(test_data), size = (1,)).item()\n",
        "test_sample = test_data[sample][0].view(-1, 28*28)\n",
        "Testing_data(test_sample)"
      ]
    },
    {
      "cell_type": "code",
      "execution_count": null,
      "metadata": {
        "colab": {
          "base_uri": "https://localhost:8080/"
        },
        "id": "J5TqRsgMoTZk",
        "outputId": "a0a8e7e0-a59f-4cd2-dde1-1a30ae390b45"
      },
      "outputs": [
        {
          "name": "stdout",
          "output_type": "stream",
          "text": [
            "The expected prediction is 1.\n"
          ]
        }
      ],
      "source": [
        "print(f'The expected prediction is {test_data[sample][1]}.')"
      ]
    },
    {
      "cell_type": "markdown",
      "metadata": {
        "id": "yB7cAPHoHlMb"
      },
      "source": [
        "#Model #6\n",
        "\n",
        "Here, we use two hidden layers with 256 and 128 neurons respectively. The second hidden layer has relu activation and we use sigmoid as our classifier. Also, we use Adam as our optimizer."
      ]
    },
    {
      "cell_type": "code",
      "execution_count": null,
      "metadata": {
        "id": "dyGQUnNPDz5W"
      },
      "outputs": [],
      "source": [
        "class LogisticRegression(nn.Module):\n",
        " def __init__(self,n_inputs):\n",
        "   super(LogisticRegression,self).__init__()\n",
        "   self.layer1 = nn.Linear(n_inputs,256)\n",
        "   self.layer2 = nn.Linear(256, 128)\n",
        "   self.layer3 = nn.Linear(128,10)\n",
        " def forward(self,x):\n",
        "   y_pred = self.layer1(x)\n",
        "   y_pred = torch.relu(self.layer2(y_pred))\n",
        "   y_pred = torch.sigmoid(self.layer3(y_pred))\n",
        "   return y_pred"
      ]
    },
    {
      "cell_type": "code",
      "execution_count": null,
      "metadata": {
        "id": "X7QGnJ5wEMRA"
      },
      "outputs": [],
      "source": [
        "model = LogisticRegression(n_inputs)\n",
        "loss = nn.CrossEntropyLoss()\n",
        "optimizer = torch.optim.Adam(model.parameters(),lr=0.001)\n",
        "n_epoch = 20"
      ]
    },
    {
      "cell_type": "code",
      "execution_count": null,
      "metadata": {
        "colab": {
          "base_uri": "https://localhost:8080/"
        },
        "id": "RyIErfryEOX3",
        "outputId": "c741b4c0-79e4-45cc-fa2b-d384a6305d76"
      },
      "outputs": [
        {
          "name": "stdout",
          "output_type": "stream",
          "text": [
            "Loss: 1.573628544807434. Accuracy: 81.7300033569336\n",
            "Loss: 1.6042530536651611. Accuracy: 90.63999938964844\n",
            "Loss: 1.5396907329559326. Accuracy: 91.45999908447266\n",
            "Loss: 1.522157073020935. Accuracy: 92.22000122070312\n",
            "Loss: 1.5793325901031494. Accuracy: 92.11000061035156\n",
            "Loss: 1.4960687160491943. Accuracy: 92.19000244140625\n",
            "Loss: 1.5632458925247192. Accuracy: 91.66000366210938\n",
            "Loss: 1.474797010421753. Accuracy: 92.98999786376953\n",
            "Loss: 1.4663726091384888. Accuracy: 92.83000183105469\n",
            "Loss: 1.5021240711212158. Accuracy: 93.13999938964844\n",
            "Loss: 1.6471115350723267. Accuracy: 91.55000305175781\n",
            "Loss: 1.5126159191131592. Accuracy: 93.68000030517578\n",
            "Loss: 1.5040068626403809. Accuracy: 93.70999908447266\n",
            "Loss: 1.5065349340438843. Accuracy: 92.33000183105469\n",
            "Loss: 1.5433387756347656. Accuracy: 93.41000366210938\n",
            "Loss: 1.5162476301193237. Accuracy: 93.01000213623047\n",
            "Loss: 1.5898617506027222. Accuracy: 93.3499984741211\n",
            "Loss: 1.472591519355774. Accuracy: 93.88999938964844\n",
            "Loss: 1.535236120223999. Accuracy: 93.81999969482422\n",
            "Loss: 1.5020968914031982. Accuracy: 93.81999969482422\n",
            "Loss: 1.4943078756332397. Accuracy: 94.41000366210938\n",
            "Loss: 1.5580763816833496. Accuracy: 94.30000305175781\n",
            "Loss: 1.5363445281982422. Accuracy: 93.70999908447266\n",
            "Loss: 1.5308382511138916. Accuracy: 94.27999877929688\n",
            "Loss: 1.4884151220321655. Accuracy: 93.55000305175781\n",
            "Loss: 1.5821611881256104. Accuracy: 93.5999984741211\n",
            "Loss: 1.4918851852416992. Accuracy: 94.45999908447266\n",
            "Loss: 1.4686683416366577. Accuracy: 95.01000213623047\n",
            "Loss: 1.471787452697754. Accuracy: 94.44999694824219\n",
            "Loss: 1.4951043128967285. Accuracy: 94.91000366210938\n",
            "Loss: 1.4791967868804932. Accuracy: 94.86000061035156\n",
            "Loss: 1.530353307723999. Accuracy: 95.13999938964844\n",
            "Loss: 1.4737775325775146. Accuracy: 95.16000366210938\n",
            "Loss: 1.500550389289856. Accuracy: 95.33000183105469\n",
            "Loss: 1.5036752223968506. Accuracy: 94.9800033569336\n",
            "Loss: 1.5635664463043213. Accuracy: 94.62000274658203\n",
            "Loss: 1.5264025926589966. Accuracy: 94.95999908447266\n",
            "Loss: 1.5011285543441772. Accuracy: 94.70999908447266\n",
            "Loss: 1.4730796813964844. Accuracy: 94.33999633789062\n",
            "Loss: 1.4695782661437988. Accuracy: 95.30000305175781\n",
            "Loss: 1.4939239025115967. Accuracy: 95.13999938964844\n",
            "Loss: 1.4720447063446045. Accuracy: 94.94000244140625\n",
            "Loss: 1.4757815599441528. Accuracy: 95.22000122070312\n",
            "Loss: 1.5089097023010254. Accuracy: 94.33000183105469\n",
            "Loss: 1.4970028400421143. Accuracy: 95.2699966430664\n",
            "Loss: 1.5745322704315186. Accuracy: 95.20999908447266\n",
            "Loss: 1.479703664779663. Accuracy: 95.3499984741211\n",
            "Loss: 1.4718666076660156. Accuracy: 95.30000305175781\n",
            "Loss: 1.5352647304534912. Accuracy: 95.38999938964844\n",
            "Loss: 1.4800429344177246. Accuracy: 95.4000015258789\n",
            "Loss: 1.5111902952194214. Accuracy: 95.7699966430664\n",
            "Loss: 1.5048102140426636. Accuracy: 95.12000274658203\n",
            "Loss: 1.4704874753952026. Accuracy: 95.6500015258789\n",
            "Loss: 1.4759899377822876. Accuracy: 95.38999938964844\n",
            "Loss: 1.4922351837158203. Accuracy: 94.81999969482422\n",
            "Loss: 1.4642627239227295. Accuracy: 95.80999755859375\n",
            "Loss: 1.4945660829544067. Accuracy: 95.20999908447266\n",
            "Loss: 1.4868006706237793. Accuracy: 95.43000030517578\n",
            "Loss: 1.5118958950042725. Accuracy: 95.26000213623047\n",
            "Loss: 1.5071197748184204. Accuracy: 95.4800033569336\n",
            "Loss: 1.5104594230651855. Accuracy: 95.19000244140625\n",
            "Loss: 1.4620262384414673. Accuracy: 95.81999969482422\n",
            "Loss: 1.480932593345642. Accuracy: 95.31999969482422\n",
            "Loss: 1.509544014930725. Accuracy: 95.37999725341797\n",
            "Loss: 1.4937915802001953. Accuracy: 95.2300033569336\n",
            "Loss: 1.480048656463623. Accuracy: 95.81999969482422\n",
            "Loss: 1.4616154432296753. Accuracy: 95.69999694824219\n",
            "Loss: 1.4962706565856934. Accuracy: 95.62000274658203\n",
            "Loss: 1.5126211643218994. Accuracy: 95.73999786376953\n",
            "Loss: 1.4914449453353882. Accuracy: 95.91000366210938\n",
            "Loss: 1.496773600578308. Accuracy: 95.79000091552734\n",
            "Loss: 1.465545654296875. Accuracy: 95.83999633789062\n",
            "Loss: 1.4799299240112305. Accuracy: 95.58000183105469\n",
            "Loss: 1.4883334636688232. Accuracy: 95.63999938964844\n",
            "Loss: 1.5187643766403198. Accuracy: 95.81999969482422\n",
            "Loss: 1.5379403829574585. Accuracy: 95.56999969482422\n",
            "Loss: 1.4691650867462158. Accuracy: 96.04000091552734\n",
            "Loss: 1.494479775428772. Accuracy: 95.69000244140625\n",
            "Loss: 1.4717847108840942. Accuracy: 95.69999694824219\n",
            "Loss: 1.5314538478851318. Accuracy: 94.97000122070312\n",
            "Loss: 1.5334751605987549. Accuracy: 95.62000274658203\n",
            "Loss: 1.4665231704711914. Accuracy: 96.01000213623047\n",
            "Loss: 1.4708061218261719. Accuracy: 95.55999755859375\n",
            "Loss: 1.5755977630615234. Accuracy: 95.83000183105469\n",
            "Loss: 1.4623866081237793. Accuracy: 95.7300033569336\n",
            "Loss: 1.4693485498428345. Accuracy: 95.45999908447266\n",
            "Loss: 1.5145381689071655. Accuracy: 95.37000274658203\n",
            "Loss: 1.4613761901855469. Accuracy: 95.83999633789062\n",
            "Loss: 1.4997856616973877. Accuracy: 95.77999877929688\n",
            "Loss: 1.4668134450912476. Accuracy: 95.62000274658203\n",
            "Loss: 1.4946727752685547. Accuracy: 96.01000213623047\n",
            "Loss: 1.4700533151626587. Accuracy: 95.91000366210938\n",
            "Loss: 1.4679005146026611. Accuracy: 95.94999694824219\n",
            "Loss: 1.467685341835022. Accuracy: 95.83000183105469\n",
            "Loss: 1.4740134477615356. Accuracy: 95.76000213623047\n",
            "Loss: 1.4908514022827148. Accuracy: 95.72000122070312\n",
            "Loss: 1.496504545211792. Accuracy: 95.56999969482422\n",
            "Loss: 1.483959674835205. Accuracy: 93.37000274658203\n",
            "Loss: 1.4915363788604736. Accuracy: 95.80000305175781\n",
            "Loss: 1.4918615818023682. Accuracy: 95.80999755859375\n",
            "Loss: 1.4611505270004272. Accuracy: 95.91999816894531\n",
            "Loss: 1.4697364568710327. Accuracy: 96.02999877929688\n",
            "Loss: 1.5605292320251465. Accuracy: 96.0199966430664\n",
            "Loss: 1.5007892847061157. Accuracy: 95.80999755859375\n",
            "Loss: 1.528698205947876. Accuracy: 95.73999786376953\n",
            "Loss: 1.4789193868637085. Accuracy: 95.81999969482422\n",
            "Loss: 1.4626389741897583. Accuracy: 95.56999969482422\n",
            "Loss: 1.4697022438049316. Accuracy: 95.62000274658203\n",
            "Loss: 1.4611505270004272. Accuracy: 95.58000183105469\n",
            "Loss: 1.5138144493103027. Accuracy: 95.19999694824219\n",
            "Loss: 1.4818273782730103. Accuracy: 95.76000213623047\n",
            "Loss: 1.4714388847351074. Accuracy: 95.55000305175781\n",
            "Loss: 1.5005764961242676. Accuracy: 95.80999755859375\n",
            "Loss: 1.4611518383026123. Accuracy: 95.80999755859375\n",
            "Loss: 1.4874871969223022. Accuracy: 96.19000244140625\n",
            "Loss: 1.5155894756317139. Accuracy: 95.87000274658203\n",
            "Loss: 1.4762428998947144. Accuracy: 95.83000183105469\n",
            "Loss: 1.5020904541015625. Accuracy: 95.16999816894531\n",
            "Loss: 1.4654937982559204. Accuracy: 95.6500015258789\n",
            "Loss: 1.5301566123962402. Accuracy: 95.5199966430664\n",
            "Loss: 1.4614297151565552. Accuracy: 95.72000122070312\n",
            "Loss: 1.4654309749603271. Accuracy: 95.91000366210938\n",
            "Loss: 1.5031201839447021. Accuracy: 95.08000183105469\n",
            "Loss: 1.491761326789856. Accuracy: 94.9000015258789\n",
            "Loss: 1.521103024482727. Accuracy: 95.7699966430664\n",
            "Loss: 1.5086230039596558. Accuracy: 95.68000030517578\n",
            "Loss: 1.4708278179168701. Accuracy: 96.0199966430664\n",
            "Loss: 1.4696720838546753. Accuracy: 95.91000366210938\n",
            "Loss: 1.5025124549865723. Accuracy: 95.25\n",
            "Loss: 1.513692855834961. Accuracy: 95.47000122070312\n",
            "Loss: 1.4611504077911377. Accuracy: 95.87999725341797\n",
            "Loss: 1.4999234676361084. Accuracy: 95.80000305175781\n",
            "Loss: 1.4914709329605103. Accuracy: 95.95999908447266\n",
            "Loss: 1.496681571006775. Accuracy: 95.47000122070312\n",
            "Loss: 1.500622272491455. Accuracy: 95.69999694824219\n",
            "Loss: 1.4938552379608154. Accuracy: 95.97000122070312\n",
            "Loss: 1.4857631921768188. Accuracy: 96.29000091552734\n",
            "Loss: 1.466696858406067. Accuracy: 95.5999984741211\n",
            "Loss: 1.4971836805343628. Accuracy: 96.02999877929688\n",
            "Loss: 1.4654264450073242. Accuracy: 96.12999725341797\n",
            "Loss: 1.504235029220581. Accuracy: 96.12000274658203\n",
            "Loss: 1.4971096515655518. Accuracy: 95.8499984741211\n",
            "Loss: 1.481951355934143. Accuracy: 94.94000244140625\n",
            "Loss: 1.4781343936920166. Accuracy: 95.98999786376953\n",
            "Loss: 1.5236504077911377. Accuracy: 96.0199966430664\n",
            "Loss: 1.5053446292877197. Accuracy: 95.62000274658203\n",
            "Loss: 1.4697084426879883. Accuracy: 95.66000366210938\n",
            "Loss: 1.4999299049377441. Accuracy: 96.19000244140625\n",
            "Loss: 1.4734617471694946. Accuracy: 95.5999984741211\n",
            "Loss: 1.4614113569259644. Accuracy: 96.05000305175781\n",
            "Loss: 1.4654263257980347. Accuracy: 96.0\n",
            "Loss: 1.5042312145233154. Accuracy: 95.62000274658203\n",
            "Loss: 1.4917224645614624. Accuracy: 96.0999984741211\n",
            "Loss: 1.5229586362838745. Accuracy: 95.73999786376953\n",
            "Loss: 1.4654756784439087. Accuracy: 96.31999969482422\n",
            "Loss: 1.4798439741134644. Accuracy: 95.33000183105469\n",
            "Loss: 1.5092475414276123. Accuracy: 95.4800033569336\n",
            "Loss: 1.5268653631210327. Accuracy: 96.06999969482422\n",
            "Loss: 1.4782882928848267. Accuracy: 95.81999969482422\n",
            "Loss: 1.4695321321487427. Accuracy: 95.77999877929688\n",
            "Loss: 1.5283212661743164. Accuracy: 96.30999755859375\n",
            "Loss: 1.4612294435501099. Accuracy: 96.26000213623047\n",
            "Loss: 1.4954252243041992. Accuracy: 95.81999969482422\n",
            "Loss: 1.4686715602874756. Accuracy: 95.5999984741211\n",
            "Loss: 1.4734505414962769. Accuracy: 95.93000030517578\n",
            "Loss: 1.4764232635498047. Accuracy: 95.18000030517578\n",
            "Loss: 1.5258455276489258. Accuracy: 95.72000122070312\n",
            "Loss: 1.4613568782806396. Accuracy: 95.41000366210938\n",
            "Loss: 1.5662397146224976. Accuracy: 96.19999694824219\n",
            "Loss: 1.5931644439697266. Accuracy: 95.80999755859375\n",
            "Loss: 1.4739781618118286. Accuracy: 96.08000183105469\n",
            "Loss: 1.4611505270004272. Accuracy: 95.9800033569336\n",
            "Loss: 1.5050947666168213. Accuracy: 95.27999877929688\n",
            "Loss: 1.4699780941009521. Accuracy: 96.13999938964844\n",
            "Loss: 1.505186915397644. Accuracy: 95.25\n",
            "Loss: 1.5079423189163208. Accuracy: 95.68000030517578\n",
            "Loss: 1.4697022438049316. Accuracy: 95.51000213623047\n",
            "Loss: 1.4936087131500244. Accuracy: 94.66999816894531\n",
            "Loss: 1.4697036743164062. Accuracy: 95.91000366210938\n",
            "Loss: 1.5045642852783203. Accuracy: 95.47000122070312\n",
            "Final Accuracy: tensor(95.4700)\n"
          ]
        }
      ],
      "source": [
        "Loss = []\n",
        "Accuracy = []\n",
        "for epoch in range(n_epoch):\n",
        "    for i,(images,labels) in enumerate(train_dl):\n",
        "        images = torch.autograd.Variable(images.view(-1,n_inputs))\n",
        "        labels = torch.autograd.Variable(labels)\n",
        "\n",
        "        # Nullify gradients w.r.t. parameters\n",
        "        optimizer.zero_grad()\n",
        "        #forward propagation\n",
        "        output = model(images)\n",
        "        # compute loss based on obtained value and actual label\n",
        "        compute_loss = loss(output,labels)\n",
        "        # backward propagation\n",
        "        compute_loss.backward()\n",
        "        # update the parameters\n",
        "        optimizer.step()\n",
        "\n",
        "\n",
        "        if (i+1)%200 == 0:\n",
        "            # check total accuracy of predicted value and actual label\n",
        "            accurate = 0\n",
        "            total = 0\n",
        "            for images,labels in test_dl:\n",
        "                images = torch.autograd.Variable(images.view(-1,n_inputs))\n",
        "                output = model(images)\n",
        "                _,predicted = torch.max(output.data, 1)\n",
        "                # total labels\n",
        "                total+= labels.size(0)\n",
        "\n",
        "                # Total correct predictions\n",
        "                accurate+= (predicted == labels).sum()\n",
        "                accuracy_score = 100 * accurate/total\n",
        "            Loss.append(compute_loss.item())\n",
        "            Accuracy.append(accuracy_score)\n",
        "            print('Loss: {}. Accuracy: {}'.format(compute_loss.item(), accuracy_score))\n",
        "\n",
        "print('Final Accuracy:',accuracy_score)"
      ]
    },
    {
      "cell_type": "code",
      "source": [
        "plt.plot(Loss)\n",
        "plt.xlabel(\"no. of epochs\")\n",
        "plt.ylabel(\"total loss\")\n",
        "plt.title(\"Loss\")\n",
        "plt.show()"
      ],
      "metadata": {
        "id": "GghCUbUlVqDL"
      },
      "execution_count": null,
      "outputs": []
    },
    {
      "cell_type": "code",
      "source": [
        "plt.plot(Accuracy)\n",
        "plt.xlabel(\"no. of epochs\")\n",
        "plt.ylabel(\"total accuracy\")\n",
        "plt.title(\"Accuracy\")\n",
        "plt.show()"
      ],
      "metadata": {
        "id": "MBS4UmrsVrA9"
      },
      "execution_count": null,
      "outputs": []
    },
    {
      "cell_type": "code",
      "execution_count": null,
      "metadata": {
        "colab": {
          "base_uri": "https://localhost:8080/",
          "height": 465
        },
        "id": "mX1_IiSSoKlB",
        "outputId": "858719e5-196f-4d29-c34a-9af497ddc25a"
      },
      "outputs": [
        {
          "name": "stdout",
          "output_type": "stream",
          "text": [
            "The model predicted 1 with the probability of 1.0.\n",
            "\n"
          ]
        },
        {
          "data": {
            "image/png": "[encoded data removed]",
            "text/plain": [
              "<Figure size 640x480 with 1 Axes>"
            ]
          },
          "metadata": {},
          "output_type": "display_data"
        }
      ],
      "source": [
        "sample = torch.randint(len(test_data), size = (1,)).item()\n",
        "test_sample = test_data[sample][0].view(-1, 28*28)\n",
        "Testing_data(test_sample)"
      ]
    },
    {
      "cell_type": "code",
      "execution_count": null,
      "metadata": {
        "colab": {
          "base_uri": "https://localhost:8080/"
        },
        "id": "1EyTFYJAoUTL",
        "outputId": "7bd9de81-e33b-43ec-e20d-1b0d6555ec3d"
      },
      "outputs": [
        {
          "name": "stdout",
          "output_type": "stream",
          "text": [
            "The expected prediction is 1.\n"
          ]
        }
      ],
      "source": [
        "print(f'The expected prediction is {test_data[sample][1]}.')"
      ]
    },
    {
      "cell_type": "markdown",
      "metadata": {
        "id": "io-LtcL0lGGr"
      },
      "source": [
        "### Model #7"
      ]
    },
    {
      "cell_type": "code",
      "execution_count": null,
      "metadata": {
        "id": "E6j_ERijERkg"
      },
      "outputs": [],
      "source": [
        "class LogisticRegression(nn.Module):\n",
        " def __init__(self,n_inputs):\n",
        "   super(LogisticRegression,self).__init__()\n",
        "   self.layer1 = nn.Linear(n_inputs,256)\n",
        "   self.layer2 = nn.Linear(256, 128)\n",
        "   self.layer3 = nn.Linear(128, 64)\n",
        "   self.layer4 = nn.Linear(64,10)\n",
        " def forward(self,x):\n",
        "   y_pred = self.layer1(x)\n",
        "   y_pred = torch.relu(self.layer2(y_pred))\n",
        "   y_pred = torch.relu(self.layer3(y_pred))\n",
        "   y_pred = self.layer4(y_pred)\n",
        "   return y_pred"
      ]
    },
    {
      "cell_type": "code",
      "execution_count": null,
      "metadata": {
        "id": "d4GCgfwFlSXk"
      },
      "outputs": [],
      "source": [
        "model = LogisticRegression(n_inputs)\n",
        "loss = nn.CrossEntropyLoss()\n",
        "optimizer = torch.optim.SGD(model.parameters(),lr=0.001)\n",
        "n_epoch = 20"
      ]
    },
    {
      "cell_type": "code",
      "execution_count": null,
      "metadata": {
        "colab": {
          "base_uri": "https://localhost:8080/"
        },
        "id": "B5IC6Biclb7p",
        "outputId": "c4c737ed-91ce-4dbd-cda8-7341fa01e765"
      },
      "outputs": [
        {
          "name": "stdout",
          "output_type": "stream",
          "text": [
            "Loss: 2.302304983139038. Accuracy: 9.289999961853027\n",
            "Loss: 2.2957098484039307. Accuracy: 10.15999984741211\n",
            "Loss: 2.321185350418091. Accuracy: 11.079999923706055\n",
            "Loss: 2.2640771865844727. Accuracy: 12.720000267028809\n",
            "Loss: 2.2879881858825684. Accuracy: 14.180000305175781\n",
            "Loss: 2.2626469135284424. Accuracy: 16.540000915527344\n",
            "Loss: 2.272791862487793. Accuracy: 19.1200008392334\n",
            "Loss: 2.2583565711975098. Accuracy: 22.110000610351562\n",
            "Loss: 2.2801694869995117. Accuracy: 25.15999984741211\n",
            "Loss: 2.279536724090576. Accuracy: 28.209999084472656\n",
            "Loss: 2.239588737487793. Accuracy: 29.979999542236328\n",
            "Loss: 2.249408721923828. Accuracy: 31.889999389648438\n",
            "Loss: 2.2588024139404297. Accuracy: 35.380001068115234\n",
            "Loss: 2.2540714740753174. Accuracy: 38.279998779296875\n",
            "Loss: 2.2241902351379395. Accuracy: 39.0099983215332\n",
            "Loss: 2.23624587059021. Accuracy: 39.529998779296875\n",
            "Loss: 2.2237682342529297. Accuracy: 39.90999984741211\n",
            "Loss: 2.202017068862915. Accuracy: 40.7400016784668\n",
            "Loss: 2.1562650203704834. Accuracy: 41.650001525878906\n",
            "Loss: 2.1755785942077637. Accuracy: 43.54999923706055\n",
            "Loss: 2.1656477451324463. Accuracy: 46.380001068115234\n",
            "Loss: 2.190171480178833. Accuracy: 48.90999984741211\n",
            "Loss: 2.13706111907959. Accuracy: 50.2400016784668\n",
            "Loss: 2.054175853729248. Accuracy: 50.900001525878906\n",
            "Loss: 2.1458449363708496. Accuracy: 52.18000030517578\n",
            "Loss: 2.102285623550415. Accuracy: 52.40999984741211\n",
            "Loss: 2.053715229034424. Accuracy: 52.84000015258789\n",
            "Loss: 1.959851861000061. Accuracy: 53.380001068115234\n",
            "Loss: 1.890612006187439. Accuracy: 53.68000030517578\n",
            "Loss: 2.009739398956299. Accuracy: 53.83000183105469\n",
            "Loss: 1.9459165334701538. Accuracy: 53.40999984741211\n",
            "Loss: 1.88241446018219. Accuracy: 53.97999954223633\n",
            "Loss: 1.6596553325653076. Accuracy: 55.02000045776367\n",
            "Loss: 1.6633681058883667. Accuracy: 55.290000915527344\n",
            "Loss: 1.4811915159225464. Accuracy: 56.310001373291016\n",
            "Loss: 1.5735442638397217. Accuracy: 57.65999984741211\n",
            "Loss: 1.684165596961975. Accuracy: 58.7400016784668\n",
            "Loss: 1.5642662048339844. Accuracy: 60.06999969482422\n",
            "Loss: 1.444520354270935. Accuracy: 63.04999923706055\n",
            "Loss: 1.3994468450546265. Accuracy: 64.77999877929688\n",
            "Loss: 1.4385151863098145. Accuracy: 66.73999786376953\n",
            "Loss: 1.3719810247421265. Accuracy: 68.6500015258789\n",
            "Loss: 1.0842920541763306. Accuracy: 69.19000244140625\n",
            "Loss: 1.0354347229003906. Accuracy: 70.4800033569336\n",
            "Loss: 0.9181592464447021. Accuracy: 72.62999725341797\n",
            "Loss: 0.8404905200004578. Accuracy: 74.19999694824219\n",
            "Loss: 0.8724547624588013. Accuracy: 74.94999694824219\n",
            "Loss: 1.070038914680481. Accuracy: 75.5\n",
            "Loss: 0.989599883556366. Accuracy: 76.43000030517578\n",
            "Loss: 1.1759006977081299. Accuracy: 76.48999786376953\n",
            "Loss: 0.8297386765480042. Accuracy: 77.4800033569336\n",
            "Loss: 0.7045804262161255. Accuracy: 78.16999816894531\n",
            "Loss: 0.9290753602981567. Accuracy: 78.22000122070312\n",
            "Loss: 0.6316049098968506. Accuracy: 78.66999816894531\n",
            "Loss: 0.7232319712638855. Accuracy: 79.18000030517578\n",
            "Loss: 0.8312806487083435. Accuracy: 79.43000030517578\n",
            "Loss: 0.6178909540176392. Accuracy: 79.9000015258789\n",
            "Loss: 1.006783366203308. Accuracy: 80.31999969482422\n",
            "Loss: 0.6160272359848022. Accuracy: 80.70999908447266\n",
            "Loss: 0.690328061580658. Accuracy: 81.01000213623047\n",
            "Loss: 0.6331239342689514. Accuracy: 81.33999633789062\n",
            "Loss: 0.5878736972808838. Accuracy: 81.55999755859375\n",
            "Loss: 0.6444175839424133. Accuracy: 81.83000183105469\n",
            "Loss: 0.6460561752319336. Accuracy: 81.87999725341797\n",
            "Loss: 0.5067872405052185. Accuracy: 82.26000213623047\n",
            "Loss: 0.8617805242538452. Accuracy: 82.63999938964844\n",
            "Loss: 0.5941048860549927. Accuracy: 82.81999969482422\n",
            "Loss: 0.5356888175010681. Accuracy: 83.0999984741211\n",
            "Loss: 0.4965493083000183. Accuracy: 83.08999633789062\n",
            "Loss: 0.5131884217262268. Accuracy: 83.33999633789062\n",
            "Loss: 0.6694279313087463. Accuracy: 83.36000061035156\n",
            "Loss: 0.8347559571266174. Accuracy: 83.44999694824219\n",
            "Loss: 0.5310091376304626. Accuracy: 83.70999908447266\n",
            "Loss: 0.564007580280304. Accuracy: 83.94999694824219\n",
            "Loss: 0.5366126894950867. Accuracy: 84.06999969482422\n",
            "Loss: 0.7584107518196106. Accuracy: 84.12000274658203\n",
            "Loss: 0.6372143626213074. Accuracy: 84.36000061035156\n",
            "Loss: 0.5083606243133545. Accuracy: 84.61000061035156\n",
            "Loss: 0.4235009253025055. Accuracy: 84.5199966430664\n",
            "Loss: 0.4704994261264801. Accuracy: 84.63999938964844\n",
            "Loss: 0.3618902862071991. Accuracy: 84.94000244140625\n",
            "Loss: 0.5265188813209534. Accuracy: 85.02999877929688\n",
            "Loss: 0.44059547781944275. Accuracy: 85.22000122070312\n",
            "Loss: 0.43590375781059265. Accuracy: 85.05999755859375\n",
            "Loss: 0.42320626974105835. Accuracy: 85.2300033569336\n",
            "Loss: 0.6700616478919983. Accuracy: 85.33999633789062\n",
            "Loss: 0.33666563034057617. Accuracy: 85.43000030517578\n",
            "Loss: 0.21211063861846924. Accuracy: 85.47000122070312\n",
            "Loss: 0.3499087989330292. Accuracy: 85.56999969482422\n",
            "Loss: 0.35782718658447266. Accuracy: 85.66000366210938\n",
            "Loss: 0.5770557522773743. Accuracy: 85.79000091552734\n",
            "Loss: 0.35838553309440613. Accuracy: 85.83000183105469\n",
            "Loss: 0.6161941289901733. Accuracy: 85.83999633789062\n",
            "Loss: 0.47070014476776123. Accuracy: 86.02999877929688\n",
            "Loss: 0.4939292371273041. Accuracy: 85.81999969482422\n",
            "Loss: 0.47528502345085144. Accuracy: 86.16000366210938\n",
            "Loss: 0.4822346866130829. Accuracy: 86.33999633789062\n",
            "Loss: 0.28433823585510254. Accuracy: 86.30000305175781\n",
            "Loss: 0.6831520199775696. Accuracy: 86.19999694824219\n",
            "Loss: 0.6334537863731384. Accuracy: 86.4000015258789\n",
            "Loss: 0.25585317611694336. Accuracy: 86.56999969482422\n",
            "Loss: 0.5955910682678223. Accuracy: 86.68000030517578\n",
            "Loss: 0.4352904260158539. Accuracy: 86.70999908447266\n",
            "Loss: 0.587777316570282. Accuracy: 86.77999877929688\n",
            "Loss: 0.30074334144592285. Accuracy: 86.9800033569336\n",
            "Loss: 0.34297630190849304. Accuracy: 86.95999908447266\n",
            "Loss: 0.4654565155506134. Accuracy: 87.0\n",
            "Loss: 0.641735315322876. Accuracy: 87.05999755859375\n",
            "Loss: 0.36017119884490967. Accuracy: 87.25\n",
            "Loss: 0.40543830394744873. Accuracy: 87.04000091552734\n",
            "Loss: 0.4477866291999817. Accuracy: 87.11000061035156\n",
            "Loss: 0.5450803637504578. Accuracy: 87.20999908447266\n",
            "Loss: 0.41460728645324707. Accuracy: 87.2300033569336\n",
            "Loss: 0.7655340433120728. Accuracy: 87.2699966430664\n",
            "Loss: 0.39688581228256226. Accuracy: 87.26000213623047\n",
            "Loss: 0.20786844193935394. Accuracy: 87.54000091552734\n",
            "Loss: 0.42410436272621155. Accuracy: 87.33999633789062\n",
            "Loss: 0.21756313741207123. Accuracy: 87.5\n",
            "Loss: 0.40515366196632385. Accuracy: 87.47000122070312\n",
            "Loss: 0.3758814036846161. Accuracy: 87.33999633789062\n",
            "Loss: 0.3731228709220886. Accuracy: 87.5\n",
            "Loss: 0.3772338330745697. Accuracy: 87.58999633789062\n",
            "Loss: 0.5234572291374207. Accuracy: 87.77999877929688\n",
            "Loss: 0.2633523941040039. Accuracy: 87.72000122070312\n",
            "Loss: 0.19858390092849731. Accuracy: 87.69000244140625\n",
            "Loss: 0.4582113027572632. Accuracy: 87.80000305175781\n",
            "Loss: 0.23190869390964508. Accuracy: 87.72000122070312\n",
            "Loss: 0.5176430344581604. Accuracy: 87.98999786376953\n",
            "Loss: 0.35798758268356323. Accuracy: 87.94000244140625\n",
            "Loss: 0.7450471520423889. Accuracy: 87.88999938964844\n",
            "Loss: 0.27238914370536804. Accuracy: 87.98999786376953\n",
            "Loss: 0.5076355934143066. Accuracy: 88.11000061035156\n",
            "Loss: 0.5118519067764282. Accuracy: 87.91000366210938\n",
            "Loss: 0.4809139370918274. Accuracy: 87.9800033569336\n",
            "Loss: 0.25262999534606934. Accuracy: 88.01000213623047\n",
            "Loss: 0.6105979681015015. Accuracy: 88.08999633789062\n",
            "Loss: 0.4279725253582001. Accuracy: 88.22000122070312\n",
            "Loss: 0.40810757875442505. Accuracy: 88.1500015258789\n",
            "Loss: 0.3430178463459015. Accuracy: 88.25\n",
            "Loss: 0.47981223464012146. Accuracy: 88.2300033569336\n",
            "Loss: 0.3565303683280945. Accuracy: 88.36000061035156\n",
            "Loss: 0.2735362946987152. Accuracy: 88.44000244140625\n",
            "Loss: 0.4518609046936035. Accuracy: 88.30999755859375\n",
            "Loss: 0.3740026354789734. Accuracy: 88.44000244140625\n",
            "Loss: 0.5260920524597168. Accuracy: 88.33999633789062\n",
            "Loss: 0.4873759150505066. Accuracy: 88.4000015258789\n",
            "Loss: 0.31195393204689026. Accuracy: 88.58000183105469\n",
            "Loss: 0.43690571188926697. Accuracy: 88.54000091552734\n",
            "Loss: 0.2735975980758667. Accuracy: 88.7300033569336\n",
            "Loss: 0.1981075555086136. Accuracy: 88.55999755859375\n",
            "Loss: 0.3662503957748413. Accuracy: 88.6500015258789\n",
            "Loss: 0.7392514944076538. Accuracy: 88.76000213623047\n",
            "Loss: 0.40649521350860596. Accuracy: 88.81999969482422\n",
            "Loss: 0.14374186098575592. Accuracy: 88.76000213623047\n",
            "Loss: 0.22134128212928772. Accuracy: 88.94000244140625\n",
            "Loss: 0.44265007972717285. Accuracy: 88.87999725341797\n",
            "Loss: 0.2697014808654785. Accuracy: 88.91999816894531\n",
            "Loss: 0.45825260877609253. Accuracy: 89.02999877929688\n",
            "Loss: 0.2600105404853821. Accuracy: 89.08000183105469\n",
            "Loss: 0.13580068945884705. Accuracy: 89.13999938964844\n",
            "Loss: 0.5896623134613037. Accuracy: 88.98999786376953\n",
            "Loss: 0.6389609575271606. Accuracy: 89.0999984741211\n",
            "Loss: 0.5223591327667236. Accuracy: 89.12999725341797\n",
            "Loss: 0.2900278568267822. Accuracy: 89.18000030517578\n",
            "Loss: 0.31853431463241577. Accuracy: 89.19000244140625\n",
            "Loss: 0.2969971299171448. Accuracy: 89.33999633789062\n",
            "Loss: 0.6044080257415771. Accuracy: 89.3499984741211\n",
            "Loss: 0.24536600708961487. Accuracy: 89.23999786376953\n",
            "Loss: 0.4265945255756378. Accuracy: 89.26000213623047\n",
            "Loss: 0.3940313756465912. Accuracy: 89.20999908447266\n",
            "Loss: 0.42227640748023987. Accuracy: 89.33999633789062\n",
            "Loss: 0.3278332054615021. Accuracy: 89.44000244140625\n",
            "Loss: 0.4363975524902344. Accuracy: 89.44999694824219\n",
            "Loss: 0.5223701596260071. Accuracy: 89.4800033569336\n",
            "Loss: 0.2390773743391037. Accuracy: 89.41999816894531\n",
            "Loss: 0.4219842553138733. Accuracy: 89.66000366210938\n",
            "Loss: 0.7214006185531616. Accuracy: 89.56999969482422\n",
            "Loss: 0.3741094470024109. Accuracy: 89.4800033569336\n",
            "Loss: 0.32716962695121765. Accuracy: 89.63999938964844\n",
            "Loss: 0.27928370237350464. Accuracy: 89.62999725341797\n",
            "Final Accuracy: tensor(89.6300)\n"
          ]
        }
      ],
      "source": [
        "Loss = []\n",
        "Accuracy = []\n",
        "\n",
        "for epoch in range(20):\n",
        "    for i,(images,labels) in enumerate(train_dl):\n",
        "        images = torch.autograd.Variable(images.view(-1,n_inputs))\n",
        "        labels = torch.autograd.Variable(labels)\n",
        "\n",
        "\n",
        "        # Nullify gradients w.r.t. parameters\n",
        "        optimizer.zero_grad()\n",
        "        #forward propagation\n",
        "        output = model(images)\n",
        "        # compute loss based on obtained value and actual label\n",
        "        compute_loss = loss(output,labels)\n",
        "        # backward propagation\n",
        "        compute_loss.backward()\n",
        "        # update the parameters\n",
        "        optimizer.step()\n",
        "\n",
        "\n",
        "        if (i+1)%200 == 0:\n",
        "            # check total accuracy of predicted value and actual label\n",
        "            accurate = 0\n",
        "            total = 0\n",
        "            for images,labels in test_dl:\n",
        "                images = torch.autograd.Variable(images.view(-1,n_inputs))\n",
        "                output = model(images)\n",
        "                _,predicted = torch.max(output.data, 1)\n",
        "                # total labels\n",
        "                total+= labels.size(0)\n",
        "\n",
        "                # Total correct predictions\n",
        "                accurate+= (predicted == labels).sum()\n",
        "                accuracy_score = 100 * accurate/total\n",
        "            Loss.append(compute_loss.item())\n",
        "            Accuracy.append(accuracy_score)\n",
        "            print('Loss: {}. Accuracy: {}'.format(compute_loss.item(), accuracy_score))\n",
        "\n",
        "print('Final Accuracy:',accuracy_score)"
      ]
    },
    {
      "cell_type": "code",
      "execution_count": null,
      "metadata": {
        "colab": {
          "base_uri": "https://localhost:8080/",
          "height": 472
        },
        "id": "857U3TXitUvN",
        "outputId": "86130538-b4d1-4800-e8d8-f05c711cca20"
      },
      "outputs": [
        {
          "data": {
            "image/png": "[encoded data removed]",
            "text/plain": [
              "<Figure size 640x480 with 1 Axes>"
            ]
          },
          "metadata": {},
          "output_type": "display_data"
        }
      ],
      "source": [
        "plt.plot(Loss)\n",
        "plt.xlabel(\"no. of epochs\")\n",
        "plt.ylabel(\"total loss\")\n",
        "plt.title(\"Loss\")\n",
        "plt.show()"
      ]
    },
    {
      "cell_type": "code",
      "execution_count": null,
      "metadata": {
        "colab": {
          "base_uri": "https://localhost:8080/",
          "height": 472
        },
        "id": "AN4_bJ01tajj",
        "outputId": "a7cf74cc-3bf2-4a16-a4a3-748f7c8654f5"
      },
      "outputs": [
        {
          "data": {
            "image/png": "[encoded data removed]",
            "text/plain": [
              "<Figure size 640x480 with 1 Axes>"
            ]
          },
          "metadata": {},
          "output_type": "display_data"
        }
      ],
      "source": [
        "plt.plot(Accuracy)\n",
        "plt.xlabel(\"no. of epochs\")\n",
        "plt.ylabel(\"total accuracy\")\n",
        "plt.title(\"Accuracy\")\n",
        "plt.show()"
      ]
    },
    {
      "cell_type": "code",
      "execution_count": null,
      "metadata": {
        "colab": {
          "base_uri": "https://localhost:8080/",
          "height": 465
        },
        "id": "p7hu_YeNshCV",
        "outputId": "e846bb63-5c9a-4206-e948-a622e12c6bd9"
      },
      "outputs": [
        {
          "name": "stdout",
          "output_type": "stream",
          "text": [
            "The model predicted 6 with the probability of 11.298948287963867.\n",
            "\n"
          ]
        },
        {
          "data": {
            "image/png": "[encoded data removed]",
            "text/plain": [
              "<Figure size 640x480 with 1 Axes>"
            ]
          },
          "metadata": {},
          "output_type": "display_data"
        }
      ],
      "source": [
        "sample = torch.randint(len(test_data), size = (1,)).item()\n",
        "test_sample = test_data[sample][0].view(-1, 28*28)\n",
        "Testing_data(test_sample)"
      ]
    },
    {
      "cell_type": "code",
      "execution_count": null,
      "metadata": {
        "colab": {
          "base_uri": "https://localhost:8080/"
        },
        "id": "IBHymHditPCJ",
        "outputId": "2b0ff71d-3e1c-425e-da4e-908f4583281b"
      },
      "outputs": [
        {
          "name": "stdout",
          "output_type": "stream",
          "text": [
            "The expected prediction is 6.\n"
          ]
        }
      ],
      "source": [
        "print(f'The expected prediction is {test_data[sample][1]}.')"
      ]
    },
    {
      "cell_type": "markdown",
      "metadata": {
        "id": "xiqeTj9stjRO"
      },
      "source": [
        "### Model #8"
      ]
    },
    {
      "cell_type": "code",
      "execution_count": null,
      "metadata": {
        "id": "Ru81U5x9tiVm"
      },
      "outputs": [],
      "source": [
        "class LogisticRegression(nn.Module):\n",
        " def __init__(self,n_inputs):\n",
        "   super(LogisticRegression,self).__init__()\n",
        "   self.layer1 = nn.Linear(n_inputs,256)\n",
        "   self.layer2 = nn.Linear(256, 128)\n",
        "   self.layer3 = nn.Linear(128,10)\n",
        " def forward(self,x):\n",
        "   y_pred = self.layer1(x)\n",
        "   y_pred = torch.tanh(self.layer2(y_pred))\n",
        "   y_pred = self.layer3(y_pred)\n",
        "   return y_pred"
      ]
    },
    {
      "cell_type": "code",
      "execution_count": null,
      "metadata": {
        "id": "qEIoEXCetqJO"
      },
      "outputs": [],
      "source": [
        "model = LogisticRegression(n_inputs)\n",
        "loss = nn.CrossEntropyLoss()\n",
        "optimizer = torch.optim.SGD(model.parameters(),lr=0.001)\n",
        "n_epoch = 20"
      ]
    },
    {
      "cell_type": "code",
      "execution_count": null,
      "metadata": {
        "colab": {
          "base_uri": "https://localhost:8080/"
        },
        "id": "ljGJrrfyttFG",
        "outputId": "f8e6f283-fa64-4839-dbd0-5b9ec1039c54"
      },
      "outputs": [
        {
          "name": "stdout",
          "output_type": "stream",
          "text": [
            "Loss: 2.2577974796295166. Accuracy: 20.350000381469727\n",
            "Loss: 2.2551562786102295. Accuracy: 33.150001525878906\n",
            "Loss: 2.200392246246338. Accuracy: 46.939998626708984\n",
            "Loss: 2.1528069972991943. Accuracy: 57.18000030517578\n",
            "Loss: 2.155428886413574. Accuracy: 62.290000915527344\n",
            "Loss: 2.106441020965576. Accuracy: 64.5999984741211\n",
            "Loss: 2.0750389099121094. Accuracy: 66.33999633789062\n",
            "Loss: 2.0140838623046875. Accuracy: 67.54000091552734\n",
            "Loss: 1.9234766960144043. Accuracy: 68.68000030517578\n",
            "Loss: 1.75923490524292. Accuracy: 69.0\n",
            "Loss: 1.8306711912155151. Accuracy: 69.5999984741211\n",
            "Loss: 1.8213826417922974. Accuracy: 69.5199966430664\n",
            "Loss: 1.7362887859344482. Accuracy: 69.52999877929688\n",
            "Loss: 1.6881393194198608. Accuracy: 69.88999938964844\n",
            "Loss: 1.7593902349472046. Accuracy: 70.18000030517578\n",
            "Loss: 1.5882657766342163. Accuracy: 70.55999755859375\n",
            "Loss: 1.4438104629516602. Accuracy: 71.08999633789062\n",
            "Loss: 1.3999909162521362. Accuracy: 72.25\n",
            "Loss: 1.4608869552612305. Accuracy: 73.47000122070312\n",
            "Loss: 1.2530807256698608. Accuracy: 74.08000183105469\n",
            "Loss: 1.4024344682693481. Accuracy: 75.08000183105469\n",
            "Loss: 1.2113823890686035. Accuracy: 76.0999984741211\n",
            "Loss: 1.095207929611206. Accuracy: 77.04000091552734\n",
            "Loss: 1.0837088823318481. Accuracy: 77.58999633789062\n",
            "Loss: 1.289341688156128. Accuracy: 78.23999786376953\n",
            "Loss: 1.0573556423187256. Accuracy: 78.69999694824219\n",
            "Loss: 1.0623520612716675. Accuracy: 79.23999786376953\n",
            "Loss: 0.9692527055740356. Accuracy: 80.05000305175781\n",
            "Loss: 0.9094898700714111. Accuracy: 80.5\n",
            "Loss: 0.814950704574585. Accuracy: 81.16000366210938\n",
            "Loss: 0.6521042585372925. Accuracy: 81.70999908447266\n",
            "Loss: 0.8199225068092346. Accuracy: 82.11000061035156\n",
            "Loss: 0.7931995391845703. Accuracy: 82.5\n",
            "Loss: 0.6722689867019653. Accuracy: 82.87000274658203\n",
            "Loss: 0.6105502247810364. Accuracy: 83.27999877929688\n",
            "Loss: 0.752592921257019. Accuracy: 83.58999633789062\n",
            "Loss: 0.6850726008415222. Accuracy: 84.02999877929688\n",
            "Loss: 0.8387925028800964. Accuracy: 84.19000244140625\n",
            "Loss: 0.7788417339324951. Accuracy: 84.55999755859375\n",
            "Loss: 0.6286777257919312. Accuracy: 84.8499984741211\n",
            "Loss: 0.4194476008415222. Accuracy: 85.0999984741211\n",
            "Loss: 0.6166082620620728. Accuracy: 85.16999816894531\n",
            "Loss: 0.7459416389465332. Accuracy: 85.41999816894531\n",
            "Loss: 0.5234801769256592. Accuracy: 85.5999984741211\n",
            "Loss: 0.5421715974807739. Accuracy: 85.80999755859375\n",
            "Loss: 0.6677115559577942. Accuracy: 86.04000091552734\n",
            "Loss: 0.6621495485305786. Accuracy: 86.13999938964844\n",
            "Loss: 0.623593270778656. Accuracy: 86.38999938964844\n",
            "Loss: 0.4882591962814331. Accuracy: 86.51000213623047\n",
            "Loss: 0.6505702137947083. Accuracy: 86.5999984741211\n",
            "Loss: 0.44147300720214844. Accuracy: 86.72000122070312\n",
            "Loss: 0.6606693267822266. Accuracy: 86.87000274658203\n",
            "Loss: 0.4832790195941925. Accuracy: 87.06999969482422\n",
            "Loss: 0.5995864868164062. Accuracy: 87.12000274658203\n",
            "Loss: 0.5529866218566895. Accuracy: 87.27999877929688\n",
            "Loss: 0.829073429107666. Accuracy: 87.4000015258789\n",
            "Loss: 0.42678555846214294. Accuracy: 87.5\n",
            "Loss: 0.9418553709983826. Accuracy: 87.63999938964844\n",
            "Loss: 0.4350936710834503. Accuracy: 87.76000213623047\n",
            "Loss: 0.6064689755439758. Accuracy: 87.81999969482422\n",
            "Loss: 0.6180688142776489. Accuracy: 87.93000030517578\n",
            "Loss: 0.4477900564670563. Accuracy: 88.05000305175781\n",
            "Loss: 0.9100545644760132. Accuracy: 88.11000061035156\n",
            "Loss: 0.39600664377212524. Accuracy: 88.1500015258789\n",
            "Loss: 0.6877731680870056. Accuracy: 88.18000030517578\n",
            "Loss: 0.623523473739624. Accuracy: 88.31999969482422\n",
            "Loss: 0.3543921411037445. Accuracy: 88.41999816894531\n",
            "Loss: 0.4049413800239563. Accuracy: 88.43000030517578\n",
            "Loss: 0.36352622509002686. Accuracy: 88.5\n",
            "Loss: 0.37944933772087097. Accuracy: 88.55999755859375\n",
            "Loss: 0.5645507574081421. Accuracy: 88.58000183105469\n",
            "Loss: 0.39874038100242615. Accuracy: 88.62999725341797\n",
            "Loss: 0.5651728510856628. Accuracy: 88.69999694824219\n",
            "Loss: 0.33577609062194824. Accuracy: 88.77999877929688\n",
            "Loss: 0.3538092374801636. Accuracy: 88.80000305175781\n",
            "Loss: 0.3797975182533264. Accuracy: 88.86000061035156\n",
            "Loss: 0.5483857989311218. Accuracy: 88.95999908447266\n",
            "Loss: 0.2673276662826538. Accuracy: 88.91999816894531\n",
            "Loss: 0.3666495978832245. Accuracy: 88.94000244140625\n",
            "Loss: 0.2821267247200012. Accuracy: 89.05999755859375\n",
            "Loss: 0.4060586988925934. Accuracy: 89.0\n",
            "Loss: 0.43421876430511475. Accuracy: 89.11000061035156\n",
            "Loss: 0.7179902195930481. Accuracy: 89.13999938964844\n",
            "Loss: 0.3213156461715698. Accuracy: 89.1500015258789\n",
            "Loss: 0.3375236392021179. Accuracy: 89.20999908447266\n",
            "Loss: 0.44082871079444885. Accuracy: 89.19000244140625\n",
            "Loss: 0.575543999671936. Accuracy: 89.23999786376953\n",
            "Loss: 0.4320290684700012. Accuracy: 89.30999755859375\n",
            "Loss: 0.28891006112098694. Accuracy: 89.30999755859375\n",
            "Loss: 0.3903534710407257. Accuracy: 89.37999725341797\n",
            "Loss: 0.2155255675315857. Accuracy: 89.41999816894531\n",
            "Loss: 0.40592601895332336. Accuracy: 89.51000213623047\n",
            "Loss: 0.39363986253738403. Accuracy: 89.4800033569336\n",
            "Loss: 0.5587096214294434. Accuracy: 89.52999877929688\n",
            "Loss: 0.4917351305484772. Accuracy: 89.5\n",
            "Loss: 0.6196240782737732. Accuracy: 89.5\n",
            "Loss: 0.4285717010498047. Accuracy: 89.54000091552734\n",
            "Loss: 0.4690277576446533. Accuracy: 89.5999984741211\n",
            "Loss: 0.4695059359073639. Accuracy: 89.62999725341797\n",
            "Loss: 0.2509008049964905. Accuracy: 89.69000244140625\n",
            "Loss: 0.36710864305496216. Accuracy: 89.73999786376953\n",
            "Loss: 0.18915903568267822. Accuracy: 89.68000030517578\n",
            "Loss: 0.5148286819458008. Accuracy: 89.73999786376953\n",
            "Loss: 0.3168081045150757. Accuracy: 89.80000305175781\n",
            "Loss: 0.5989428758621216. Accuracy: 89.7699966430664\n",
            "Loss: 0.26620179414749146. Accuracy: 89.7300033569336\n",
            "Loss: 0.39951738715171814. Accuracy: 89.86000061035156\n",
            "Loss: 0.4474124014377594. Accuracy: 89.83000183105469\n",
            "Loss: 0.20815065503120422. Accuracy: 89.91999816894531\n",
            "Loss: 0.6583176255226135. Accuracy: 89.94999694824219\n",
            "Loss: 0.4458043575286865. Accuracy: 90.0199966430664\n",
            "Loss: 0.15404295921325684. Accuracy: 90.0\n",
            "Loss: 0.5379117727279663. Accuracy: 90.04000091552734\n",
            "Loss: 0.23630288243293762. Accuracy: 90.08000183105469\n",
            "Loss: 0.18789790570735931. Accuracy: 90.0999984741211\n",
            "Loss: 0.30630365014076233. Accuracy: 90.02999877929688\n",
            "Loss: 0.29854699969291687. Accuracy: 90.0999984741211\n",
            "Loss: 0.3253098130226135. Accuracy: 90.12999725341797\n",
            "Loss: 0.37228113412857056. Accuracy: 90.12000274658203\n",
            "Loss: 0.344325989484787. Accuracy: 90.13999938964844\n",
            "Loss: 0.42049190402030945. Accuracy: 90.20999908447266\n",
            "Loss: 0.6736506223678589. Accuracy: 90.20999908447266\n",
            "Loss: 0.4120035767555237. Accuracy: 90.22000122070312\n",
            "Loss: 0.19088634848594666. Accuracy: 90.25\n",
            "Loss: 0.5404741168022156. Accuracy: 90.2699966430664\n",
            "Loss: 0.2505657374858856. Accuracy: 90.27999877929688\n",
            "Loss: 0.49418526887893677. Accuracy: 90.36000061035156\n",
            "Loss: 0.536824643611908. Accuracy: 90.29000091552734\n",
            "Loss: 0.3640665113925934. Accuracy: 90.37999725341797\n",
            "Loss: 0.29956746101379395. Accuracy: 90.3499984741211\n",
            "Loss: 0.27377626299858093. Accuracy: 90.37999725341797\n",
            "Loss: 0.15464164316654205. Accuracy: 90.41000366210938\n",
            "Loss: 0.20778313279151917. Accuracy: 90.44000244140625\n",
            "Loss: 0.27299854159355164. Accuracy: 90.44000244140625\n",
            "Loss: 0.8487319350242615. Accuracy: 90.43000030517578\n",
            "Loss: 0.2898743748664856. Accuracy: 90.43000030517578\n",
            "Loss: 0.4125088155269623. Accuracy: 90.48999786376953\n",
            "Loss: 0.5771434903144836. Accuracy: 90.51000213623047\n",
            "Loss: 0.24903295934200287. Accuracy: 90.52999877929688\n",
            "Loss: 0.19478780031204224. Accuracy: 90.5\n",
            "Loss: 0.4489175081253052. Accuracy: 90.56999969482422\n",
            "Loss: 0.4564439654350281. Accuracy: 90.45999908447266\n",
            "Loss: 0.15018421411514282. Accuracy: 90.5199966430664\n",
            "Loss: 0.38680917024612427. Accuracy: 90.51000213623047\n",
            "Loss: 0.28326573967933655. Accuracy: 90.66000366210938\n",
            "Loss: 0.5654808282852173. Accuracy: 90.5999984741211\n",
            "Loss: 0.3610096871852875. Accuracy: 90.62999725341797\n",
            "Loss: 0.23868167400360107. Accuracy: 90.61000061035156\n",
            "Loss: 0.13862036168575287. Accuracy: 90.70999908447266\n",
            "Loss: 0.4322756826877594. Accuracy: 90.75\n",
            "Loss: 0.4390988051891327. Accuracy: 90.66000366210938\n",
            "Loss: 0.32064685225486755. Accuracy: 90.72000122070312\n",
            "Loss: 0.6745944619178772. Accuracy: 90.66000366210938\n",
            "Loss: 0.2135622650384903. Accuracy: 90.7300033569336\n",
            "Loss: 0.06374256312847137. Accuracy: 90.73999786376953\n",
            "Loss: 0.32750964164733887. Accuracy: 90.73999786376953\n",
            "Loss: 0.32905876636505127. Accuracy: 90.77999877929688\n",
            "Loss: 0.36548155546188354. Accuracy: 90.80999755859375\n",
            "Loss: 0.2657320201396942. Accuracy: 90.83000183105469\n",
            "Loss: 0.690242350101471. Accuracy: 90.80999755859375\n",
            "Loss: 0.5663631558418274. Accuracy: 90.80000305175781\n",
            "Loss: 0.4868628978729248. Accuracy: 90.81999969482422\n",
            "Loss: 0.29253557324409485. Accuracy: 90.83999633789062\n",
            "Loss: 0.2591440975666046. Accuracy: 90.77999877929688\n",
            "Loss: 0.17042362689971924. Accuracy: 90.81999969482422\n",
            "Loss: 0.42967402935028076. Accuracy: 90.80999755859375\n",
            "Loss: 0.48916390538215637. Accuracy: 90.80999755859375\n",
            "Loss: 0.5096520781517029. Accuracy: 90.91000366210938\n",
            "Loss: 0.267572283744812. Accuracy: 90.86000061035156\n",
            "Loss: 0.4260968565940857. Accuracy: 90.91000366210938\n",
            "Loss: 0.2198602259159088. Accuracy: 90.91999816894531\n",
            "Loss: 0.16015413403511047. Accuracy: 91.0199966430664\n",
            "Loss: 0.21114899218082428. Accuracy: 90.83999633789062\n",
            "Loss: 0.3212040066719055. Accuracy: 90.80999755859375\n",
            "Loss: 0.08479064702987671. Accuracy: 90.93000030517578\n",
            "Loss: 0.2559620440006256. Accuracy: 91.01000213623047\n",
            "Loss: 0.36461731791496277. Accuracy: 90.97000122070312\n",
            "Loss: 0.190515398979187. Accuracy: 90.91999816894531\n",
            "Loss: 0.40858766436576843. Accuracy: 90.91999816894531\n",
            "Loss: 0.2255180925130844. Accuracy: 90.98999786376953\n",
            "Final Accuracy: tensor(90.9900)\n"
          ]
        }
      ],
      "source": [
        "Loss = []\n",
        "Accuracy = []\n",
        "for epoch in range(n_epoch):\n",
        "    for i,(images,labels) in enumerate(train_dl):\n",
        "        images = torch.autograd.Variable(images.view(-1,n_inputs))\n",
        "        labels = torch.autograd.Variable(labels)\n",
        "\n",
        "        # Nullify gradients w.r.t. parameters\n",
        "        optimizer.zero_grad()\n",
        "        #forward propagation\n",
        "        output = model(images)\n",
        "        # compute loss based on obtained value and actual label\n",
        "        compute_loss = loss(output,labels)\n",
        "        # backward propagation\n",
        "        compute_loss.backward()\n",
        "        # update the parameters\n",
        "        optimizer.step()\n",
        "\n",
        "\n",
        "        if (i+1)%200 == 0:\n",
        "            # check total accuracy of predicted value and actual label\n",
        "            accurate = 0\n",
        "            total = 0\n",
        "            for images,labels in test_dl:\n",
        "                images = torch.autograd.Variable(images.view(-1,n_inputs))\n",
        "                output = model(images)\n",
        "                _,predicted = torch.max(output.data, 1)\n",
        "                # total labels\n",
        "                total+= labels.size(0)\n",
        "\n",
        "                # Total correct predictions\n",
        "                accurate+= (predicted == labels).sum()\n",
        "                accuracy_score = 100 * accurate/total\n",
        "            Loss.append(compute_loss.item())\n",
        "            Accuracy.append(accuracy_score)\n",
        "            print('Loss: {}. Accuracy: {}'.format(compute_loss.item(), accuracy_score))\n",
        "\n",
        "print('Final Accuracy:',accuracy_score)"
      ]
    },
    {
      "cell_type": "code",
      "execution_count": null,
      "metadata": {
        "colab": {
          "base_uri": "https://localhost:8080/",
          "height": 472
        },
        "id": "Ye5FaQRet-Nh",
        "outputId": "5e39e833-d195-491f-bade-87ba9a790a62"
      },
      "outputs": [
        {
          "data": {
            "image/png": "[encoded data removed]",
            "text/plain": [
              "<Figure size 640x480 with 1 Axes>"
            ]
          },
          "metadata": {},
          "output_type": "display_data"
        }
      ],
      "source": [
        "plt.plot(Loss)\n",
        "plt.xlabel(\"no. of epochs\")\n",
        "plt.ylabel(\"total loss\")\n",
        "plt.title(\"Loss\")\n",
        "plt.show()"
      ]
    },
    {
      "cell_type": "code",
      "execution_count": null,
      "metadata": {
        "colab": {
          "base_uri": "https://localhost:8080/",
          "height": 472
        },
        "id": "xZeVqOYSuC3o",
        "outputId": "ab73f846-011f-4dbf-ad74-0685049d720c"
      },
      "outputs": [
        {
          "data": {
            "image/png": "[encoded data removed]",
            "text/plain": [
              "<Figure size 640x480 with 1 Axes>"
            ]
          },
          "metadata": {},
          "output_type": "display_data"
        }
      ],
      "source": [
        "plt.plot(Accuracy)\n",
        "plt.xlabel(\"no. of epochs\")\n",
        "plt.ylabel(\"total accuracy\")\n",
        "plt.title(\"Accuracy\")\n",
        "plt.show()"
      ]
    },
    {
      "cell_type": "code",
      "execution_count": null,
      "metadata": {
        "colab": {
          "base_uri": "https://localhost:8080/",
          "height": 465
        },
        "id": "kpWZvV6ytyhh",
        "outputId": "b1d80146-399d-45c1-e4be-fb3ec1f84400"
      },
      "outputs": [
        {
          "name": "stdout",
          "output_type": "stream",
          "text": [
            "The model predicted 0 with the probability of 6.6821722984313965.\n",
            "\n"
          ]
        },
        {
          "data": {
            "image/png": "[encoded data removed]",
            "text/plain": [
              "<Figure size 640x480 with 1 Axes>"
            ]
          },
          "metadata": {},
          "output_type": "display_data"
        }
      ],
      "source": [
        "sample = torch.randint(len(test_data), size = (1,)).item()\n",
        "test_sample = test_data[sample][0].view(-1, 28*28)\n",
        "Testing_data(test_sample)"
      ]
    },
    {
      "cell_type": "code",
      "execution_count": null,
      "metadata": {
        "colab": {
          "base_uri": "https://localhost:8080/"
        },
        "id": "loNhhe4st77J",
        "outputId": "99de48bc-2beb-4174-8240-23ee1cf59b63"
      },
      "outputs": [
        {
          "name": "stdout",
          "output_type": "stream",
          "text": [
            "The expected prediction is 0.\n"
          ]
        }
      ],
      "source": [
        "print(f'The expected prediction is {test_data[sample][1]}.')"
      ]
    },
    {
      "cell_type": "markdown",
      "metadata": {
        "id": "6w-JrDn4uHvH"
      },
      "source": [
        "### Model #9"
      ]
    },
    {
      "cell_type": "code",
      "execution_count": null,
      "metadata": {
        "id": "7kon6OBEuFDW"
      },
      "outputs": [],
      "source": [
        "class LogisticRegression(nn.Module):\n",
        " def __init__(self,n_inputs):\n",
        "   super(LogisticRegression,self).__init__()\n",
        "   self.layer1 = nn.Linear(n_inputs,1000)\n",
        "   self.layer2 = nn.Linear(1000, 64)\n",
        "   self.layer3 = nn.Linear(64, 10)\n",
        " def forward(self,x):\n",
        "   y_pred = self.layer1(x)\n",
        "   y_pred = torch.relu(self.layer2(y_pred))\n",
        "   y_pred = self.layer3(y_pred)\n",
        "   return y_pred"
      ]
    },
    {
      "cell_type": "code",
      "execution_count": null,
      "metadata": {
        "id": "GvaI1GWBufGj"
      },
      "outputs": [],
      "source": [
        "model = LogisticRegression(n_inputs)\n",
        "loss = nn.CrossEntropyLoss()\n",
        "optimizer = torch.optim.Adam(model.parameters(),lr=0.001)\n",
        "n_epoch = 20"
      ]
    },
    {
      "cell_type": "code",
      "execution_count": null,
      "metadata": {
        "colab": {
          "background_save": true,
          "base_uri": "https://localhost:8080/"
        },
        "id": "UA6L1S83uhp0",
        "outputId": "bf1aebff-d35d-4e63-c46e-495b59c57387"
      },
      "outputs": [
        {
          "name": "stdout",
          "output_type": "stream",
          "text": [
            "Loss: 0.2818167805671692. Accuracy: 90.0199966430664\n",
            "Loss: 0.2007743865251541. Accuracy: 91.77999877929688\n",
            "Loss: 0.26874294877052307. Accuracy: 92.44999694824219\n",
            "Loss: 0.4488893151283264. Accuracy: 93.05999755859375\n",
            "Loss: 0.4916357398033142. Accuracy: 93.05000305175781\n",
            "Loss: 0.06305073201656342. Accuracy: 94.20999908447266\n",
            "Loss: 0.029567761346697807. Accuracy: 94.87999725341797\n",
            "Loss: 0.13034223020076752. Accuracy: 95.31999969482422\n",
            "Loss: 0.0551421195268631. Accuracy: 95.12999725341797\n",
            "Loss: 0.4405995011329651. Accuracy: 94.19999694824219\n",
            "Loss: 0.09742865711450577. Accuracy: 95.19000244140625\n",
            "Loss: 0.3073050379753113. Accuracy: 95.33999633789062\n",
            "Loss: 0.13111676275730133. Accuracy: 95.2300033569336\n",
            "Loss: 0.09268982708454132. Accuracy: 94.87000274658203\n",
            "Loss: 0.019211873412132263. Accuracy: 95.62000274658203\n",
            "Loss: 0.33088618516921997. Accuracy: 95.13999938964844\n",
            "Loss: 0.030331265181303024. Accuracy: 95.98999786376953\n",
            "Loss: 0.15212571620941162. Accuracy: 95.94999694824219\n",
            "Loss: 0.22555005550384521. Accuracy: 95.80000305175781\n",
            "Loss: 0.09401782602071762. Accuracy: 94.94000244140625\n",
            "Loss: 0.03301228582859039. Accuracy: 96.06999969482422\n",
            "Loss: 0.06225528568029404. Accuracy: 96.04000091552734\n",
            "Loss: 0.12116671353578568. Accuracy: 96.23999786376953\n",
            "Loss: 0.05422729253768921. Accuracy: 95.08999633789062\n",
            "Loss: 0.06253859400749207. Accuracy: 95.5999984741211\n",
            "Loss: 0.08423228561878204. Accuracy: 95.37999725341797\n",
            "Loss: 0.08316561579704285. Accuracy: 95.80000305175781\n",
            "Loss: 0.2283887267112732. Accuracy: 96.0999984741211\n",
            "Loss: 0.0214425977319479. Accuracy: 96.4800033569336\n",
            "Loss: 0.47864851355552673. Accuracy: 96.20999908447266\n",
            "Loss: 0.11388729512691498. Accuracy: 96.4000015258789\n",
            "Loss: 0.2651061415672302. Accuracy: 95.44000244140625\n",
            "Loss: 0.02839571051299572. Accuracy: 96.05000305175781\n",
            "Loss: 0.015337743796408176. Accuracy: 95.68000030517578\n",
            "Loss: 0.032061535865068436. Accuracy: 95.8499984741211\n",
            "Loss: 0.049051858484745026. Accuracy: 96.08000183105469\n",
            "Loss: 0.007851649075746536. Accuracy: 96.16000366210938\n",
            "Loss: 0.1253698766231537. Accuracy: 95.80000305175781\n",
            "Loss: 0.1335563063621521. Accuracy: 96.19000244140625\n",
            "Loss: 0.0348641611635685. Accuracy: 96.16999816894531\n",
            "Loss: 0.09733757376670837. Accuracy: 95.95999908447266\n",
            "Loss: 0.11574984341859818. Accuracy: 96.3499984741211\n",
            "Loss: 0.21288317441940308. Accuracy: 96.25\n",
            "Loss: 0.07260463386774063. Accuracy: 95.83999633789062\n",
            "Loss: 0.006011661142110825. Accuracy: 96.19000244140625\n",
            "Loss: 0.05880703404545784. Accuracy: 95.91999816894531\n",
            "Loss: 0.2502681612968445. Accuracy: 96.36000061035156\n",
            "Loss: 0.09324487298727036. Accuracy: 96.19000244140625\n",
            "Loss: 0.04031142592430115. Accuracy: 96.0199966430664\n",
            "Loss: 0.014729021117091179. Accuracy: 96.18000030517578\n",
            "Loss: 0.03903669863939285. Accuracy: 96.22000122070312\n",
            "Loss: 0.0038265096955001354. Accuracy: 96.25\n",
            "Loss: 0.027098875492811203. Accuracy: 95.75\n",
            "Loss: 0.012536462396383286. Accuracy: 96.58999633789062\n",
            "Loss: 0.08022302389144897. Accuracy: 96.33000183105469\n",
            "Loss: 0.009776829741895199. Accuracy: 96.66999816894531\n",
            "Loss: 0.46007397770881653. Accuracy: 95.69000244140625\n",
            "Loss: 0.10043788701295853. Accuracy: 96.76000213623047\n",
            "Loss: 0.008586296811699867. Accuracy: 96.18000030517578\n",
            "Loss: 0.011396443471312523. Accuracy: 96.30000305175781\n",
            "Loss: 0.015825051814317703. Accuracy: 96.4800033569336\n",
            "Loss: 0.10658267140388489. Accuracy: 96.02999877929688\n",
            "Loss: 0.040475692600011826. Accuracy: 95.9000015258789\n",
            "Loss: 0.000714550435077399. Accuracy: 95.94000244140625\n",
            "Loss: 0.10971665382385254. Accuracy: 96.62000274658203\n",
            "Loss: 0.2541608214378357. Accuracy: 96.44999694824219\n",
            "Loss: 0.1008593961596489. Accuracy: 96.41999816894531\n",
            "Loss: 0.14118336141109467. Accuracy: 96.55999755859375\n",
            "Loss: 0.22602742910385132. Accuracy: 96.3499984741211\n",
            "Loss: 0.34258320927619934. Accuracy: 96.58000183105469\n",
            "Loss: 0.06806601583957672. Accuracy: 96.6500015258789\n",
            "Loss: 0.1270247846841812. Accuracy: 96.29000091552734\n",
            "Loss: 0.11089561134576797. Accuracy: 96.33999633789062\n",
            "Loss: 0.13139420747756958. Accuracy: 96.04000091552734\n",
            "Loss: 0.013608381152153015. Accuracy: 96.6500015258789\n",
            "Loss: 0.009607315994799137. Accuracy: 96.1500015258789\n",
            "Loss: 0.03899110108613968. Accuracy: 96.31999969482422\n",
            "Loss: 0.07855959236621857. Accuracy: 96.33999633789062\n",
            "Loss: 0.004450022708624601. Accuracy: 96.6500015258789\n",
            "Loss: 0.18286707997322083. Accuracy: 96.22000122070312\n",
            "Loss: 0.016247818246483803. Accuracy: 96.18000030517578\n",
            "Loss: 0.06165106222033501. Accuracy: 96.4000015258789\n",
            "Loss: 0.0027122993487864733. Accuracy: 96.56999969482422\n",
            "Loss: 0.17048950493335724. Accuracy: 95.98999786376953\n",
            "Loss: 0.06878453493118286. Accuracy: 96.45999908447266\n",
            "Loss: 0.010220878757536411. Accuracy: 96.19000244140625\n",
            "Loss: 0.06827905029058456. Accuracy: 96.55999755859375\n",
            "Loss: 0.011398805305361748. Accuracy: 96.19000244140625\n",
            "Loss: 0.04634522646665573. Accuracy: 96.30000305175781\n",
            "Loss: 0.012309479527175426. Accuracy: 96.37999725341797\n",
            "Loss: 0.0012736088829115033. Accuracy: 96.81999969482422\n",
            "Loss: 0.07340717315673828. Accuracy: 96.55999755859375\n",
            "Loss: 0.008888418786227703. Accuracy: 97.0199966430664\n",
            "Loss: 0.0012449362548068166. Accuracy: 96.5199966430664\n",
            "Loss: 0.05418429523706436. Accuracy: 95.9800033569336\n",
            "Loss: 0.17760273814201355. Accuracy: 96.7699966430664\n",
            "Loss: 0.2360621839761734. Accuracy: 96.5199966430664\n",
            "Loss: 0.07531354576349258. Accuracy: 96.44000244140625\n",
            "Loss: 0.09159322082996368. Accuracy: 96.29000091552734\n",
            "Loss: 0.0056402357295155525. Accuracy: 96.2300033569336\n",
            "Loss: 0.0067483847960829735. Accuracy: 96.66000366210938\n",
            "Loss: 0.007630536332726479. Accuracy: 96.68000030517578\n",
            "Loss: 0.002617777558043599. Accuracy: 96.69999694824219\n",
            "Loss: 0.16429230570793152. Accuracy: 96.27999877929688\n",
            "Loss: 0.04039325565099716. Accuracy: 97.12000274658203\n",
            "Loss: 0.02077888883650303. Accuracy: 96.7300033569336\n",
            "Loss: 0.06980019062757492. Accuracy: 96.33999633789062\n",
            "Loss: 0.0012549043167382479. Accuracy: 96.38999938964844\n",
            "Loss: 0.14262086153030396. Accuracy: 97.20999908447266\n",
            "Loss: 0.0703631266951561. Accuracy: 96.51000213623047\n",
            "Loss: 0.0014937948435544968. Accuracy: 96.1500015258789\n",
            "Loss: 0.001127987983636558. Accuracy: 96.66000366210938\n",
            "Loss: 0.03273627907037735. Accuracy: 96.06999969482422\n",
            "Loss: 0.01147801149636507. Accuracy: 96.44999694824219\n",
            "Loss: 0.001308118924498558. Accuracy: 96.94999694824219\n",
            "Loss: 0.13490411639213562. Accuracy: 96.12000274658203\n",
            "Loss: 0.037964485585689545. Accuracy: 96.3499984741211\n",
            "Loss: 0.0007020207121968269. Accuracy: 96.76000213623047\n",
            "Loss: 0.15335507690906525. Accuracy: 96.38999938964844\n",
            "Loss: 0.22524642944335938. Accuracy: 96.30999755859375\n",
            "Loss: 0.0885201022028923. Accuracy: 96.68000030517578\n",
            "Loss: 0.040157709270715714. Accuracy: 96.86000061035156\n",
            "Loss: 0.01117489580065012. Accuracy: 96.23999786376953\n",
            "Loss: 0.18370582163333893. Accuracy: 96.38999938964844\n",
            "Loss: 0.2651492655277252. Accuracy: 96.2699966430664\n",
            "Loss: 0.2597656548023224. Accuracy: 96.55000305175781\n",
            "Loss: 0.011177284643054008. Accuracy: 96.44999694824219\n",
            "Loss: 0.05813215300440788. Accuracy: 96.25\n",
            "Loss: 0.2446451485157013. Accuracy: 96.5199966430664\n",
            "Loss: 0.3488987684249878. Accuracy: 96.5199966430664\n",
            "Loss: 0.03503378480672836. Accuracy: 96.4000015258789\n",
            "Loss: 0.2447863519191742. Accuracy: 96.26000213623047\n",
            "Loss: 0.0021252729929983616. Accuracy: 96.56999969482422\n",
            "Loss: 0.010039163753390312. Accuracy: 96.97000122070312\n",
            "Loss: 0.00028205724083818495. Accuracy: 96.68000030517578\n",
            "Loss: 0.004243178758770227. Accuracy: 96.80000305175781\n",
            "Loss: 0.002288204152137041. Accuracy: 96.69999694824219\n",
            "Loss: 0.33732879161834717. Accuracy: 96.2699966430664\n",
            "Loss: 0.2334200143814087. Accuracy: 96.6500015258789\n",
            "Loss: 0.056317202746868134. Accuracy: 96.55000305175781\n",
            "Loss: 0.037641141563653946. Accuracy: 96.56999969482422\n",
            "Loss: 0.3158097565174103. Accuracy: 95.8499984741211\n",
            "Loss: 0.4230286777019501. Accuracy: 96.11000061035156\n",
            "Loss: 0.007889111526310444. Accuracy: 96.58999633789062\n",
            "Loss: 0.014286690391600132. Accuracy: 96.79000091552734\n",
            "Loss: 0.24270036816596985. Accuracy: 96.79000091552734\n",
            "Loss: 0.011521372944116592. Accuracy: 96.44999694824219\n",
            "Loss: 0.16603060066699982. Accuracy: 96.55000305175781\n",
            "Loss: 0.015529291704297066. Accuracy: 96.1500015258789\n",
            "Loss: 0.0006089867674745619. Accuracy: 96.37999725341797\n",
            "Loss: 0.00020289499661885202. Accuracy: 96.38999938964844\n",
            "Loss: 0.602449357509613. Accuracy: 96.58999633789062\n",
            "Loss: 0.00047564192209392786. Accuracy: 96.56999969482422\n",
            "Loss: 0.1843787133693695. Accuracy: 96.69999694824219\n",
            "Loss: 0.059108834713697433. Accuracy: 97.12999725341797\n",
            "Loss: 0.0020936643704771996. Accuracy: 96.83000183105469\n",
            "Loss: 0.004177221562713385. Accuracy: 96.70999908447266\n",
            "Loss: 0.01321125403046608. Accuracy: 96.0999984741211\n",
            "Loss: 0.003692622995004058. Accuracy: 96.30999755859375\n",
            "Loss: 0.18622590601444244. Accuracy: 96.55000305175781\n",
            "Loss: 0.0700107216835022. Accuracy: 96.12999725341797\n",
            "Loss: 0.14779242873191833. Accuracy: 95.95999908447266\n",
            "Loss: 0.00030600416357629. Accuracy: 97.0199966430664\n",
            "Loss: 0.09185994416475296. Accuracy: 96.80000305175781\n",
            "Loss: 0.039966337382793427. Accuracy: 96.37999725341797\n",
            "Loss: 0.17933224141597748. Accuracy: 95.68000030517578\n",
            "Loss: 0.11687233299016953. Accuracy: 96.29000091552734\n",
            "Loss: 0.451681524515152. Accuracy: 96.51000213623047\n",
            "Loss: 0.0045121279545128345. Accuracy: 96.43000030517578\n",
            "Loss: 0.04692450165748596. Accuracy: 96.52999877929688\n",
            "Loss: 0.015517107211053371. Accuracy: 96.18000030517578\n",
            "Loss: 0.1855427622795105. Accuracy: 96.7699966430664\n",
            "Loss: 5.623955075861886e-05. Accuracy: 96.4000015258789\n",
            "Loss: 0.00168581772595644. Accuracy: 96.19999694824219\n",
            "Loss: 0.07447468489408493. Accuracy: 96.75\n",
            "Loss: 0.16167353093624115. Accuracy: 95.55000305175781\n",
            "Loss: 0.002625533379614353. Accuracy: 96.62999725341797\n",
            "Loss: 0.03286879137158394. Accuracy: 96.44999694824219\n",
            "Loss: 0.3624373972415924. Accuracy: 96.68000030517578\n",
            "Loss: 0.04253843054175377. Accuracy: 96.5999984741211\n",
            "Final Accuracy: tensor(96.6000)\n"
          ]
        }
      ],
      "source": [
        "Loss = []\n",
        "Accuracy = []\n",
        "for epoch in range(n_epoch):\n",
        "    for i,(images,labels) in enumerate(train_dl):\n",
        "        images = torch.autograd.Variable(images.view(-1,n_inputs))\n",
        "        labels = torch.autograd.Variable(labels)\n",
        "\n",
        "        # Nullify gradients w.r.t. parameters\n",
        "        optimizer.zero_grad()\n",
        "        #forward propagation\n",
        "        output = model(images)\n",
        "        # compute loss based on obtained value and actual label\n",
        "        compute_loss = loss(output,labels)\n",
        "        # backward propagation\n",
        "        compute_loss.backward()\n",
        "        # update the parameters\n",
        "        optimizer.step()\n",
        "\n",
        "\n",
        "        if (i+1)%200 == 0:\n",
        "            # check total accuracy of predicted value and actual label\n",
        "            accurate = 0\n",
        "            total = 0\n",
        "            for images,labels in test_dl:\n",
        "                images = torch.autograd.Variable(images.view(-1,n_inputs))\n",
        "                output = model(images)\n",
        "                _,predicted = torch.max(output.data, 1)\n",
        "                # total labels\n",
        "                total+= labels.size(0)\n",
        "\n",
        "                # Total correct predictions\n",
        "                accurate+= (predicted == labels).sum()\n",
        "                accuracy_score = 100 * accurate/total\n",
        "            Loss.append(compute_loss.item())\n",
        "            Accuracy.append(accuracy_score)\n",
        "            print('Loss: {}. Accuracy: {}'.format(compute_loss.item(), accuracy_score))\n",
        "\n",
        "print('Final Accuracy:',accuracy_score)"
      ]
    },
    {
      "cell_type": "code",
      "execution_count": null,
      "metadata": {
        "colab": {
          "background_save": true
        },
        "id": "2H3aaNwkuohb",
        "outputId": "451404f1-69df-4576-fdf1-e542e0602b75"
      },
      "outputs": [
        {
          "data": {
            "image/png": "[encoded data removed]",
            "text/plain": [
              "<Figure size 640x480 with 1 Axes>"
            ]
          },
          "metadata": {},
          "output_type": "display_data"
        }
      ],
      "source": [
        "plt.plot(Loss)\n",
        "plt.xlabel(\"no. of epochs\")\n",
        "plt.ylabel(\"total loss\")\n",
        "plt.title(\"Loss\")\n",
        "plt.show()"
      ]
    },
    {
      "cell_type": "code",
      "execution_count": null,
      "metadata": {
        "colab": {
          "background_save": true
        },
        "id": "VVtq_b9muqjW",
        "outputId": "04f89a9d-7efa-4d04-aa34-cd87cc74caf9"
      },
      "outputs": [
        {
          "data": {
            "image/png": "[encoded data removed]",
            "text/plain": [
              "<Figure size 640x480 with 1 Axes>"
            ]
          },
          "metadata": {},
          "output_type": "display_data"
        }
      ],
      "source": [
        "plt.plot(Accuracy)\n",
        "plt.xlabel(\"no. of epochs\")\n",
        "plt.ylabel(\"total accuracy\")\n",
        "plt.title(\"Accuracy\")\n",
        "plt.show()"
      ]
    },
    {
      "cell_type": "code",
      "execution_count": null,
      "metadata": {
        "colab": {
          "background_save": true
        },
        "id": "bf8j7uL2uj21",
        "outputId": "3d312547-8757-437a-ed64-8fa58b8bfa2d"
      },
      "outputs": [
        {
          "name": "stdout",
          "output_type": "stream",
          "text": [
            "The model predicted 5 with the probability of 24.96518898010254.\n",
            "\n"
          ]
        },
        {
          "data": {
            "image/png": "[encoded data removed]",
            "text/plain": [
              "<Figure size 640x480 with 1 Axes>"
            ]
          },
          "metadata": {},
          "output_type": "display_data"
        }
      ],
      "source": [
        "sample = torch.randint(len(test_data), size = (1,)).item()\n",
        "test_sample = test_data[sample][0].view(-1, 28*28)\n",
        "Testing_data(test_sample)"
      ]
    },
    {
      "cell_type": "code",
      "execution_count": null,
      "metadata": {
        "colab": {
          "background_save": true
        },
        "id": "lktTktswumGJ",
        "outputId": "83b82bb9-526a-4053-b829-6bcbbbf8c6e9"
      },
      "outputs": [
        {
          "name": "stdout",
          "output_type": "stream",
          "text": [
            "The expected prediction is 5.\n"
          ]
        }
      ],
      "source": [
        "print(f'The expected prediction is {test_data[sample][1]}.')"
      ]
    },
    {
      "cell_type": "markdown",
      "source": [
        "### Model #10(With more complexity):"
      ],
      "metadata": {
        "id": "D2bLClid_sBb"
      }
    },
    {
      "cell_type": "code",
      "execution_count": null,
      "metadata": {
        "id": "cbSI1mQqusmI"
      },
      "outputs": [],
      "source": [
        "class LogisticRegression(nn.Module):\n",
        " def __init__(self,n_inputs):\n",
        "   super(LogisticRegression,self).__init__()\n",
        "   self.layer1 = nn.Linear(n_inputs,1000)\n",
        "   self.layer2 = nn.Linear(1000, 512)\n",
        "   self.layer3 = nn.Linear(512, 256)\n",
        "   self.layer4 = nn.Linear(256, 256)\n",
        "   self.layer5 = nn.Linear(256, 10)\n",
        "\n",
        " def forward(self,x):\n",
        "   y_pred = self.layer1(x)\n",
        "   y_pred = F.relu(self.layer2(y_pred))\n",
        "   y_pred = F.relu(self.layer3(y_pred))\n",
        "   y_pred = F.relu(self.layer4(y_pred))\n",
        "   y_pred = F.sigmoid(self.layer5(y_pred))\n",
        "   return y_pred"
      ]
    },
    {
      "cell_type": "code",
      "source": [
        "model = LogisticRegression(n_inputs)\n",
        "loss = nn.CrossEntropyLoss()\n",
        "optimizer = torch.optim.Adam(model.parameters(),lr=0.001)\n",
        "n_epoch = 20"
      ],
      "metadata": {
        "id": "wqiq5LYCBVAo"
      },
      "execution_count": null,
      "outputs": []
    },
    {
      "cell_type": "code",
      "source": [
        "Loss = []\n",
        "Accuracy = []\n",
        "for epoch in range(n_epoch):\n",
        "    for i,(images,labels) in enumerate(train_dl):\n",
        "        images = torch.autograd.Variable(images.view(-1,n_inputs))\n",
        "        labels = torch.autograd.Variable(labels)\n",
        "\n",
        "        # Nullify gradients w.r.t. parameters\n",
        "        optimizer.zero_grad()\n",
        "        #forward propagation\n",
        "        output = model(images)\n",
        "        # compute loss based on obtained value and actual label\n",
        "        compute_loss = loss(output,labels)\n",
        "        # backward propagation\n",
        "        compute_loss.backward()\n",
        "        # update the parameters\n",
        "        optimizer.step()\n",
        "\n",
        "\n",
        "        if (i+1)%200 == 0:\n",
        "            # check total accuracy of predicted value and actual label\n",
        "            accurate = 0\n",
        "            total = 0\n",
        "            for images,labels in test_dl:\n",
        "                images = torch.autograd.Variable(images.view(-1,n_inputs))\n",
        "                output = model(images)\n",
        "                _,predicted = torch.max(output.data, 1)\n",
        "                # total labels\n",
        "                total+= labels.size(0)\n",
        "\n",
        "                # Total correct predictions\n",
        "                accurate+= (predicted == labels).sum()\n",
        "                accuracy_score = 100 * accurate/total\n",
        "            Loss.append(compute_loss.item())\n",
        "            Accuracy.append(accuracy_score)\n",
        "            print('Loss: {}. Accuracy: {}'.format(compute_loss.item(), accuracy_score))\n",
        "\n",
        "print('Final Accuracy:',accuracy_score)"
      ],
      "metadata": {
        "colab": {
          "base_uri": "https://localhost:8080/"
        },
        "id": "Hyij51bKBZvb",
        "outputId": "ea657f35-bcd3-477e-c95e-3ce061c487b2"
      },
      "execution_count": null,
      "outputs": [
        {
          "output_type": "stream",
          "name": "stdout",
          "text": [
            "Loss: 1.5748467445373535. Accuracy: 68.04000091552734\n",
            "Loss: 1.6351064443588257. Accuracy: 80.5199966430664\n",
            "Loss: 1.5648802518844604. Accuracy: 76.62999725341797\n",
            "Loss: 1.6924781799316406. Accuracy: 70.05999755859375\n",
            "Loss: 1.683903455734253. Accuracy: 72.62999725341797\n",
            "Loss: 1.7226094007492065. Accuracy: 70.9000015258789\n",
            "Loss: 1.7351758480072021. Accuracy: 67.16999816894531\n",
            "Loss: 1.7254048585891724. Accuracy: 63.91999816894531\n",
            "Loss: 1.6895778179168701. Accuracy: 69.95999908447266\n",
            "Loss: 1.859457015991211. Accuracy: 39.25\n",
            "Loss: 1.956911325454712. Accuracy: 44.38999938964844\n",
            "Loss: 2.078291416168213. Accuracy: 32.279998779296875\n",
            "Loss: 1.8781993389129639. Accuracy: 50.58000183105469\n",
            "Loss: 1.774971604347229. Accuracy: 45.130001068115234\n",
            "Loss: 2.029049873352051. Accuracy: 32.380001068115234\n",
            "Loss: 1.7696607112884521. Accuracy: 44.54999923706055\n",
            "Loss: 2.082575559616089. Accuracy: 35.27000045776367\n",
            "Loss: 1.7847139835357666. Accuracy: 50.040000915527344\n",
            "Loss: 1.7938042879104614. Accuracy: 54.2400016784668\n",
            "Loss: 1.7279247045516968. Accuracy: 54.5\n",
            "Loss: 1.7576043605804443. Accuracy: 54.790000915527344\n",
            "Loss: 1.9532068967819214. Accuracy: 41.84000015258789\n",
            "Loss: 1.9236267805099487. Accuracy: 43.16999816894531\n",
            "Loss: 1.90584397315979. Accuracy: 59.310001373291016\n",
            "Loss: 2.2759287357330322. Accuracy: 18.979999542236328\n",
            "Loss: 2.294990301132202. Accuracy: 19.709999084472656\n",
            "Loss: 2.0436716079711914. Accuracy: 56.369998931884766\n",
            "Loss: 1.8434746265411377. Accuracy: 33.939998626708984\n",
            "Loss: 2.0154190063476562. Accuracy: 38.65999984741211\n",
            "Loss: 1.7467694282531738. Accuracy: 52.540000915527344\n",
            "Loss: 1.5578577518463135. Accuracy: 60.63999938964844\n",
            "Loss: 1.9096444845199585. Accuracy: 49.13999938964844\n",
            "Loss: 1.8741185665130615. Accuracy: 54.41999816894531\n",
            "Loss: 1.730696201324463. Accuracy: 56.900001525878906\n",
            "Loss: 1.9006704092025757. Accuracy: 44.88999938964844\n",
            "Loss: 1.753909707069397. Accuracy: 58.08000183105469\n",
            "Loss: 2.1193275451660156. Accuracy: 39.83000183105469\n",
            "Loss: 2.2491185665130615. Accuracy: 40.90999984741211\n",
            "Loss: 2.1593289375305176. Accuracy: 40.560001373291016\n",
            "Loss: 1.9650040864944458. Accuracy: 40.4900016784668\n",
            "Loss: 1.9586374759674072. Accuracy: 50.16999816894531\n",
            "Loss: 1.9512802362442017. Accuracy: 50.709999084472656\n",
            "Loss: 1.9479005336761475. Accuracy: 51.11000061035156\n",
            "Loss: 1.8091764450073242. Accuracy: 54.439998626708984\n",
            "Loss: 2.1204819679260254. Accuracy: 42.47999954223633\n",
            "Loss: 2.2178683280944824. Accuracy: 38.58000183105469\n",
            "Loss: 2.0845749378204346. Accuracy: 35.31999969482422\n",
            "Loss: 2.169990301132202. Accuracy: 33.11000061035156\n",
            "Loss: 2.281643867492676. Accuracy: 33.43000030517578\n",
            "Loss: 2.192169666290283. Accuracy: 33.95000076293945\n",
            "Loss: 2.0919456481933594. Accuracy: 33.790000915527344\n",
            "Loss: 2.125393867492676. Accuracy: 34.65999984741211\n",
            "Loss: 2.121957302093506. Accuracy: 33.099998474121094\n",
            "Loss: 2.117002248764038. Accuracy: 33.189998626708984\n",
            "Loss: 2.1695919036865234. Accuracy: 26.1200008392334\n",
            "Loss: 2.1021368503570557. Accuracy: 29.56999969482422\n",
            "Loss: 2.1497714519500732. Accuracy: 29.59000015258789\n",
            "Loss: 2.2073163986206055. Accuracy: 29.350000381469727\n",
            "Loss: 2.1943678855895996. Accuracy: 34.59000015258789\n",
            "Loss: 2.173027992248535. Accuracy: 24.6299991607666\n",
            "Loss: 2.222181797027588. Accuracy: 28.670000076293945\n",
            "Loss: 2.179502487182617. Accuracy: 40.63999938964844\n",
            "Loss: 2.231811046600342. Accuracy: 27.899999618530273\n",
            "Loss: 2.0712850093841553. Accuracy: 34.7599983215332\n",
            "Loss: 2.0948452949523926. Accuracy: 34.43000030517578\n",
            "Loss: 2.158721446990967. Accuracy: 32.47999954223633\n",
            "Loss: 2.117002487182617. Accuracy: 35.290000915527344\n",
            "Loss: 2.0947024822235107. Accuracy: 23.6299991607666\n",
            "Loss: 2.2007648944854736. Accuracy: 20.329999923706055\n",
            "Loss: 2.223978281021118. Accuracy: 20.329999923706055\n",
            "Loss: 2.336150646209717. Accuracy: 26.59000015258789\n",
            "Loss: 2.152926445007324. Accuracy: 26.600000381469727\n",
            "Loss: 2.148650646209717. Accuracy: 26.6200008392334\n",
            "Loss: 2.184176445007324. Accuracy: 26.6200008392334\n",
            "Loss: 2.2197024822235107. Accuracy: 26.59000015258789\n",
            "Loss: 2.1614785194396973. Accuracy: 26.579999923706055\n",
            "Loss: 2.169311046600342. Accuracy: 27.75\n",
            "Loss: 2.2397634983062744. Accuracy: 21.760000228881836\n",
            "Loss: 2.3654026985168457. Accuracy: 22.5\n",
            "Loss: 2.261782169342041. Accuracy: 22.420000076293945\n",
            "Loss: 2.2262563705444336. Accuracy: 22.850000381469727\n",
            "Loss: 2.2624216079711914. Accuracy: 22.299999237060547\n",
            "Loss: 2.1864147186279297. Accuracy: 23.139999389648438\n",
            "Loss: 2.21834397315979. Accuracy: 23.610000610351562\n",
            "Loss: 2.267336845397949. Accuracy: 22.260000228881836\n",
            "Loss: 2.172907590866089. Accuracy: 23.739999771118164\n",
            "Loss: 2.2488746643066406. Accuracy: 23.18000030517578\n",
            "Loss: 2.238964557647705. Accuracy: 23.399999618530273\n",
            "Loss: 2.148252487182617. Accuracy: 27.739999771118164\n",
            "Loss: 2.0480282306671143. Accuracy: 30.049999237060547\n",
            "Loss: 2.217226505279541. Accuracy: 19.520000457763672\n",
            "Loss: 2.3025851249694824. Accuracy: 14.270000457763672\n",
            "Loss: 2.2073163986206055. Accuracy: 14.359999656677246\n",
            "Loss: 2.249995708465576. Accuracy: 14.359999656677246\n",
            "Loss: 2.3075404167175293. Accuracy: 14.460000038146973\n",
            "Loss: 2.1760663986206055. Accuracy: 14.460000038146973\n",
            "Loss: 2.3093369007110596. Accuracy: 18.889999389648438\n",
            "Loss: 2.244080066680908. Accuracy: 17.770000457763672\n",
            "Loss: 2.2483558654785156. Accuracy: 17.770000457763672\n",
            "Loss: 2.2256178855895996. Accuracy: 21.209999084472656\n",
            "Loss: 2.2305731773376465. Accuracy: 21.450000762939453\n",
            "Loss: 2.1014575958251953. Accuracy: 21.6200008392334\n",
            "Loss: 2.082714557647705. Accuracy: 30.139999389648438\n",
            "Loss: 2.1303486824035645. Accuracy: 30.1200008392334\n",
            "Loss: 2.187893867492676. Accuracy: 30.1200008392334\n",
            "Loss: 2.305061101913452. Accuracy: 20.139999389648438\n",
            "Loss: 2.2744903564453125. Accuracy: 19.350000381469727\n",
            "Loss: 2.426464319229126. Accuracy: 19.350000381469727\n",
            "Loss: 2.2481956481933594. Accuracy: 19.260000228881836\n",
            "Loss: 2.233330249786377. Accuracy: 18.3799991607666\n",
            "Loss: 2.2519125938415527. Accuracy: 31.760000228881836\n",
            "Loss: 2.1055729389190674. Accuracy: 33.65999984741211\n",
            "Loss: 2.0430729389190674. Accuracy: 33.70000076293945\n",
            "Loss: 2.0430729389190674. Accuracy: 33.70000076293945\n",
            "Loss: 2.0956625938415527. Accuracy: 33.11000061035156\n",
            "Loss: 2.1432971954345703. Accuracy: 32.779998779296875\n",
            "Loss: 2.121957540512085. Accuracy: 32.939998626708984\n",
            "Loss: 2.185976505279541. Accuracy: 33.040000915527344\n",
            "Loss: 2.179502487182617. Accuracy: 32.41999816894531\n",
            "Loss: 2.185976505279541. Accuracy: 32.36000061035156\n",
            "Loss: 2.0743231773376465. Accuracy: 32.36000061035156\n",
            "Loss: 2.2271370887756348. Accuracy: 32.36000061035156\n",
            "Loss: 2.1631178855895996. Accuracy: 32.36000061035156\n",
            "Loss: 2.118521213531494. Accuracy: 20.860000610351562\n",
            "Loss: 2.1448161602020264. Accuracy: 20.860000610351562\n",
            "Loss: 2.1448163986206055. Accuracy: 20.860000610351562\n",
            "Loss: 2.2599058151245117. Accuracy: 21.690000534057617\n",
            "Loss: 2.2286558151245117. Accuracy: 21.690000534057617\n",
            "Loss: 2.286200761795044. Accuracy: 22.18000030517578\n",
            "Loss: 2.2023611068725586. Accuracy: 22.18000030517578\n",
            "Loss: 2.1711111068725586. Accuracy: 22.18000030517578\n",
            "Loss: 2.197406053543091. Accuracy: 22.18000030517578\n",
            "Loss: 2.2023611068725586. Accuracy: 22.18000030517578\n",
            "Loss: 2.2023611068725586. Accuracy: 22.18000030517578\n",
            "Loss: 2.1497716903686523. Accuracy: 22.18000030517578\n",
            "Loss: 2.2023611068725586. Accuracy: 22.18000030517578\n",
            "Loss: 2.1497714519500732. Accuracy: 22.18000030517578\n",
            "Loss: 2.249995708465576. Accuracy: 22.469999313354492\n",
            "Loss: 2.2023611068725586. Accuracy: 22.479999542236328\n",
            "Loss: 2.223700761795044. Accuracy: 22.479999542236328\n",
            "Loss: 2.1810216903686523. Accuracy: 22.479999542236328\n",
            "Loss: 2.1711111068725586. Accuracy: 22.479999542236328\n",
            "Loss: 2.1760663986206055. Accuracy: 22.479999542236328\n",
            "Loss: 2.2599058151245117. Accuracy: 22.479999542236328\n",
            "Loss: 2.2023611068725586. Accuracy: 22.520000457763672\n",
            "Loss: 2.2023611068725586. Accuracy: 22.520000457763672\n",
            "Loss: 2.1974058151245117. Accuracy: 22.520000457763672\n",
            "Loss: 2.254950761795044. Accuracy: 20.59000015258789\n",
            "Loss: 2.249995708465576. Accuracy: 20.110000610351562\n",
            "Loss: 2.1497714519500732. Accuracy: 20.110000610351562\n",
            "Loss: 2.2762904167175293. Accuracy: 20.110000610351562\n",
            "Loss: 2.2762904167175293. Accuracy: 20.110000610351562\n",
            "Loss: 2.249995708465576. Accuracy: 20.110000610351562\n",
            "Loss: 2.1711111068725586. Accuracy: 20.110000610351562\n",
            "Loss: 2.249995708465576. Accuracy: 19.479999542236328\n",
            "Loss: 2.1974058151245117. Accuracy: 19.479999542236328\n",
            "Loss: 2.3075404167175293. Accuracy: 20.81999969482422\n",
            "Loss: 2.278207778930664. Accuracy: 20.360000610351562\n",
            "Loss: 2.2370471954345703. Accuracy: 21.1200008392334\n",
            "Loss: 2.1120471954345703. Accuracy: 21.1299991607666\n",
            "Loss: 2.2271368503570557. Accuracy: 21.1299991607666\n",
            "Loss: 2.1695921421051025. Accuracy: 21.1299991607666\n",
            "Loss: 2.249995708465576. Accuracy: 20.309999465942383\n",
            "Loss: 2.1711111068725586. Accuracy: 20.299999237060547\n",
            "Loss: 2.1974058151245117. Accuracy: 20.31999969482422\n",
            "Loss: 2.1974058151245117. Accuracy: 20.31999969482422\n",
            "Loss: 2.2023611068725586. Accuracy: 20.31999969482422\n",
            "Loss: 2.2286558151245117. Accuracy: 20.31999969482422\n",
            "Loss: 2.223700761795044. Accuracy: 20.31999969482422\n",
            "Loss: 2.223700761795044. Accuracy: 20.31999969482422\n",
            "Loss: 2.2762904167175293. Accuracy: 20.31999969482422\n",
            "Loss: 2.249995708465576. Accuracy: 20.31999969482422\n",
            "Loss: 2.1974058151245117. Accuracy: 20.31999969482422\n",
            "Loss: 2.1711111068725586. Accuracy: 20.31999969482422\n",
            "Loss: 2.1711111068725586. Accuracy: 20.31999969482422\n",
            "Loss: 2.223700761795044. Accuracy: 20.31999969482422\n",
            "Loss: 2.2648611068725586. Accuracy: 20.31999969482422\n",
            "Loss: 2.2762904167175293. Accuracy: 20.31999969482422\n",
            "Loss: 2.1974058151245117. Accuracy: 20.31999969482422\n",
            "Loss: 2.1974058151245117. Accuracy: 20.31999969482422\n",
            "Final Accuracy: tensor(20.3200)\n"
          ]
        }
      ]
    },
    {
      "cell_type": "code",
      "source": [
        "plt.plot(Loss)\n",
        "plt.xlabel(\"no. of epochs\")\n",
        "plt.ylabel(\"total loss\")\n",
        "plt.title(\"Loss\")\n",
        "plt.show()"
      ],
      "metadata": {
        "colab": {
          "base_uri": "https://localhost:8080/",
          "height": 472
        },
        "id": "1eAuJCUNBrIw",
        "outputId": "3704eccd-bd37-455e-e208-bc7551cd12d1"
      },
      "execution_count": null,
      "outputs": [
        {
          "output_type": "display_data",
          "data": {
            "text/plain": [
              "<Figure size 640x480 with 1 Axes>"
            ],
            "image/png": "[encoded data removed]"
          },
          "metadata": {}
        }
      ]
    },
    {
      "cell_type": "code",
      "source": [
        "plt.plot(Accuracy)\n",
        "plt.xlabel(\"no. of epochs\")\n",
        "plt.ylabel(\"total accuracy\")\n",
        "plt.title(\"Accuracy\")\n",
        "plt.show()"
      ],
      "metadata": {
        "colab": {
          "base_uri": "https://localhost:8080/",
          "height": 472
        },
        "id": "iUkLBDxyBtOb",
        "outputId": "fc003c09-e5ea-49e8-bd1f-7799beb4e130"
      },
      "execution_count": null,
      "outputs": [
        {
          "output_type": "display_data",
          "data": {
            "text/plain": [
              "<Figure size 640x480 with 1 Axes>"
            ],
            "image/png": "[encoded data removed]"
          },
          "metadata": {}
        }
      ]
    },
    {
      "cell_type": "code",
      "source": [
        "sample = torch.randint(len(test_data), size = (1,)).item()\n",
        "test_sample = test_data[sample][0].view(-1, 28*28)\n",
        "Testing_data(test_sample)"
      ],
      "metadata": {
        "colab": {
          "base_uri": "https://localhost:8080/",
          "height": 465
        },
        "id": "bwJ_dUYjBj_v",
        "outputId": "3b66182a-019d-48c6-ab8e-62cd5c691997"
      },
      "execution_count": null,
      "outputs": [
        {
          "output_type": "stream",
          "name": "stdout",
          "text": [
            "The model predicted 0 with the probability of 0.0.\n",
            "\n"
          ]
        },
        {
          "output_type": "display_data",
          "data": {
            "text/plain": [
              "<Figure size 640x480 with 1 Axes>"
            ],
            "image/png": "[encoded data removed]"
          },
          "metadata": {}
        }
      ]
    },
    {
      "cell_type": "code",
      "source": [
        "print(f'The expected prediction is {test_data[sample][1]}.')"
      ],
      "metadata": {
        "colab": {
          "base_uri": "https://localhost:8080/"
        },
        "id": "DXWGeQiABoRd",
        "outputId": "d200d247-4808-4e10-f5a9-2c9907ed2746"
      },
      "execution_count": null,
      "outputs": [
        {
          "output_type": "stream",
          "name": "stdout",
          "text": [
            "The expected prediction is 9.\n"
          ]
        }
      ]
    },
    {
      "cell_type": "markdown",
      "source": [
        "## A Simple CNN Model:\n",
        "\n",
        "Here, we re performing two convolution and pooling layers alternatively which we pass into fully connected layers for classification."
      ],
      "metadata": {
        "id": "hogdDZwgB1O8"
      }
    },
    {
      "cell_type": "code",
      "source": [
        "class ConvModel(nn.Module):\n",
        "  def __init__(self):\n",
        "    super().__init__()\n",
        "    self.conv1 = nn.Conv2d(1, 32, 3)\n",
        "    self.pool = nn.MaxPool2d(2,2)\n",
        "    self.conv2 = nn.Conv2d(32, 64, 3)\n",
        "\n",
        "    self.fc1 = nn.Linear(64*5*5, 256)\n",
        "    self.fc2 = nn.Linear(256, 64)\n",
        "    self.fc3 = nn.Linear(64, 10)\n",
        "\n",
        "  def forward(self, x):\n",
        "\n",
        "    y_pred = F.relu(self.conv1(x))\n",
        "    y_pred = self.pool(y_pred)\n",
        "    y_pred = F.relu(self.conv2(y_pred))\n",
        "    y_pred = self.pool(y_pred)\n",
        "    y_pred = torch.flatten(y_pred, 1)\n",
        "    y_pred = F.relu(self.fc1(y_pred))\n",
        "    y_pred = self.fc2(y_pred)\n",
        "    return y_pred"
      ],
      "metadata": {
        "id": "axy5k3cUBvU8"
      },
      "execution_count": null,
      "outputs": []
    },
    {
      "cell_type": "code",
      "source": [
        "model = ConvModel()\n",
        "criterion = nn.CrossEntropyLoss()\n",
        "optimizer = torch.optim.Adam(model.parameters(), lr = 0.001)\n",
        "\n",
        "n_total_steps = len(train_dl)\n",
        "n_epoch = 10"
      ],
      "metadata": {
        "id": "iM33rM5NEEQB"
      },
      "execution_count": null,
      "outputs": []
    },
    {
      "cell_type": "code",
      "source": [
        "loss_list = []\n",
        "iteration_list = []\n",
        "accuracy_list = []\n",
        "\n",
        "predictions_list = []\n",
        "labels_list = []\n"
      ],
      "metadata": {
        "id": "7gDSwLORX6iw"
      },
      "execution_count": null,
      "outputs": []
    },
    {
      "cell_type": "code",
      "source": [
        "for epoch in range(n_epoch):\n",
        "  total_loss = 0.0\n",
        "  for i, (images, labels) in enumerate(train_dl):\n",
        "    images = images\n",
        "    labels = labels\n",
        "\n",
        "    outputs = model(images.view(-1,1,28,28))\n",
        "    loss = criterion(outputs, labels)\n",
        "\n",
        "    loss.backward()\n",
        "    optimizer.step()\n",
        "    optimizer.zero_grad()\n",
        "\n",
        "    total_loss += loss.item()\n",
        "\n",
        "  print(f'Epoch: {epoch+1} , loss: {total_loss / n_total_steps: .3f}')\n",
        "\n"
      ],
      "metadata": {
        "colab": {
          "base_uri": "https://localhost:8080/"
        },
        "id": "gO4HrCYlE5Mz",
        "outputId": "74aa2120-9353-4f6a-a6c1-e5eb0591ec1b"
      },
      "execution_count": null,
      "outputs": [
        {
          "output_type": "stream",
          "name": "stdout",
          "text": [
            "Epoch: 1 , loss:  0.171\n",
            "Epoch: 2 , loss:  0.048\n",
            "Epoch: 3 , loss:  0.032\n",
            "Epoch: 4 , loss:  0.024\n",
            "Epoch: 5 , loss:  0.017\n",
            "Epoch: 6 , loss:  0.013\n",
            "Epoch: 7 , loss:  0.011\n",
            "Epoch: 8 , loss:  0.009\n",
            "Epoch: 9 , loss:  0.007\n",
            "Epoch: 10 , loss:  0.007\n"
          ]
        }
      ]
    },
    {
      "cell_type": "code",
      "source": [
        "with torch.no_grad():\n",
        "    n_correct = 0\n",
        "    n_samples = len(test_dl.dataset)\n",
        "\n",
        "    for images, labels in test_dl:\n",
        "        images = images\n",
        "        labels = labels\n",
        "        outputs = model(images)\n",
        "\n",
        "        # max returns (value ,index)\n",
        "        _, predicted = torch.max(outputs, 1)\n",
        "        n_correct += (predicted == labels).sum().item()\n",
        "\n",
        "    acc = 100.0 * n_correct / n_samples\n",
        "    print(f'Accuracy of the model: {acc} %')"
      ],
      "metadata": {
        "colab": {
          "base_uri": "https://localhost:8080/"
        },
        "id": "4WDhl5nuJkC-",
        "outputId": "b2caf39c-0472-4989-d3bc-221d53ed72ff"
      },
      "execution_count": null,
      "outputs": [
        {
          "output_type": "stream",
          "name": "stdout",
          "text": [
            "Accuracy of the model: 99.09 %\n"
          ]
        }
      ]
    },
    {
      "cell_type": "markdown",
      "source": [
        "Taking random test sample..."
      ],
      "metadata": {
        "id": "CeHZpOI0ZVoK"
      }
    },
    {
      "cell_type": "code",
      "source": [
        "sample = torch.randint(len(test_data), size = (1,)).item()\n",
        "test_sample = test_data[sample][0]\n",
        "type(test_sample)"
      ],
      "metadata": {
        "colab": {
          "base_uri": "https://localhost:8080/"
        },
        "id": "bP3bUwgVYe7e",
        "outputId": "a6eadb32-d051-4b57-9d52-11bd00677618"
      },
      "execution_count": null,
      "outputs": [
        {
          "output_type": "execute_result",
          "data": {
            "text/plain": [
              "torch.Tensor"
            ]
          },
          "metadata": {},
          "execution_count": 35
        }
      ]
    },
    {
      "cell_type": "code",
      "source": [
        "predict = model(test_sample.view(-1,1,28,28))\n",
        "with torch.no_grad():\n",
        "  y_probability = torch.max(predict)\n",
        "  y_prediction = torch.argmax(predict)\n",
        "print(f'The model predicted {y_prediction} with the probability of {y_probability}.\\n')\n"
      ],
      "metadata": {
        "colab": {
          "base_uri": "https://localhost:8080/"
        },
        "id": "HYkHIvdiY9GU",
        "outputId": "726ef781-7244-40dc-d395-24b6906d2553"
      },
      "execution_count": null,
      "outputs": [
        {
          "output_type": "stream",
          "name": "stdout",
          "text": [
            "The model predicted 1 with the probability of 16.440359115600586.\n",
            "\n"
          ]
        }
      ]
    },
    {
      "cell_type": "code",
      "source": [
        "plt.imshow(test_sample.view(28,28), cmap = 'gray')\n",
        "plt.show()"
      ],
      "metadata": {
        "colab": {
          "base_uri": "https://localhost:8080/",
          "height": 430
        },
        "id": "u_km9oTaZgEN",
        "outputId": "97cea159-bcb8-4bc4-f7b1-2a0c1135cff1"
      },
      "execution_count": null,
      "outputs": [
        {
          "output_type": "display_data",
          "data": {
            "text/plain": [
              "<Figure size 640x480 with 1 Axes>"
            ],
            "image/png": "[encoded data removed]"
          },
          "metadata": {}
        }
      ]
    },
    {
      "cell_type": "markdown",
      "source": [
        "## Observations:"
      ],
      "metadata": {
        "id": "FsQ8ecq1bPYK"
      }
    },
    {
      "cell_type": "markdown",
      "source": [
        "1.   Using DNN, we could see *Model #4* with two hidden layers and Adam optimizer  \n",
        "performed really well, gaining 98% accuracy.\n",
        "\n",
        "2.   We could also see 'Overfitting' in *Model #10* due to over complexity on hidden layers and neurons.\n",
        "\n",
        "3.   We have also witnessed our simple CNN model gained accuracy around 99% surpassing all the previous 11 models."
      ],
      "metadata": {
        "id": "F4v_gzmPbkE_"
      }
    },
    {
      "cell_type": "markdown",
      "source": [
        "\\*Note: In above models, while plotting loss and accuracy with epochs, the graph will show epoch above 175. The reason is that we are passing our 60000 training examples in 32 batches and we are considering mulitples of 200th batch data strictly. So, (60000/32*200)*20 = 187.5"
      ],
      "metadata": {
        "id": "Bv3rF96vdEiY"
      }
    }
  ],
  "metadata": {
    "colab": {
      "provenance": []
    },
    "kernelspec": {
      "display_name": "Python 3",
      "name": "python3"
    },
    "language_info": {
      "name": "python"
    }
  },
  "nbformat": 4,
  "nbformat_minor": 0
}